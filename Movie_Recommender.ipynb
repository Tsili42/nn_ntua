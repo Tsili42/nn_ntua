{
 "cells": [
  {
   "cell_type": "markdown",
   "metadata": {
    "_uuid": "f2723bcc892ed6eae2939ea45311d579904652ce",
    "colab_type": "text",
    "id": "hLFXD3IePSyL"
   },
   "source": [
    "# Εργαστηριακή Άσκηση 2. Μη επιβλεπόμενη μάθηση. \n",
    "## Σύστημα συστάσεων βασισμένο στο περιεχόμενο\n",
    "## Σημασιολογική απεικόνιση δεδομένων με χρήση SOM \n",
    "\n",
    "* Νίκος Τσιλιβής, ΑΜ: 03114078\n",
    "* Φοίβος Καλογιάννης, ΑΜ: 03114831"
   ]
  },
  {
   "cell_type": "code",
   "execution_count": 0,
   "metadata": {
    "_uuid": "335b8252d1701b36e8eacd60e587946c8b5df363",
    "colab": {},
    "colab_type": "code",
    "collapsed": true,
    "id": "S5wbBzIYnird"
   },
   "outputs": [],
   "source": [
    "import pip\n",
    "import numpy\n",
    "import pandas\n",
    "import nltk"
   ]
  },
  {
   "cell_type": "markdown",
   "metadata": {
    "_uuid": "3f14a5fb32a7b5d47d652560b570700ce854531a",
    "colab_type": "text",
    "id": "aViHqlQcPSyP"
   },
   "source": [
    "## Εισαγωγή του Dataset"
   ]
  },
  {
   "cell_type": "markdown",
   "metadata": {
    "_uuid": "ec36d85667eea1091f9779cd6acd49ac1d468a97",
    "colab_type": "text",
    "id": "2ZVmdDExPSyQ"
   },
   "source": [
    "Το σύνολο δεδομένων με το οποίο θα δουλέψουμε είναι βασισμένο στο [Carnegie Mellon Movie Summary Corpus](http://www.cs.cmu.edu/~ark/personas/). Πρόκειται για ένα dataset με περίπου 40.000 περιγραφές ταινιών. Η περιγραφή κάθε ταινίας αποτελείται από τον τίτλο της, μια ή περισσότερες ετικέτες που χαρακτηρίζουν το είδος της ταινίας και τέλος τη σύνοψη της υπόθεσής της. Αρχικά εισάγουμε το dataset (χρησιμοποιήστε αυτούσιο τον κώδικα, δεν χρειάζεστε το αρχείο csv) στο dataframe `df_data_1`: "
   ]
  },
  {
   "cell_type": "code",
   "execution_count": 0,
   "metadata": {
    "_uuid": "1699187b7e78ae75fc6a6b5e3d5ccbb380c0caf8",
    "colab": {},
    "colab_type": "code",
    "collapsed": true,
    "id": "62SOj46gPSyS"
   },
   "outputs": [],
   "source": [
    "import pandas as pd\n",
    "\n",
    "dataset_url = \"https://drive.google.com/uc?export=download&id=1PdkVDENX12tQliCk_HtUnAUbfxXvnWuG\"\n",
    "# make direct link for drive docs this way https://www.labnol.org/internet/direct-links-for-google-drive/28356/\n",
    "df_data_1 = pd.read_csv(dataset_url, sep='\\t',  header=None, quoting=3, error_bad_lines=False)"
   ]
  },
  {
   "cell_type": "markdown",
   "metadata": {
    "_uuid": "6098e4df18691270acf919e9c999e694ff143f79",
    "colab_type": "text",
    "id": "7TAEZGdIPSyW"
   },
   "source": [
    "Κάθε ομάδα θα δουλέψει σε ένα μοναδικό υποσύνολο 5.000 ταινιών (διαφορετικό dataset για κάθε ομάδα) ως εξής\n",
    "\n",
    "1. Κάθε ομάδα μπορεί να βρει [εδώ](https://docs.google.com/spreadsheets/d/12AmxMqvjrc0ruNmZYTBNxvnEktbec1DRG64LW7SX4HA/edit?usp=sharing) τον μοναδικό  αριθμό της \"Seed\" από 1 έως 128. \n",
    "\n",
    "2. Το data frame `df_data_2` έχει 128 γραμμές (ομάδες) και 5.000 στήλες. Σε κάθε ομάδα αντιστοιχεί η γραμμή του πίνακα με το `team_seed_number` της. Η γραμμή αυτή θα περιλαμβάνει 5.000 διαφορετικούς αριθμούς που αντιστοιχούν σε ταινίες του αρχικού dataset. \n",
    "\n",
    "3. Στο επόμενο κελί αλλάξτε τη μεταβλητή `team_seed_number` με το Seed της ομάδας σας από το Google Sheet.\n",
    "\n",
    "4. Τρέξτε τον κώδικα. Θα προκύψουν τα μοναδικά για κάθε ομάδα  titles, categories, catbins, summaries και corpus με τα οποία θα δουλέψετε."
   ]
  },
  {
   "cell_type": "code",
   "execution_count": 0,
   "metadata": {
    "_uuid": "6a43f14eeadf46122b5a9b0c198b2702d2bb6496",
    "colab": {},
    "colab_type": "code",
    "collapsed": true,
    "id": "2POlqDjkPSyY"
   },
   "outputs": [],
   "source": [
    "import numpy as np\n",
    "\n",
    "# βάλτε το seed που αντιστοιχεί στην ομάδα σας\n",
    "team_seed_number = 25 # 25\n",
    "\n",
    "movie_seeds_url = \"https://drive.google.com/uc?export=download&id=1NkzL6rqv4DYxGY-XTKkmPqEoJ8fNbMk_\"\n",
    "df_data_2 = pd.read_csv(movie_seeds_url, header=None, error_bad_lines=False)\n",
    "\n",
    "# επιλέγεται \n",
    "my_index = df_data_2.iloc[team_seed_number,:].values\n",
    "\n",
    "titles = df_data_1.iloc[:, [2]].values[my_index] # movie titles (string)\n",
    "categories = df_data_1.iloc[:, [3]].values[my_index] # movie categories (string)\n",
    "bins = df_data_1.iloc[:, [4]]\n",
    "catbins = bins[4].str.split(',', expand=True).values.astype(np.float)[my_index] # movie categories in binary form (1 feature per category)\n",
    "summaries =  df_data_1.iloc[:, [5]].values[my_index] # movie summaries (string)\n",
    "corpus = summaries[:,0].tolist() # list form of summaries"
   ]
  },
  {
   "cell_type": "markdown",
   "metadata": {
    "_uuid": "f18c4094cd3af45e021121f109b64f3377c1ed63",
    "colab_type": "text",
    "id": "If66lkwxPSyb"
   },
   "source": [
    "- Ο πίνακας **titles** περιέχει τους τίτλους των ταινιών. Παράδειγμα: 'Sid and Nancy'.\n",
    "- O πίνακας **categories** περιέχει τις κατηγορίες (είδη) της ταινίας υπό τη μορφή string. Παράδειγμα: '\"Tragedy\",  \"Indie\",  \"Punk rock\",  \"Addiction Drama\",  \"Cult\",  \"Musical\",  \"Drama\",  \"Biopic \\[feature\\]\",  \"Romantic drama\",  \"Romance Film\",  \"Biographical film\"'. Παρατηρούμε ότι είναι μια comma separated λίστα strings, με κάθε string να είναι μια κατηγορία.\n",
    "- Ο πίνακας **catbins** περιλαμβάνει πάλι τις κατηγορίες των ταινιών αλλά σε δυαδική μορφή ([one hot encoding](https://hackernoon.com/what-is-one-hot-encoding-why-and-when-do-you-have-to-use-it-e3c6186d008f)). Έχει διαστάσεις 5.000 x 322 (όσες οι διαφορετικές κατηγορίες). Αν η ταινία ανήκει στο συγκεκριμένο είδος η αντίστοιχη στήλη παίρνει την τιμή 1, αλλιώς παίρνει την τιμή 0.\n",
    "- Ο πίνακας **summaries** και η λίστα **corpus** περιλαμβάνουν τις συνόψεις των ταινιών (η corpus είναι απλά ο summaries σε μορφή λίστας). Κάθε σύνοψη είναι ένα (συνήθως μεγάλο) string. Παράδειγμα: *'The film is based on the real story of a Soviet Internal Troops soldier who killed his entire unit  as a result of Dedovschina. The plot unfolds mostly on board of the prisoner transport rail car guarded by a unit of paramilitary conscripts.'*\n",
    "- Θεωρούμε ως **ID** της κάθε ταινίας τον αριθμό γραμμής της ή το αντίστοιχο στοιχείο της λίστας. Παράδειγμα: για να τυπώσουμε τη σύνοψη της ταινίας με `ID=99` (την εκατοστή) θα γράψουμε `print(corpus[99])`."
   ]
  },
  {
   "cell_type": "code",
   "execution_count": 0,
   "metadata": {
    "_uuid": "4ba716748a53a30edbe5b37433413334e4fa9ee8",
    "colab": {
     "base_uri": "https://localhost:8080/",
     "height": 343
    },
    "colab_type": "code",
    "collapsed": false,
    "id": "k_7A3KXLp0qS",
    "outputId": "56d20381-ddd9-4f9b-cc82-675b838f737f",
    "scrolled": true
   },
   "outputs": [
    {
     "name": "stdout",
     "output_type": "stream",
     "text": [
      "['The Student Prince in Old Heidelberg']\n",
      "['\"Romantic comedy\",  \"Silent film\",  \"Melodrama\",  \"Indie\",  \"Comedy-drama\",  \"Black-and-white\",  \"Drama\",  \"Comedy\",  \"Romance Film\"']\n",
      "[0. 0. 0. 0. 0. 0. 0. 0. 0. 0. 0. 0. 0. 0. 0. 0. 0. 0. 0. 0. 0. 0. 0. 0.\n",
      " 0. 0. 0. 0. 0. 0. 0. 0. 0. 0. 0. 0. 0. 0. 0. 0. 0. 1. 0. 0. 0. 0. 0. 0.\n",
      " 0. 0. 0. 0. 0. 0. 0. 0. 0. 0. 0. 0. 0. 0. 0. 0. 0. 0. 0. 1. 0. 0. 0. 0.\n",
      " 0. 0. 1. 0. 0. 0. 0. 0. 0. 0. 0. 0. 0. 0. 0. 0. 0. 0. 0. 0. 0. 0. 0. 0.\n",
      " 0. 0. 0. 0. 0. 0. 0. 0. 0. 1. 0. 0. 0. 0. 0. 0. 0. 0. 0. 0. 0. 0. 0. 0.\n",
      " 0. 0. 0. 0. 0. 0. 0. 0. 0. 0. 0. 0. 0. 0. 0. 0. 0. 0. 0. 0. 0. 0. 0. 0.\n",
      " 0. 0. 0. 0. 0. 0. 0. 0. 0. 0. 0. 0. 0. 0. 0. 0. 0. 0. 0. 0. 0. 0. 0. 0.\n",
      " 0. 0. 0. 0. 0. 0. 0. 0. 0. 0. 0. 1. 0. 0. 0. 0. 0. 0. 0. 0. 0. 0. 0. 0.\n",
      " 0. 0. 0. 0. 0. 0. 0. 0. 0. 0. 0. 0. 1. 0. 0. 0. 0. 0. 0. 0. 0. 0. 0. 0.\n",
      " 0. 0. 0. 0. 0. 0. 0. 0. 0. 0. 0. 0. 0. 0. 0. 0. 0. 0. 0. 0. 0. 0. 0. 0.\n",
      " 0. 0. 0. 0. 0. 0. 0. 0. 0. 0. 0. 0. 0. 0. 0. 0. 1. 1. 0. 0. 0. 0. 0. 0.\n",
      " 0. 0. 0. 0. 0. 0. 0. 0. 1. 0. 0. 0. 0. 0. 0. 0. 0. 0. 0. 0. 0. 0. 0. 0.\n",
      " 0. 0. 0. 0. 0. 0. 0. 0. 0. 0. 0. 0. 0. 0. 0. 0. 0. 0. 0. 0. 0. 0. 0. 0.\n",
      " 0. 0. 0. 0. 0. 0. 0. 0. 0. 0.]\n",
      "Young Crown Prince Karl Heinrich , heir to the kingdom of Karlsburg, is brought to live with his stern uncle, King Karl VII . The king immediately dismisses the boy's nanny  without telling the youngster to avoid an emotional farewell. Fortunately, Dr. Friedrich Jüttner , his new tutor, proves to be sympathetic, and they become lifelong friends. Nonetheless, despite the commoners' belief that it must be wonderful to be him, the boy grows up lonely, without playmates his own age. Upon passing his high school examination in 1901, the young prince  is delighted to learn that both he and Jüttner are being sent to Heidelberg, where he will continue his education. When they arrive, Karl's servant is appalled at the rooms provided for the prince and Jüttner at the inn of Ruder . When Ruder's niece Kathi  stoutly defends the centuries-old family business, Karl is entranced by her, and decides to stay. He is quickly made a member of Corps Saxonia, a student society. Later that day, Karl tries to kiss Kathi, only to learn that she is engaged. Her family approves of her fiance, but she is not so sure about him. She eventually confesses to Karl that, despite the vast social gulf between them, she has fallen in love with him. Karl feels the same about her and swears that he will let nothing separate them. When he takes her boating, their rower, Johann Kellermann, turns his back to them to give them some privacy. Karl jokingly tells him that, when he is king, he will make Kellermann his majordomo. Then Jüttner receives a letter from the king ordering him to inform Karl that he has selected a princess for him to marry. Jüttner cannot bring himself to destroy his friend's happiness. That same day, however, Prime Minister von Haugk  arrives with the news that the king is seriously ill, and that Karl must go home and take up the reins of government. When Karl sees his uncle, he is told of the matrimonial plans. While Karl is still reeling from the shock, the old king dies, followed by Jüttner. Later, von Haugk presses the new monarch about the marriage. The anguished Karl signs the document for the wedding. Then Kellermann shows up to take the job Karl had offered him. When Karl asks him about Kathi, he learns that she is still waiting for him. He goes to see her one last time. In the last scene, Karl is shown riding through the streets in a carriage with his bride. One onlooker remarks that it must be wonderful to be king, unaware of Karl's misery.\n",
      "<class 'list'>\n"
     ]
    }
   ],
   "source": [
    "ID = 104\n",
    "print(titles[ID])\n",
    "print(categories[ID])\n",
    "print(catbins[ID])\n",
    "print(corpus[ID])\n",
    "print(type(corpus))"
   ]
  },
  {
   "cell_type": "markdown",
   "metadata": {
    "_uuid": "b9e426133614849563bc3182156025e3c3bc454c",
    "colab_type": "text",
    "id": "UTNgwBfjPSyc"
   },
   "source": [
    "# Εφαρμογή 1. Υλοποίηση συστήματος συστάσεων ταινιών βασισμένο στο περιεχόμενο\n",
    "<img src=\"http://clture.org/wp-content/uploads/2015/12/Netflix-Streaming-End-of-Year-Posts.jpg\" width=\"50%\">"
   ]
  },
  {
   "cell_type": "markdown",
   "metadata": {
    "_uuid": "0d4e27ddac963abe36c91dd62f30a14cd86b6789",
    "colab_type": "text",
    "id": "rnA2RP8GPSyf"
   },
   "source": [
    "Η πρώτη εφαρμογή που θα αναπτύξετε θα είναι ένα [σύστημα συστάσεων](https://en.wikipedia.org/wiki/Recommender_system) ταινιών βασισμένο στο περιεχόμενο (content based recommender system). Τα συστήματα συστάσεων στοχεύουν στο να προτείνουν αυτόματα στο χρήστη αντικείμενα από μια συλλογή τα οποία ιδανικά θέλουμε να βρει ενδιαφέροντα ο χρήστης. Η κατηγοριοποίηση των συστημάτων συστάσεων βασίζεται στο πώς γίνεται η επιλογή (filtering) των συστηνόμενων αντικειμένων. Οι δύο κύριες κατηγορίες είναι η συνεργατική διήθηση (collaborative filtering) όπου το σύστημα προτείνει στο χρήστη αντικείμενα που έχουν αξιολογηθεί θετικά από χρήστες που έχουν παρόμοιο με αυτόν ιστορικό αξιολογήσεων και η διήθηση με βάση το περιεχόμενο (content based filtering), όπου προτείνονται στο χρήστη αντικείμενα με παρόμοιο περιεχόμενο (με βάση κάποια χαρακτηριστικά) με αυτά που έχει προηγουμένως αξιολογήσει θετικά.\n",
    "\n",
    "Το σύστημα συστάσεων που θα αναπτύξετε θα βασίζεται στο **περιεχόμενο** και συγκεκριμένα στις συνόψεις των ταινιών (corpus). \n"
   ]
  },
  {
   "cell_type": "markdown",
   "metadata": {
    "_uuid": "af235cb12aa2bfe7d5d875d9a7dfc11c7698491b",
    "colab_type": "text",
    "id": "DD5KuSKrxQ8I"
   },
   "source": [
    "## Μετατροπή σε TFIDF\n",
    "\n",
    "Το πρώτο βήμα θα είναι λοιπόν να μετατρέψετε το corpus σε αναπαράσταση tf-idf:"
   ]
  },
  {
   "cell_type": "code",
   "execution_count": 0,
   "metadata": {
    "_uuid": "82d57d486418db5be90876a33f0c4602b79241e8",
    "colab": {},
    "colab_type": "code",
    "collapsed": true,
    "id": "eIWON0wC80ZS"
   },
   "outputs": [],
   "source": [
    "from sklearn.feature_extraction.text import CountVectorizer\n",
    "from nltk.stem.snowball import SnowballStemmer\n",
    "import string\n",
    "stem_corpus = []\n",
    "for movie in corpus:\n",
    "  words = [SnowballStemmer(\"porter\").stem(word.lower().translate({ord(c): None for c in string.punctuation})) for word in movie.split()] #stemming and punctuation removal\n",
    "  stem_corpus.append(\" \".join(words))"
   ]
  },
  {
   "cell_type": "code",
   "execution_count": 0,
   "metadata": {
    "_uuid": "1742eaeeb84d500802e01d4333784c228d239501",
    "colab": {},
    "colab_type": "code",
    "collapsed": true,
    "id": "1FTLTblWZuSx"
   },
   "outputs": [],
   "source": [
    "#from google.colab import files ## Run this cell only if in colab environment\n",
    "\n",
    "#uploaded = files.upload()\n",
    "\n",
    "#for fn in uploaded.keys():\n",
    "  #print('User uploaded file \"{name}\" with length {length} bytes'.format(\n",
    "      #name=fn, length=len(uploaded[fn])))"
   ]
  },
  {
   "cell_type": "code",
   "execution_count": 0,
   "metadata": {
    "_uuid": "84b57b56b2c4292272965b485d0570a7ae98f187",
    "colab": {},
    "colab_type": "code",
    "collapsed": true,
    "id": "IBhvsZ3IZ3lT"
   },
   "outputs": [],
   "source": [
    "df = pd.read_excel('../input/SSA_Names_DB.xlsx', sheet_name=None) ## path refers to a kaggle environment"
   ]
  },
  {
   "cell_type": "code",
   "execution_count": 0,
   "metadata": {
    "_uuid": "93bb3f0167c42109e67510531c93a8b2809f8c2a",
    "colab": {},
    "colab_type": "code",
    "collapsed": true,
    "id": "1Nne2pWbeA4p"
   },
   "outputs": [],
   "source": [
    "names = [word.lower() for word in list(df['Sheet1']['Name'][0:2000])] "
   ]
  },
  {
   "cell_type": "code",
   "execution_count": 0,
   "metadata": {
    "_uuid": "30bbc912b9c874ff82d96e8144c05d447e013910",
    "colab": {
     "base_uri": "https://localhost:8080/",
     "height": 71
    },
    "colab_type": "code",
    "collapsed": false,
    "id": "PDU3vu_YNwER",
    "outputId": "7c569df8-38fc-49e1-9079-8aebbcfee41c"
   },
   "outputs": [
    {
     "name": "stdout",
     "output_type": "stream",
     "text": [
      "chandu and suri rajendra prasad are pilot and thick friend indu and padma kasthuri are veri good friend chandu get marri to indu and suri marri padma indu and padma becom pregnant indu meet with a car accid and she becom infertil padma give birth to twin ram and lakshman indu and chandu adopt ram after three year lakshman is infect by cancer he need to undergo bone marrow transplant indu refus and flee with ram to delhi fear that chandu will forc her to send ram for oper later on she realiz her mistak and board a flight to return to her husband so that ram can be oper upon pakistani milit hijack the flight and they divert the flight rout lakshman is on hi deathb how chandu rescu the flight passeng and put an end to the stori form the climax there is a bit of plagiar subplot from the god must be crazi\n"
     ]
    }
   ],
   "source": [
    "print(stem_corpus[55])"
   ]
  },
  {
   "cell_type": "code",
   "execution_count": 0,
   "metadata": {
    "_uuid": "a4c80d9bb27d7b8c083df0477d68ded8f7d1c3c9",
    "colab": {},
    "colab_type": "code",
    "collapsed": true,
    "id": "s5YP6XCZPSyh"
   },
   "outputs": [],
   "source": [
    "from sklearn.feature_extraction.text import TfidfVectorizer\n",
    "vectorizer = TfidfVectorizer(strip_accents='ascii', stop_words=names, min_df=5, max_df=0.7, sublinear_tf=True)\n",
    "corpus_tf_idf = vectorizer.fit_transform(stem_corpus)\n",
    "corpusA_tf_idf = corpus_tf_idf.toarray()# 1st change: fit_transform is more efficiently implemented"
   ]
  },
  {
   "cell_type": "code",
   "execution_count": 0,
   "metadata": {
    "_uuid": "1b686ffa17b3e904dfcb432d896895faaacff4f9",
    "colab": {
     "base_uri": "https://localhost:8080/",
     "height": 88
    },
    "colab_type": "code",
    "collapsed": false,
    "id": "y_Cw0brpnisF",
    "outputId": "aea9ede4-09b0-4c36-b4ef-b0148cc1bb39"
   },
   "outputs": [
    {
     "name": "stdout",
     "output_type": "stream",
     "text": [
      "(5000, 8923)\n",
      "['10', '100', '1000', '10000', '100000', '10th', '10yearold', '11', '11yearold', '12', '12th', '12yearold', '13', '13th', '13yearold', '14', '14th', '14yearold', '15', '150', '15th', '15yearold', '16', '16th', '16yearold', '17', '17th', '17yearold', '18', '1870', '1880', '1890', '18th', '18yearold', '19', '1900', '1910', '1912', '1914', '1917', '1918', '1920', '1923', '1924', '1927', '1928', '1929', '1930', '1931', '1933', '1935', '1936', '1939', '1940', '1941', '1942', '1943', '1944', '1945', '1946', '1949', '1950', '1953', '1955', '1956', '1957', '1958', '1959', '1960', '1961', '1962', '1963', '1964', '1965', '1966', '1968', '1969', '1970', '1971', '1972', '1973', '1974', '1975', '1976', '1977', '1978', '1979', '1980', '1981', '1982', '1983', '1984', '1985', '1987', '1988', '1989', '1990', '1991', '1992', '1993', '1994', '1995', '1996', '1998', '1999', '19th', '19yearold', '1st', '20', '200', '2000', '20000', '200000', '2001', '2002', '2003', '2004', '2005', '2006', '2007', '2008', '2009', '2010', '2011', '2012', '20th', '21', '21st', '21yearold', '22', '22yearold', '23', '24', '25', '250', '25000', '26', '27', '28', '29', '2nd', '30', '300', '3000', '30000', '300000', '31', '32', '35', '36', '3d', '3rd', '40', '400', '45', '47', '48', '50', '500', '5000', '50000', '500000', '5th', '60', '600', '65', '66', '6th', '70', '72', '7th', '80', '84', '8s', '8yearold', '90', '911', '95', '9th', 'aback', 'abandon', 'abbi', 'abbot', 'abbott', 'abdomen', 'abduct', 'abdul', 'abil', 'abl', 'ablaz', 'abnorm', 'aboard', 'abod', 'aborigin', 'abort', 'about', 'abov', 'abroad', 'abruptli', 'absenc', 'absent', 'absolut', 'absolv', 'absorb', 'abstain', 'absurd', 'abu', 'abus', 'academ', 'academi', 'acapulco', 'acceler', 'accent', 'accept', 'access', 'accid', 'accident', 'acclaim', 'accommod', 'accompani', 'accomplic', 'accomplish', 'accord', 'accost', 'account', 'accumul', 'accur', 'accus', 'achiev', 'acid', 'acknowledg', 'acm', 'acp', 'acquaint', 'acquiesc', 'acquir', 'acquit', 'acquitt', 'acr', 'acrobat', 'across', 'act', 'action', 'activ', 'activist', 'actor', 'actress', 'actual', 'ad', 'adapt', 'add', 'addict', 'addit', 'address', 'adel', 'adelaid', 'adept', 'adequ', 'aditya', 'adjac', 'adjust', 'administ', 'administr', 'admir', 'admiss', 'admit', 'admonish', 'adolesc', 'adolf', 'adopt', 'ador', 'adrift', 'adult', 'adulter', 'adulteri', 'adulthood', 'advanc', 'advantag', 'adventur', 'advers', 'adversari', 'advertis', 'advic', 'advis', 'advisor', 'advoc', 'aerial', 'aeroplan', 'afar', 'affair', 'affect', 'affection', 'affin', 'affirm', 'afflict', 'affluent', 'afford', 'afghanistan', 'afloat', 'afoul', 'afraid', 'afresh', 'africa', 'african', 'africanamerican', 'after', 'afterlif', 'aftermath', 'afternoon', 'afterward', 'again', 'against', 'age', 'agenc', 'agenda', 'agent', 'aggress', 'aghast', 'agil', 'agit', 'agn', 'ago', 'agon', 'agoni', 'agre', 'agreement', 'agricultur', 'aground', 'ah', 'ahead', 'ahm', 'ai', 'aid', 'ail', 'aim', 'aimlessli', 'aint', 'air', 'airbas', 'airborn', 'aircraft', 'airfield', 'airlin', 'airman', 'airmen', 'airplan', 'airport', 'aj', 'ajay', 'aka', 'akash', 'akiko', 'al', 'ala', 'alabama', 'alarm', 'alaska', 'albeit', 'album', 'alcohol', 'alert', 'alexand', 'alfr', 'alibi', 'alic', 'alien', 'alight', 'align', 'alik', 'alistair', 'aliv', 'all', 'alleg', 'allegedli', 'allegi', 'allerg', 'alley', 'alleyway', 'allgirl', 'alli', 'allianc', 'allig', 'allnight', 'alloc', 'allout', 'allow', 'allud', 'allur', 'allus', 'almighti', 'almost', 'alon', 'along', 'alongsid', 'aloof', 'aloud', 'alp', 'alpha', 'alphabet', 'alreadi', 'alright', 'also', 'altar', 'alter', 'alterc', 'altern', 'although', 'altitud', 'altogeth', 'alway', 'am', 'amar', 'amass', 'amateur', 'amaz', 'amazon', 'ambassador', 'ambigu', 'ambit', 'ambiti', 'ambul', 'ambush', 'ame', 'amend', 'american', 'ami', 'amic', 'amid', 'amidst', 'amiss', 'ammu', 'ammunit', 'amnesia', 'among', 'amongst', 'amor', 'amount', 'amphibi', 'amplifi', 'amput', 'amsterdam', 'amus', 'an', 'analysi', 'analyst', 'analyz', 'anand', 'anarchi', 'anarchist', 'ancestor', 'ancestr', 'ancestri', 'anchor', 'ancient', 'ander', 'andhra', 'andor', 'andr', 'android', 'anew', 'anger', 'angi', 'angl', 'angri', 'angrili', 'anguish', 'ani', 'anim', 'animos', 'anita', 'anjali', 'ankl', 'anni', 'annihil', 'anniversari', 'announc', 'annoy', 'annual', 'annul', 'anonym', 'anoth', 'answer', 'ant', 'antagon', 'antagonist', 'antarctica', 'antenna', 'anthoni', 'anthropolog', 'anthropomorph', 'antic', 'anticip', 'antidot', 'antiqu', 'antisemit', 'antisoci', 'antoin', 'anton', 'anu', 'anvil', 'anxieti', 'anxiou', 'anybodi', 'anymor', 'anyon', 'anyth', 'anyway', 'anywher', 'apach', 'apart', 'apartheid', 'apathet', 'ape', 'apolog', 'apologis', 'appal', 'appar', 'apparit', 'appeal', 'appear', 'appeas', 'appetit', 'appl', 'applaud', 'applaus', 'appli', 'applic', 'appoint', 'appreci', 'apprehend', 'apprehens', 'apprentic', 'approach', 'appropri', 'approv', 'approxim', 'arab', 'arabian', 'arcad', 'arch', 'archaeolog', 'archaeologist', 'archbishop', 'archeolog', 'archeri', 'archetyp', 'archi', 'archipelago', 'architect', 'architectur', 'archiv', 'arctic', 'ardent', 'are', 'area', 'arena', 'arent', 'argentin', 'argentina', 'argu', 'argument', 'aris', 'aristocrat', 'arizona', 'arkansa', 'arm', 'armi', 'armor', 'armour', 'armstrong', 'arnold', 'around', 'arous', 'arrang', 'arrest', 'arriv', 'arrog', 'arrow', 'arsen', 'arson', 'art', 'arti', 'articl', 'artifact', 'artifici', 'artilleri', 'artist', 'artwork', 'arun', 'as', 'ascend', 'ascertain', 'ash', 'asha', 'asham', 'ashok', 'ashor', 'asian', 'asid', 'ask', 'asleep', 'aspect', 'aspir', 'ass', 'assail', 'assassin', 'assault', 'assembl', 'assert', 'assess', 'asset', 'assign', 'assist', 'associ', 'assort', 'assum', 'assumpt', 'assur', 'asteroid', 'astonish', 'astound', 'astrolog', 'astronaut', 'asylum', 'at', 'ate', 'atheist', 'athen', 'athlet', 'atlant', 'atlanta', 'atmospher', 'atom', 'aton', 'atop', 'atroc', 'attach', 'attack', 'attain', 'attempt', 'attend', 'attende', 'attent', 'attic', 'attir', 'attitud', 'attorney', 'attract', 'attribut', 'auction', 'audienc', 'audio', 'audit', 'augustin', 'aunt', 'australia', 'australian', 'austria', 'austrian', 'authent', 'author', 'autist', 'auto', 'autocrat', 'autograph', 'autom', 'automat', 'automobil', 'avail', 'avalanch', 'aveng', 'avenu', 'averag', 'avert', 'aviat', 'avoid', 'aw', 'await', 'awak', 'awaken', 'awar', 'award', 'away', 'awe', 'awkward', 'awkwardli', 'awoken', 'awri', 'axe', 'baba', 'babe', 'babi', 'babu', 'babysit', 'babysitt', 'bachchan', 'bachelor', 'back', 'backdrop', 'backer', 'backfir', 'background', 'backpack', 'backstag', 'backup', 'backward', 'backyard', 'bad', 'baddi', 'badg', 'badger', 'badli', 'baffl', 'bag', 'baggag', 'baghdad', 'bai', 'bail', 'bait', 'bake', 'baker', 'bakeri', 'balanc', 'balconi', 'bald', 'baldwin', 'balk', 'ball', 'ballad', 'ballerina', 'ballet', 'balloon', 'ballot', 'ballroom', 'baltimor', 'balu', 'bamboo', 'ban', 'banal', 'banana', 'band', 'bandag', 'bandit', 'bandmat', 'bang', 'bangalor', 'bangkok', 'banish', 'bank', 'banker', 'bankrupt', 'bankruptci', 'banner', 'banquet', 'banter', 'baptism', 'baptist', 'bar', 'barb', 'barbarian', 'barbecu', 'barber', 'barbershop', 'bare', 'barg', 'bargain', 'bark', 'barker', 'barman', 'barn', 'barney', 'baro', 'baron', 'barrack', 'barrag', 'barrel', 'barren', 'barri', 'barricad', 'barrier', 'bart', 'bartend', 'bartlett', 'base', 'basebal', 'basement', 'bash', 'basi', 'basic', 'basket', 'basketbal', 'basqu', 'bass', 'bastard', 'bat', 'bate', 'bath', 'bathroom', 'bathtub', 'batman', 'battalion', 'batter', 'batteri', 'battl', 'battlefield', 'battleship', 'baxter', 'bay', 'bbc', 'bc', 'be', 'beach', 'beachfront', 'beacon', 'beam', 'bean', 'bear', 'beard', 'beast', 'beat', 'beaten', 'beatric', 'beauti', 'beaver', 'becam', 'becaus', 'beck', 'becker', 'becki', 'beckon', 'becom', 'bed', 'bedford', 'bedridden', 'bedroom', 'bedsid', 'bedtim', 'bee', 'been', 'beep', 'beer', 'beethoven', 'beetl', 'befor', 'beforehand', 'befriend', 'beg', 'began', 'beggar', 'begin', 'begrudgingli', 'begun', 'behalf', 'behav', 'behavior', 'behaviour', 'behead', 'behest', 'behind', 'beleagu', 'belgian', 'belgium', 'belief', 'believ', 'belittl', 'bell', 'belli', 'belong', 'belov', 'below', 'belt', 'bemus', 'bench', 'bend', 'bender', 'beneath', 'benefactor', 'benefit', 'benevol', 'bengal', 'bengali', 'benji', 'benni', 'bent', 'berat', 'berlin', 'bernard', 'berri', 'berserk', 'bert', 'bertha', 'berti', 'beset', 'besid', 'besieg', 'besot', 'bessi', 'best', 'bestsel', 'bet', 'beth', 'betray', 'betroth', 'betsi', 'better', 'betti', 'between', 'beverli', 'bewild', 'beyond', 'bhai', 'bias', 'bibl', 'biblic', 'bicker', 'bicycl', 'bid', 'bidder', 'big', 'bigger', 'biggest', 'bigot', 'bigotri', 'bike', 'biker', 'bill', 'billboard', 'billi', 'billion', 'billionair', 'bin', 'bind', 'bing', 'bingo', 'binocular', 'biographi', 'biolog', 'biologist', 'bird', 'birth', 'birthday', 'birthmark', 'biscuit', 'bishop', 'bit', 'bitch', 'bite', 'bitten', 'bitter', 'bitterli', 'bizarr', 'black', 'blackandwhit', 'blackmail', 'blackout', 'blacksmith', 'blade', 'blain', 'blame', 'blank', 'blanket', 'blast', 'bleak', 'bleed', 'blend', 'bless', 'blew', 'blind', 'blindfold', 'blindli', 'blink', 'bliss', 'blizzard', 'bloc', 'block', 'blockbust', 'blond', 'blood', 'bloodhound', 'bloodi', 'bloodlin', 'bloodsh', 'bloodstain', 'bloodthirsti', 'bloom', 'blossom', 'blow', 'blown', 'bludgeon', 'blue', 'blueprint', 'bluff', 'blunder', 'blunt', 'bluntli', 'blur', 'blurt', 'bmovi', 'board', 'boast', 'boat', 'bob', 'bobbi', 'bodi', 'bodili', 'bodyguard', 'boe', 'bohemian', 'boil', 'boiler', 'boister', 'bold', 'bollywood', 'bolshevik', 'bolt', 'bomb', 'bombard', 'bombay', 'bomber', 'bon', 'bond', 'bondag', 'bone', 'bonni', 'bonu', 'boobi', 'boobytrap', 'book', 'booki', 'bookstor', 'boom', 'boon', 'boorish', 'boost', 'boot', 'booth', 'bootleg', 'bootlegg', 'border', 'bore', 'boredom', 'bori', 'born', 'borough', 'borrow', 'boss', 'bosss', 'botch', 'both', 'bother', 'bottl', 'bottom', 'bought', 'boulder', 'boulevard', 'bounc', 'bound', 'boundari', 'bounti', 'bouquet', 'bourgeoi', 'bout', 'bow', 'bowi', 'bowl', 'box', 'boxer', 'boy', 'boycott', 'boyfriend', 'boyhood', 'bra', 'brace', 'bracelet', 'brad', 'bradi', 'brag', 'brahmin', 'brain', 'brainwash', 'brake', 'branch', 'brand', 'brandi', 'brandish', 'brash', 'brass', 'brat', 'brave', 'braveri', 'brawl', 'brazil', 'brazilian', 'breach', 'bread', 'break', 'breakdown', 'breakfast', 'breakin', 'breakup', 'breast', 'breath', 'breed', 'brew', 'breweri', 'brewster', 'bribe', 'briberi', 'brick', 'bride', 'bridegroom', 'bridg', 'brief', 'briefcas', 'briefli', 'brig', 'brigadi', 'brigand', 'bright', 'brilliant', 'bring', 'brink', 'brit', 'britain', 'british', 'bro', 'broad', 'broadcast', 'broadway', 'broke', 'broken', 'broker', 'bronx', 'brooch', 'brood', 'brook', 'broom', 'brothel', 'brother', 'brotherinlaw', 'brought', 'brown', 'bruis', 'brunt', 'brush', 'brutal', 'brutish', 'bu', 'bubbl', 'buck', 'bucket', 'bud', 'buddha', 'buddhist', 'buddi', 'budget', 'bueno', 'buffalo', 'bug', 'buggi', 'build', 'builder', 'built', 'bulb', 'bulk', 'bull', 'bulldog', 'bulldoz', 'bullet', 'bulletin', 'bulletproof', 'bulli', 'bum', 'bumbl', 'bump', 'bunch', 'bundl', 'bungalow', 'bunk', 'bunker', 'bunni', 'burden', 'bureau', 'burger', 'burglar', 'burglari', 'buri', 'burial', 'burk', 'burmes', 'burn', 'burnt', 'burrow', 'burst', 'bush', 'busi', 'businessman', 'businessmen', 'businesswoman', 'bust', 'buster', 'but', 'butcher', 'butler', 'butt', 'butter', 'butterfli', 'button', 'buy', 'buyer', 'buzz', 'by', 'bypass', 'byrn', 'bystand', 'cab', 'cabaret', 'cabbi', 'cabin', 'cabinet', 'cabl', 'cach', 'cadav', 'cadet', 'cadillac', 'caesar', 'cafe', 'cage', 'cairo', 'cajol', 'cake', 'cal', 'calcul', 'calcutta', 'caldwel', 'calendar', 'calf', 'california', 'call', 'caller', 'callou', 'calm', 'calmli', 'cambodia', 'cambridg', 'camcord', 'came', 'camel', 'cameo', 'camera', 'cameraman', 'camp', 'campaign', 'campbel', 'camper', 'campfir', 'campsit', 'campu', 'can', 'canada', 'canadian', 'canal', 'canari', 'cancel', 'cancer', 'candi', 'candid', 'candl', 'cane', 'canist', 'cann', 'cannib', 'cannonbal', 'cannot', 'cano', 'cant', 'canteen', 'canyon', 'cap', 'capabl', 'capac', 'cape', 'caper', 'capit', 'capitalist', 'capsiz', 'capsul', 'capt', 'captain', 'caption', 'captiv', 'captor', 'captur', 'car', 'caravan', 'carbon', 'card', 'cardboard', 'cardiac', 'cardin', 'care', 'careen', 'career', 'carefre', 'careless', 'carelessli', 'caress', 'caretak', 'cargo', 'caribbean', 'caricatur', 'carjack', 'carlo', 'carlson', 'carnag', 'carniv', 'carnivor', 'carol', 'carolin', 'carousel', 'carpent', 'carpet', 'carri', 'carriag', 'carrier', 'carrol', 'carrot', 'cart', 'cartel', 'carton', 'cartoon', 'cartoonist', 'carv', 'carver', 'cashier', 'casino', 'casket', 'cassi', 'cassidi', 'cast', 'castl', 'casual', 'casualti', 'cat', 'catacomb', 'catalog', 'catandmous', 'catapult', 'catastroph', 'cataton', 'catch', 'catcher', 'catchphras', 'cater', 'cathedr', 'catherin', 'cathi', 'cathol', 'cattl', 'caught', 'caus', 'caution', 'cautiou', 'cautious', 'cavalri', 'cave', 'cavern', 'cd', 'ceas', 'cecil', 'cedar', 'ceil', 'celebr', 'celebratori', 'cell', 'cellar', 'cellist', 'cellmat', 'cello', 'cellphon', 'cellular', 'cement', 'cemeteri', 'censor', 'cent', 'center', 'centr', 'central', 'centuri', 'ceo', 'cereal', 'cerebr', 'ceremoni', 'certain', 'certainli', 'certif', 'cha', 'chacko', 'chagrin', 'chain', 'chainsaw', 'chair', 'chairman', 'chakraborti', 'chalk', 'challeng', 'chamber', 'champ', 'champagn', 'champion', 'championship', 'chan', 'chanc', 'chancellor', 'chandra', 'chandu', 'chang', 'channel', 'chant', 'chao', 'chaotic', 'chapel', 'chaperon', 'chaplain', 'chapman', 'chapter', 'char', 'charact', 'character', 'characterist', 'charad', 'charg', 'charismat', 'charit', 'chariti', 'charl', 'charlott', 'charm', 'chart', 'charter', 'chasm', 'chastis', 'chastiti', 'chat', 'chateau', 'chatter', 'chauffeur', 'cheap', 'cheat', 'check', 'checkpoint', 'checkup', 'cheek', 'cheer', 'cheerlead', 'chees', 'chef', 'chemic', 'chemist', 'chemistri', 'chen', 'chennai', 'chequ', 'cherri', 'cheryl', 'chess', 'chest', 'chester', 'cheung', 'chevi', 'chew', 'chi', 'chicago', 'chick', 'chicken', 'chide', 'chief', 'chieftain', 'child', 'childbirth', 'childhood', 'childish', 'childless', 'childlik', 'children', 'chill', 'chimney', 'chimpanze', 'chin', 'china', 'chinatown', 'chines', 'ching', 'chip', 'chitra', 'chocol', 'choi', 'choic', 'choir', 'choke', 'cholera', 'choos', 'chop', 'chopper', 'chopra', 'chore', 'choreograph', 'choru', 'chose', 'chosen', 'chow', 'chri', 'chriss', 'christ', 'christen', 'christi', 'christin', 'christma', 'christoph', 'chronic', 'chronicl', 'chronolog', 'chu', 'chuck', 'chucki', 'chun', 'chunk', 'church', 'chute', 'cia', 'cid', 'cigar', 'cigarett', 'cindi', 'cinema', 'circl', 'circu', 'circuit', 'circul', 'circular', 'circumst', 'circumstanti', 'cite', 'citi', 'citizen', 'citywid', 'civil', 'civilian', 'cj', 'clad', 'claim', 'clair', 'clamor', 'clan', 'clandestin', 'clarenc', 'clarifi', 'clash', 'class', 'classic', 'classifi', 'classmat', 'classroom', 'clau', 'claud', 'claustrophob', 'claw', 'clean', 'cleaner', 'clear', 'clearanc', 'clearli', 'cleaver', 'clem', 'cleric', 'clerk', 'cleveland', 'clever', 'cleverli', 'click', 'client', 'clientel', 'cliff', 'climact', 'climat', 'climax', 'climb', 'cling', 'clinic', 'clinton', 'clip', 'cliqu', 'clive', 'cloak', 'clock', 'clone', 'close', 'closer', 'closest', 'closet', 'closeup', 'closur', 'cloth', 'cloud', 'clown', 'club', 'clubhous', 'clue', 'clueless', 'clumsi', 'clutch', 'co', 'coach', 'coal', 'coars', 'coast', 'coastal', 'coaster', 'coastlin', 'coat', 'coax', 'cocain', 'cockpit', 'cocktail', 'coconut', 'cocoon', 'code', 'codi', 'coerc', 'coexist', 'coffe', 'coffin', 'cohort', 'coin', 'coincid', 'coincident', 'col', 'colbi', 'cold', 'coldblood', 'coldli', 'collabor', 'collag', 'collaps', 'collar', 'colleagu', 'collect', 'collector', 'colleg', 'colli', 'collid', 'collis', 'colombia', 'colombian', 'colon', 'colonel', 'coloni', 'color', 'colorado', 'colour', 'columbia', 'columbu', 'column', 'columnist', 'coma', 'comatos', 'comb', 'combat', 'combin', 'combo', 'come', 'comeback', 'comed', 'comedi', 'comedian', 'comet', 'comfort', 'comic', 'command', 'commando', 'commenc', 'commend', 'comment', 'commentari', 'commerc', 'commerci', 'commiss', 'commission', 'commit', 'committe', 'common', 'commonli', 'commot', 'commun', 'communist', 'commut', 'compani', 'companion', 'companionship', 'compar', 'compart', 'compass', 'compassion', 'compat', 'compel', 'compens', 'compet', 'competit', 'competitor', 'compil', 'complac', 'complain', 'complaint', 'complet', 'complex', 'compli', 'complic', 'compliment', 'compon', 'compos', 'composit', 'compound', 'compris', 'compromis', 'compuls', 'comput', 'comrad', 'con', 'conan', 'conceal', 'conced', 'conceiv', 'concentr', 'concept', 'concern', 'concert', 'concerto', 'conclud', 'conclus', 'concoct', 'concret', 'concubin', 'concuss', 'condemn', 'condescend', 'condit', 'condom', 'condominium', 'conduct', 'conductor', 'confeder', 'confederaci', 'confer', 'confess', 'confid', 'confidant', 'confin', 'confirm', 'confisc', 'conflict', 'conform', 'confront', 'confus', 'congo', 'congratul', 'congreg', 'congress', 'congressman', 'conjur', 'connect', 'connecticut', 'conni', 'conniv', 'conquer', 'conquest', 'conquistador', 'conscienc', 'consciou', 'conscious', 'conscript', 'consent', 'consequ', 'conserv', 'consid', 'consider', 'consist', 'consol', 'consort', 'conspir', 'conspiraci', 'constabl', 'constanc', 'constant', 'constantli', 'constern', 'construct', 'consul', 'consult', 'consum', 'consumm', 'consumpt', 'contact', 'contain', 'contamin', 'contempl', 'contemporari', 'contempt', 'contemptu', 'contend', 'content', 'contest', 'context', 'contin', 'continent', 'conting', 'continu', 'contraband', 'contract', 'contractor', 'contradict', 'contrapt', 'contrari', 'contrast', 'contribut', 'contriv', 'control', 'controversi', 'convalesc', 'conveni', 'convent', 'converg', 'convers', 'convert', 'convey', 'convict', 'convinc', 'convoy', 'conway', 'cook', 'cooki', 'cool', 'cooler', 'coop', 'coordin', 'cop', 'cope', 'copi', 'copilot', 'coral', 'cord', 'core', 'cork', 'corn', 'corneliu', 'corner', 'coron', 'corp', 'corpor', 'corps', 'correct', 'correctli', 'correspond', 'corridor', 'corrupt', 'cosmet', 'cossack', 'cost', 'costar', 'costli', 'costum', 'cottag', 'cotton', 'couch', 'cough', 'could', 'couldnt', 'council', 'counsel', 'counselor', 'count', 'countdown', 'counter', 'counterfeit', 'counterpart', 'countess', 'counti', 'countless', 'countri', 'countrysid', 'coup', 'coupl', 'courag', 'courier', 'cours', 'court', 'courtesan', 'courthous', 'courtmarti', 'courtroom', 'courtship', 'courtyard', 'cousin', 'coven', 'cover', 'covert', 'covertli', 'coverup', 'covet', 'cow', 'coward', 'cowardic', 'cowardli', 'cowboy', 'cower', 'cowork', 'cox', 'coyot', 'crab', 'crack', 'cracker', 'cradl', 'craft', 'craig', 'cram', 'cramp', 'crane', 'crash', 'crashland', 'crate', 'crater', 'crave', 'craven', 'crawford', 'crawl', 'craze', 'crazi', 'cream', 'creat', 'creation', 'creativ', 'creator', 'creatur', 'credibl', 'credit', 'creditor', 'creek', 'creep', 'cremat', 'crest', 'crewman', 'crewmat', 'crewmen', 'cri', 'cricket', 'crime', 'crimin', 'crippl', 'crise', 'crisi', 'critic', 'critiqu', 'crocodil', 'croni', 'crook', 'crop', 'crore', 'cross', 'crossbow', 'crosscountri', 'crossfir', 'crow', 'crowd', 'crown', 'crucial', 'crucifi', 'crucifix', 'crude', 'cruel', 'cruelli', 'cruelti', 'cruis', 'cruiser', 'crumbl', 'crusad', 'crush', 'crux', 'cryogen', 'crypt', 'cryptic', 'cub', 'cuba', 'cuban', 'cube', 'cue', 'culmin', 'culprit', 'cult', 'cultiv', 'cultur', 'cun', 'cup', 'cupboard', 'curb', 'cure', 'curfew', 'curios', 'curiou', 'curl', 'curli', 'currenc', 'current', 'curs', 'curt', 'curtain', 'curti', 'curv', 'custodi', 'custom', 'cut', 'cute', 'cutter', 'cutthroat', 'cyborg', 'cycl', 'cyclon', 'cynic', 'da', 'dad', 'dada', 'daddi', 'daffi', 'dagger', 'daili', 'dairi', 'daisi', 'dale', 'dalla', 'dam', 'damag', 'dame', 'damn', 'dan', 'danc', 'dancer', 'dandi', 'danger', 'dangl', 'danish', 'danni', 'dant', 'daphn', 'dapper', 'dare', 'daredevil', 'dark', 'darker', 'darkest', 'darl', 'dart', 'data', 'databas', 'date', 'daughter', 'daughterinlaw', 'dave', 'davi', 'dawn', 'day', 'daydream', 'daylight', 'daytoday', 'daze', 'dc', 'de', 'deactiv', 'dead', 'deadli', 'deadlin', 'deaf', 'deal', 'dealer', 'dealership', 'dealt', 'dear', 'dearli', 'death', 'deathb', 'debat', 'debaucheri', 'debbi', 'debri', 'debt', 'debut', 'decad', 'decapit', 'decay', 'deceas', 'deceit', 'deceiv', 'decemb', 'decent', 'decept', 'decid', 'decidedli', 'decim', 'deciph', 'decis', 'deck', 'declar', 'declin', 'decompos', 'decor', 'decoy', 'decre', 'decrepit', 'dedic', 'deduc', 'deduct', 'dee', 'deed', 'deem', 'deep', 'deepen', 'deeper', 'deepli', 'deer', 'defeat', 'defec', 'defect', 'defenc', 'defend', 'defens', 'defenseless', 'defer', 'defi', 'defianc', 'defiant', 'definit', 'deflat', 'deflect', 'deform', 'defus', 'degener', 'degrad', 'degre', 'dehydr', 'deject', 'del', 'delay', 'deleg', 'delet', 'delhi', 'deliber', 'delic', 'delight', 'delinqu', 'deliri', 'deliv', 'deliveri', 'delta', 'delus', 'delusion', 'delv', 'demand', 'demean', 'demeanor', 'dement', 'dementia', 'demis', 'demo', 'democraci', 'democrat', 'demolish', 'demon', 'demonstr', 'demot', 'den', 'deni', 'denial', 'denis', 'denmark', 'denni', 'denounc', 'dens', 'dental', 'dentist', 'depart', 'departur', 'depend', 'depict', 'deplet', 'deploy', 'deport', 'depos', 'deposit', 'depot', 'depress', 'depriv', 'depth', 'deputi', 'derail', 'derang', 'derbi', 'derelict', 'derid', 'deris', 'deriv', 'descend', 'descent', 'describ', 'descript', 'desecr', 'desert', 'deserv', 'design', 'desir', 'desk', 'desol', 'despair', 'desper', 'despis', 'despit', 'despond', 'despot', 'destin', 'destini', 'destitut', 'destroy', 'destruct', 'detach', 'detail', 'detain', 'detect', 'detector', 'detent', 'deterior', 'determin', 'deton', 'detour', 'detroit', 'dev', 'devast', 'develop', 'devi', 'devic', 'devil', 'deviou', 'devis', 'devoid', 'devot', 'devote', 'devour', 'devout', 'dewey', 'di', 'diabet', 'diabol', 'diagnos', 'diagnosi', 'dial', 'dialogu', 'dian', 'diari', 'dice', 'dick', 'dicki', 'dictat', 'dictatorship', 'did', 'didnt', 'die', 'diet', 'differ', 'difficult', 'difficulti', 'dig', 'digest', 'digger', 'digit', 'dignifi', 'dignitari', 'digniti', 'dilapid', 'dilemma', 'dilig', 'dimens', 'diminish', 'diminut', 'dimwit', 'dine', 'diner', 'dinghi', 'dinner', 'dinosaur', 'dip', 'diploma', 'diplomat', 'dire', 'direct', 'directli', 'director', 'dirt', 'dirti', 'disabl', 'disagr', 'disagre', 'disappear', 'disappoint', 'disapprov', 'disarm', 'disarray', 'disast', 'disastr', 'disband', 'disbelief', 'disbeliev', 'disc', 'discard', 'discern', 'discharg', 'discipl', 'disciplin', 'disciplinari', 'disclos', 'disconnect', 'discourag', 'discov', 'discoveri', 'discredit', 'discreetli', 'discrimin', 'discuss', 'disdain', 'diseas', 'disembark', 'disembodi', 'disembowel', 'disench', 'disfigur', 'disgrac', 'disgruntl', 'disguis', 'disgust', 'dish', 'dishearten', 'dishevel', 'dishonest', 'disillus', 'disintegr', 'disinterest', 'dislik', 'disloy', 'dismantl', 'dismay', 'dismemb', 'dismiss', 'disney', 'disobey', 'disord', 'disori', 'disown', 'disparag', 'dispatch', 'dispers', 'displac', 'display', 'displeas', 'displeasur', 'dispos', 'disprov', 'disput', 'disqualifi', 'disregard', 'disrespect', 'disrupt', 'dissatisfi', 'dissect', 'dissent', 'dissip', 'dissolut', 'dissolv', 'dissuad', 'distanc', 'distant', 'distast', 'distinct', 'distinguish', 'distort', 'distract', 'distraught', 'distress', 'distribut', 'district', 'distrust', 'disturb', 'disus', 'ditch', 'ditzi', 'diva', 'dive', 'diver', 'divers', 'divert', 'divid', 'divin', 'divis', 'divorc', 'divorce', 'divulg', 'dix', 'dixi', 'dixon', 'dizzi', 'dj', 'dna', 'do', 'doc', 'docil', 'dock', 'doctor', 'document', 'documentari', 'dodd', 'dodg', 'dodger', 'doe', 'doesnt', 'dog', 'dogfight', 'dolan', 'doll', 'dollar', 'dolor', 'dolphin', 'domain', 'dome', 'domest', 'domin', 'don', 'donat', 'done', 'donna', 'donor', 'dont', 'doodl', 'doom', 'door', 'doorbel', 'doorstep', 'doorway', 'dope', 'doppelgang', 'dora', 'dori', 'dorm', 'dormitori', 'dorothi', 'dose', 'dot', 'dote', 'doubl', 'doublecross', 'doubt', 'doug', 'dougla', 'dous', 'dove', 'dover', 'down', 'downfal', 'downhil', 'download', 'downstair', 'downtown', 'downtrodden', 'downward', 'dowri', 'doyl', 'dozen', 'dr', 'dracula', 'draft', 'drag', 'dragon', 'drain', 'drama', 'dramat', 'drank', 'drape', 'drastic', 'draw', 'drawer', 'drawn', 'dread', 'dream', 'dreamer', 'dreari', 'drench', 'dress', 'dresser', 'dri', 'drift', 'drifter', 'drill', 'drink', 'drip', 'drive', 'drivebi', 'drivein', 'driven', 'driver', 'driveway', 'drop', 'dropout', 'drought', 'drove', 'drown', 'drug', 'drum', 'drummer', 'drunk', 'drunkard', 'drunken', 'drunkenli', 'du', 'dual', 'dub', 'dubai', 'dubiou', 'dublin', 'duck', 'dude', 'dudley', 'due', 'duel', 'duet', 'dug', 'dugout', 'dull', 'dumb', 'dummi', 'dump', 'dumpster', 'dun', 'dune', 'dungeon', 'dunk', 'dunkirk', 'dunn', 'duo', 'dupe', 'duplic', 'durat', 'dure', 'dust', 'dusti', 'dutch', 'duti', 'duval', 'dvd', 'dwarf', 'dwell', 'dwight', 'dwindl', 'dye', 'dynam', 'dynamit', 'dynasti', 'dysfunct', 'each', 'eager', 'eagerli', 'eagl', 'ear', 'earl', 'earli', 'earlier', 'earn', 'earnest', 'earth', 'earthquak', 'eas', 'easi', 'easili', 'east', 'easter', 'eastern', 'easygo', 'eat', 'eaten', 'eavesdrop', 'eccentr', 'echo', 'eclips', 'econom', 'economi', 'ecstasi', 'ecstat', 'ed', 'eddi', 'edg', 'edit', 'editor', 'edmund', 'educ', 'eeri', 'effect', 'effemin', 'effici', 'effort', 'effortlessli', 'eg', 'egg', 'ego', 'egotist', 'egypt', 'egyptian', 'eiffel', 'eight', 'eighteen', 'eighth', 'eightyearold', 'either', 'eject', 'eke', 'el', 'elabor', 'elat', 'elder', 'elderli', 'eldest', 'elect', 'electr', 'electrocut', 'electromagnet', 'electron', 'eleg', 'element', 'elementari', 'eleph', 'elev', 'eleven', 'elf', 'elia', 'elicit', 'elig', 'elimin', 'elit', 'elixir', 'elli', 'elmer', 'elop', 'els', 'elsewher', 'elsi', 'elud', 'elus', 'elv', 'elvi', 'em', 'email', 'eman', 'embalm', 'embark', 'embarrass', 'embassi', 'embed', 'embezzl', 'embitt', 'embodi', 'embrac', 'embroil', 'emerald', 'emerg', 'emeri', 'emigr', 'emil', 'emili', 'emit', 'emmi', 'emot', 'emperor', 'empir', 'employ', 'employe', 'empti', 'emptyhand', 'emul', 'en', 'enabl', 'enact', 'enamor', 'encamp', 'encas', 'enchant', 'encompass', 'encount', 'encourag', 'end', 'endang', 'endear', 'endeavor', 'endless', 'endlessli', 'endors', 'endur', 'enemi', 'energet', 'energi', 'enforc', 'engag', 'engin', 'england', 'english', 'englishman', 'engulf', 'enhanc', 'enigma', 'enigmat', 'enjoy', 'enlighten', 'enlist', 'enmiti', 'enorm', 'enough', 'enquiri', 'enrag', 'enrol', 'ensembl', 'ensign', 'enslav', 'ensu', 'ensur', 'entangl', 'enter', 'enterpris', 'entertain', 'enthral', 'enthusiasm', 'enthusiast', 'entic', 'entir', 'entiti', 'entitl', 'entourag', 'entranc', 'entreat', 'entrepreneur', 'entri', 'entrust', 'entwin', 'envelop', 'envi', 'enviou', 'environ', 'environment', 'epic', 'epidem', 'epilogu', 'epiphani', 'episod', 'eponym', 'equal', 'equat', 'equip', 'equival', 'era', 'erad', 'eras', 'erect', 'ernest', 'erni', 'ernst', 'erot', 'errand', 'errat', 'error', 'erstwhil', 'erupt', 'escal', 'escap', 'escapad', 'escape', 'escort', 'eskimo', 'especi', 'espionag', 'essay', 'essenc', 'essenti', 'establish', 'estat', 'estel', 'estim', 'estrang', 'etc', 'etern', 'ether', 'ethic', 'ethnic', 'eugen', 'eulog', 'euphoria', 'europ', 'european', 'evacu', 'evad', 'evalu', 'evapor', 'evas', 'even', 'event', 'eventu', 'ever', 'everi', 'everlast', 'everybodi', 'everyday', 'everyon', 'everyone', 'everyth', 'everywher', 'evict', 'evid', 'evil', 'evolut', 'evolv', 'ex', 'exacerb', 'exact', 'exactli', 'exagger', 'exam', 'examin', 'exampl', 'exasper', 'exboyfriend', 'excav', 'exceed', 'excel', 'except', 'excess', 'exchang', 'excit', 'excitedli', 'exclaim', 'exclud', 'exclus', 'excon', 'exconvict', 'excop', 'excurs', 'excus', 'execut', 'execution', 'exercis', 'exert', 'exgirlfriend', 'exhaust', 'exhibit', 'exhum', 'exhusband', 'exil', 'exist', 'exit', 'exlov', 'exoner', 'exorc', 'exorcis', 'exot', 'expand', 'expans', 'expatri', 'expect', 'expedit', 'expel', 'expens', 'experi', 'experienc', 'experiment', 'expert', 'expir', 'explain', 'explan', 'explicit', 'explicitli', 'explod', 'exploit', 'explor', 'explos', 'expos', 'exposur', 'express', 'exsoldi', 'extend', 'extens', 'extent', 'exterior', 'extermin', 'extern', 'extinct', 'extinguish', 'extort', 'extra', 'extract', 'extramarit', 'extraordinari', 'extraterrestri', 'extravag', 'extrem', 'exwif', 'eye', 'eyebrow', 'eyesight', 'eyewit', 'fabl', 'fabric', 'facad', 'face', 'facetofac', 'facial', 'facil', 'fact', 'faction', 'facto', 'factor', 'factori', 'faculti', 'fade', 'fail', 'failur', 'faint', 'fair', 'fairi', 'fairli', 'fake', 'fall', 'fallen', 'fals', 'falsifi', 'falter', 'fame', 'famili', 'familiar', 'family', 'famou', 'fan', 'fanat', 'fanci', 'fanni', 'fantas', 'fantasi', 'fantast', 'far', 'faraway', 'farc', 'fare', 'farewel', 'farm', 'farmer', 'farmhous', 'farrel', 'farther', 'fascin', 'fascist', 'fashion', 'fast', 'faster', 'fasttalk', 'fat', 'fatal', 'fate', 'father', 'fatherinlaw', 'fatherli', 'fault', 'faulti', 'favor', 'favorit', 'favour', 'favourit', 'fay', 'fbi', 'fe', 'fear', 'fearless', 'fearsom', 'feast', 'feat', 'feather', 'featur', 'februari', 'fed', 'feder', 'fee', 'feed', 'feel', 'feet', 'feign', 'feisti', 'felicia', 'felin', 'fell', 'fellow', 'felon', 'felt', 'femal', 'feminin', 'feminist', 'femm', 'fenc', 'fend', 'ferdinand', 'ferguson', 'fernandez', 'feroci', 'ferri', 'fertil', 'fervent', 'festiv', 'fetch', 'fetish', 'fetu', 'feud', 'feudal', 'fever', 'few', 'fianc', 'fiance', 'fiasco', 'fiction', 'fictiti', 'fidel', 'field', 'fierc', 'fieri', 'fifteen', 'fifth', 'fifti', 'fight', 'fighter', 'figur', 'file', 'filipino', 'fill', 'film', 'filmmak', 'filth', 'filthi', 'fin', 'final', 'financ', 'financi', 'find', 'fine', 'finest', 'finger', 'fingernail', 'fingerprint', 'finish', 'fire', 'firearm', 'firecrack', 'firefight', 'firefli', 'fireman', 'fireplac', 'firework', 'firm', 'firmli', 'first', 'fish', 'fisherman', 'fishermen', 'fist', 'fit', 'fitzgerald', 'five', 'fix', 'fixat', 'flag', 'flamboy', 'flame', 'flamethrow', 'flammabl', 'flank', 'flare', 'flash', 'flashback', 'flashlight', 'flat', 'flatmat', 'flatten', 'flatter', 'flaw', 'flawless', 'fled', 'fledgl', 'flee', 'fleet', 'fleme', 'flesh', 'flew', 'fli', 'flick', 'flight', 'fling', 'flip', 'flirt', 'flirtat', 'flirtati', 'float', 'flock', 'flood', 'floor', 'floorboard', 'flop', 'florenc', 'florida', 'flounder', 'flour', 'flourish', 'flow', 'flower', 'flown', 'floyd', 'flu', 'fluent', 'fluid', 'flush', 'flute', 'focu', 'focus', 'foe', 'fog', 'foggi', 'foil', 'fold', 'folk', 'folli', 'follow', 'fond', 'fondl', 'fondli', 'food', 'fool', 'foolish', 'foolishli', 'foolproof', 'foot', 'footag', 'footbal', 'footprint', 'footstep', 'for', 'forb', 'forbid', 'forbidden', 'forc', 'forcibl', 'forearm', 'forehead', 'foreign', 'foreman', 'foreshadow', 'forest', 'foretel', 'forev', 'forfeit', 'forg', 'forget', 'forgiv', 'forgiven', 'forgot', 'forgotten', 'fork', 'form', 'formal', 'format', 'former', 'formerli', 'formid', 'formul', 'formula', 'forsyth', 'fort', 'forth', 'forthcom', 'forti', 'fortifi', 'fortress', 'fortun', 'forward', 'foster', 'fought', 'foul', 'foulmouth', 'found', 'foundat', 'founder', 'fountain', 'four', 'foursom', 'fourteen', 'fourth', 'fox', 'fractur', 'fragil', 'fragment', 'frail', 'frame', 'fran', 'franc', 'franchis', 'franci', 'francoi', 'frankenstein', 'frankfurt', 'franki', 'frantic', 'franz', 'fratern', 'fraud', 'fraudul', 'fraught', 'fray', 'freak', 'fred', 'freddi', 'free', 'freed', 'freedom', 'freelanc', 'freeli', 'freeman', 'freespirit', 'freez', 'freezer', 'freight', 'freighter', 'french', 'frenchman', 'frenzi', 'frequent', 'fresh', 'fri', 'friction', 'friday', 'friend', 'friendli', 'friendship', 'fright', 'frighten', 'fritz', 'frog', 'from', 'front', 'frontier', 'frontlin', 'frost', 'frozen', 'fruit', 'fruitless', 'frustrat', 'fu', 'fuck', 'fudd', 'fuel', 'fugit', 'fulfil', 'full', 'fullfledg', 'fulli', 'fullscal', 'fulltim', 'fume', 'fun', 'function', 'fund', 'funer', 'funlov', 'funni', 'fur', 'furi', 'furiou', 'furious', 'furnac', 'furnitur', 'further', 'furthermor', 'fuse', 'fuss', 'futil', 'futur', 'futurist', 'ga', 'gadget', 'gag', 'gail', 'gain', 'gal', 'gala', 'galaxi', 'galbraith', 'gale', 'galleri', 'gambl', 'gambler', 'game', 'gandhi', 'ganesh', 'gang', 'ganga', 'gangster', 'gap', 'garag', 'garbag', 'garcia', 'garden', 'gari', 'garment', 'garner', 'garrison', 'garth', 'gasolin', 'gasp', 'gate', 'gather', 'gautam', 'gave', 'gay', 'gaze', 'gear', 'geeta', 'geetha', 'gem', 'gen', 'gender', 'gene', 'gener', 'generos', 'genet', 'geni', 'geniu', 'genr', 'gentl', 'gentleman', 'gentlemen', 'gentli', 'genuin', 'geoffrey', 'geographi', 'georg', 'georgi', 'gerard', 'german', 'germani', 'gestapo', 'gestur', 'get', 'getaway', 'gettogeth', 'ghetto', 'ghost', 'ghostli', 'gi', 'giant', 'gift', 'gig', 'gigant', 'giggl', 'gigolo', 'gil', 'gilbert', 'gin', 'gina', 'ginger', 'gino', 'girl', 'girlfriend', 'gita', 'give', 'given', 'glacier', 'glad', 'gladli', 'glamor', 'glamour', 'glanc', 'glare', 'glasgow', 'glass', 'gleefulli', 'glen', 'glide', 'glimps', 'glitter', 'gloat', 'global', 'globe', 'glori', 'gloriou', 'glove', 'glow', 'glue', 'go', 'goa', 'goad', 'goal', 'goat', 'god', 'godard', 'goddess', 'godfath', 'godzilla', 'goe', 'gold', 'golddig', 'golden', 'golf', 'goliath', 'gone', 'gonna', 'good', 'goodby', 'goodfornoth', 'goodheart', 'goodnatur', 'goodnight', 'goofi', 'goon', 'goos', 'gopal', 'gopi', 'gore', 'gorgeou', 'gori', 'gorilla', 'goro', 'gossip', 'got', 'gothic', 'gotten', 'gover', 'govern', 'governor', 'govind', 'gown', 'gra', 'grab', 'grade', 'gradual', 'graduat', 'grand', 'granddaught', 'grandeur', 'grandfath', 'grandma', 'grandmoth', 'grandpa', 'grandpar', 'grandson', 'granni', 'graphic', 'grappl', 'grasp', 'grass', 'grate', 'gratitud', 'grave', 'graveyard', 'graviti', 'gray', 'graze', 'great', 'greater', 'greatest', 'greatli', 'greec', 'greed', 'greedi', 'greek', 'green', 'greenhous', 'greenwich', 'greet', 'greg', 'gregg', 'gregori', 'grenad', 'grew', 'grey', 'grief', 'griefstricken', 'griev', 'griffith', 'grill', 'grim', 'grin', 'grip', 'grisli', 'groceri', 'grogan', 'groom', 'grotesqu', 'ground', 'group', 'grover', 'grow', 'growl', 'grown', 'grownup', 'growth', 'grudg', 'grudgingli', 'gruel', 'gruesom', 'gruff', 'grumbl', 'gu', 'guarante', 'guard', 'guardian', 'guerrilla', 'guess', 'guest', 'guid', 'guidanc', 'guilt', 'guilti', 'guiltridden', 'guinea', 'guis', 'guitar', 'guitarist', 'gulag', 'gulf', 'gullibl', 'gum', 'gun', 'gunfight', 'gunfir', 'gunman', 'gunmen', 'gunpoint', 'gunshot', 'gunsling', 'gupta', 'guru', 'gust', 'gustav', 'gut', 'gutter', 'guy', 'gym', 'gymnasium', 'gypsi', 'ha', 'habit', 'habitu', 'hack', 'hacker', 'had', 'hadnt', 'hail', 'hair', 'haircut', 'hairdress', 'hal', 'hale', 'half', 'halfbroth', 'halfheart', 'halfsist', 'halftim', 'halfway', 'hall', 'halloween', 'hallucin', 'hallway', 'halt', 'ham', 'hamburg', 'hamilton', 'hamlet', 'hammer', 'han', 'hand', 'handcuf', 'handcuff', 'handgun', 'handheld', 'handicap', 'handkerchief', 'handl', 'handler', 'handsom', 'handtohand', 'handyman', 'hang', 'hangar', 'hansen', 'hanson', 'hapless', 'happen', 'happi', 'happier', 'happili', 'happygolucki', 'har', 'harass', 'harbor', 'harbour', 'hard', 'hardcor', 'harden', 'harder', 'hardi', 'hardli', 'hardship', 'hardwar', 'hardwork', 'hare', 'harem', 'hari', 'harlem', 'harm', 'harmless', 'harmonica', 'harpoon', 'harri', 'harriet', 'harrington', 'harrow', 'harsh', 'harshli', 'hart', 'hartley', 'harvard', 'harvest', 'hasbeen', 'hasnt', 'hast', 'hasten', 'hasti', 'hastili', 'hat', 'hatch', 'hatchet', 'hate', 'hatr', 'hattori', 'haul', 'haunt', 'havana', 'have', 'havent', 'havoc', 'hawaii', 'hawk', 'hawkin', 'hay', 'hazard', 'haze', 'he', 'head', 'headach', 'headbutt', 'headlight', 'headlin', 'headlong', 'headmast', 'headmistress', 'headon', 'headquart', 'headstrong', 'heal', 'healer', 'health', 'healthi', 'heap', 'hear', 'heard', 'heart', 'heartbeat', 'heartbreak', 'heartbroken', 'heartfelt', 'heartless', 'heat', 'heavenli', 'heavi', 'heavili', 'hed', 'hedonist', 'heed', 'heel', 'hefti', 'height', 'heighten', 'heinrich', 'heir', 'heiress', 'heist', 'held', 'helicopt', 'hell', 'hello', 'helm', 'helmet', 'help', 'helper', 'helpless', 'helplessli', 'hema', 'hen', 'henc', 'henchman', 'henchmen', 'henderson', 'henri', 'her', 'herald', 'herbert', 'hercul', 'herd', 'here', 'heritag', 'herman', 'hermit', 'hero', 'heroic', 'heroin', 'herself', 'hesit', 'hesitantli', 'heterosexu', 'hey', 'hibern', 'hiccup', 'hid', 'hidden', 'hide', 'hideaway', 'hideou', 'hideout', 'hierarchi', 'high', 'higher', 'highest', 'highland', 'highli', 'highlight', 'highris', 'highschool', 'highsocieti', 'highspe', 'hightech', 'highway', 'hijack', 'hijink', 'hike', 'hilari', 'hill', 'hillsid', 'hilltop', 'him', 'himalaya', 'himself', 'hind', 'hinder', 'hindi', 'hindu', 'hint', 'hip', 'hippi', 'hire', 'histor', 'histori', 'historian', 'hit', 'hitch', 'hitchhik', 'hitler', 'hitman', 'hitmen', 'hitter', 'hiv', 'hm', 'ho', 'hoard', 'hoax', 'hobbi', 'hobo', 'hockey', 'hoffman', 'hoist', 'hold', 'holder', 'holdup', 'hole', 'holi', 'holiday', 'holli', 'hollow', 'hollywood', 'holm', 'holocaust', 'hologram', 'holograph', 'holster', 'holt', 'homag', 'home', 'homeland', 'homeless', 'homemad', 'homemak', 'homer', 'homesick', 'homestead', 'hometown', 'homework', 'homicid', 'homosexu', 'honest', 'honesti', 'honestli', 'honey', 'honeymoon', 'hong', 'honor', 'honour', 'hood', 'hoodlum', 'hook', 'hooker', 'hooligan', 'hop', 'hopeless', 'hopelessli', 'hopkin', 'hopper', 'horac', 'hord', 'horizon', 'horn', 'horrend', 'horribl', 'horrif', 'horrifi', 'horror', 'hors', 'horseback', 'horsemen', 'hose', 'hospit', 'host', 'hostag', 'hostel', 'hostess', 'hostil', 'hot', 'hotel', 'hottemp', 'hottest', 'hound', 'hour', 'hous', 'household', 'housekeep', 'housemaid', 'housewif', 'housework', 'hover', 'how', 'howard', 'howev', 'howl', 'hubert', 'huey', 'huff', 'hug', 'huge', 'hulk', 'hull', 'hum', 'human', 'humanitarian', 'humankind', 'humanoid', 'humbl', 'humili', 'humor', 'hump', 'humphrey', 'hunchback', 'hundr', 'hung', 'hungari', 'hungarian', 'hunger', 'hungri', 'hunt', 'hurl', 'hurri', 'hurrican', 'hurriedli', 'hurt', 'husband', 'hussain', 'hustl', 'hustler', 'hut', 'hybrid', 'hyde', 'hyderabad', 'hymn', 'hypnosi', 'hypnot', 'hypnotist', 'hypocrisi', 'hypocrit', 'hyster', 'ice', 'iceberg', 'ici', 'icon', 'id', 'ida', 'idaho', 'idea', 'ideal', 'idealist', 'ident', 'identif', 'identifi', 'ideolog', 'idiot', 'idl', 'idol', 'idyl', 'ie', 'if', 'ignit', 'ignor', 'ii', 'iii', 'ill', 'illeg', 'illegitim', 'illfat', 'illicit', 'illinoi', 'illiter', 'illumin', 'illus', 'illustr', 'im', 'imag', 'imagin', 'imaginari', 'imam', 'imdb', 'imit', 'immatur', 'immedi', 'immens', 'immers', 'immigr', 'immin', 'immobil', 'immor', 'immort', 'immun', 'impact', 'impal', 'impass', 'impati', 'impend', 'impenetr', 'imperi', 'imperson', 'impetu', 'implant', 'implement', 'impli', 'implic', 'implor', 'import', 'importantli', 'impos', 'imposs', 'impostor', 'impot', 'impoverish', 'impregn', 'impresario', 'impress', 'imprison', 'improb', 'impromptu', 'improv', 'improvis', 'impuls', 'inabl', 'inaccess', 'inact', 'inadvert', 'inappropri', 'inaugur', 'inc', 'incant', 'incap', 'incapacit', 'incarcer', 'incens', 'incessantli', 'incest', 'incestu', 'inch', 'incid', 'incident', 'inciner', 'incit', 'inclin', 'includ', 'incognito', 'incoher', 'incom', 'incompet', 'incomplet', 'inconsol', 'inconveni', 'incorpor', 'incorrect', 'increas', 'increasingli', 'incred', 'incredul', 'incrimin', 'incur', 'inde', 'indebt', 'indec', 'independ', 'indestruct', 'indi', 'indian', 'indiana', 'indic', 'indict', 'indiffer', 'indigen', 'indign', 'indirectli', 'indiscret', 'individu', 'indu', 'induc', 'induct', 'indulg', 'industri', 'industrialist', 'inebri', 'ineffect', 'inept', 'inevit', 'inexperi', 'inexperienc', 'inexplic', 'infam', 'infant', 'infantri', 'infatu', 'infect', 'infecti', 'infer', 'inferior', 'infertil', 'infest', 'infidel', 'infiltr', 'inflat', 'inflict', 'influenc', 'influenti', 'info', 'inform', 'infract', 'infuri', 'ingeni', 'ingest', 'ingredi', 'inhabit', 'inhal', 'inherit', 'inhibit', 'inhuman', 'initi', 'inject', 'injur', 'injuri', 'injustic', 'ink', 'inland', 'inlaw', 'inmat', 'inn', 'inner', 'innerc', 'innkeep', 'innoc', 'innocu', 'inoper', 'inquir', 'inquiri', 'insan', 'inscrib', 'inscript', 'insect', 'insecur', 'insepar', 'insert', 'insid', 'insight', 'insinu', 'insist', 'inspect', 'inspector', 'inspir', 'instal', 'instanc', 'instant', 'instantli', 'instead', 'instig', 'instinct', 'institut', 'institution', 'instruct', 'instructor', 'instrument', 'insuffici', 'insul', 'insult', 'insur', 'intact', 'integr', 'intellect', 'intellectu', 'intellig', 'intend', 'intens', 'intensifi', 'intent', 'inter', 'interact', 'interced', 'intercept', 'intercours', 'intercut', 'interest', 'interf', 'interfer', 'interior', 'interlud', 'intern', 'internet', 'interpol', 'interpret', 'interrog', 'interrupt', 'intersect', 'interspers', 'intertitl', 'intertwin', 'interv', 'interven', 'intervent', 'interview', 'interweav', 'intim', 'intimaci', 'intimid', 'into', 'intoler', 'intox', 'intrigu', 'introduc', 'introduct', 'introvert', 'intrud', 'intrus', 'intuit', 'invad', 'invalid', 'invas', 'invent', 'inventor', 'invest', 'investig', 'investor', 'invinc', 'invis', 'invit', 'invok', 'involv', 'invulner', 'iowa', 'ip', 'ir', 'ira', 'iran', 'iranian', 'iraq', 'iraqi', 'irat', 'iren', 'iri', 'irina', 'irish', 'irishman', 'iron', 'ironi', 'irresist', 'irrespons', 'irrig', 'irrit', 'isbn', 'isl', 'islam', 'island', 'isnt', 'isol', 'isra', 'issu', 'istanbul', 'it', 'itali', 'italian', 'item', 'itself', 'iv', 'ive', 'ivi', 'ivurltorasan', 'iyer', 'jacket', 'jacki', 'jackpot', 'jacqu', 'jacquelin', 'jaguar', 'jai', 'jail', 'jailer', 'jam', 'jamaica', 'jamaican', 'jame', 'jamess', 'jami', 'jan', 'janaki', 'janardhanan', 'janet', 'janitor', 'januari', 'japan', 'japanes', 'jar', 'jare', 'jaw', 'jazz', 'jd', 'jealou', 'jealous', 'jealousi', 'jean', 'jeanni', 'jeep', 'jeet', 'jeff', 'jen', 'jenkin', 'jenni', 'jennif', 'jeopard', 'jeremi', 'jerom', 'jerri', 'jersey', 'jerusalem', 'jess', 'jessi', 'jesu', 'jet', 'jettison', 'jew', 'jewelleri', 'jewelri', 'jewish', 'jill', 'jilt', 'jim', 'jimmi', 'jingl', 'jinx', 'jj', 'jo', 'joan', 'job', 'jobless', 'jock', 'jockey', 'jodi', 'jog', 'johann', 'johnni', 'johnson', 'join', 'joint', 'joke', 'joker', 'jokingli', 'jone', 'jorg', 'josef', 'josephin', 'josh', 'journal', 'journalist', 'jovial', 'joyc', 'jr', 'judd', 'judg', 'judgement', 'judgment', 'judi', 'jug', 'juggl', 'juic', 'jule', 'juli', 'juliu', 'jump', 'jung', 'jungl', 'junk', 'junki', 'junporef', 'juri', 'juror', 'just', 'justic', 'justifi', 'juvenil', 'juxtapos', 'ka', 'kaiser', 'kamal', 'kamala', 'kangaroo', 'kansa', 'kapoor', 'karan', 'karaok', 'karat', 'karl', 'karma', 'kashmir', 'katherin', 'kathi', 'kati', 'kay', 'keen', 'keep', 'keeper', 'keller', 'kelli', 'ken', 'kennel', 'kenni', 'kent', 'kentucki', 'kept', 'kerala', 'kettl', 'key', 'kgb', 'khan', 'khanna', 'ki', 'kick', 'kid', 'kidnap', 'kidnapp', 'kidney', 'kill', 'killer', 'kim', 'kimono', 'kind', 'kindheart', 'kindli', 'kindr', 'kingdom', 'kingpin', 'kiran', 'kirbi', 'kishor', 'kiss', 'kit', 'kitchen', 'kite', 'kitten', 'kitti', 'knee', 'kneel', 'knew', 'knife', 'knight', 'knit', 'knive', 'knock', 'knot', 'know', 'knowledg', 'known', 'ko', 'kolkata', 'kong', 'korea', 'korean', 'krishna', 'krishnan', 'krueger', 'kumar', 'kung', 'kungfu', 'kurt', 'kutti', 'kyoto', 'la', 'lab', 'label', 'labor', 'laboratori', 'labour', 'lace', 'lack', 'lad', 'ladder', 'ladi', 'laid', 'laidback', 'lair', 'lake', 'lakh', 'lakshmi', 'lal', 'lam', 'lamb', 'lambert', 'lament', 'lamp', 'lanc', 'land', 'landladi', 'landlord', 'landmark', 'landown', 'landscap', 'languag', 'lanka', 'lantern', 'lap', 'lapd', 'laps', 'laptop', 'larg', 'larger', 'largest', 'larri', 'laser', 'lash', 'lasso', 'last', 'lastditch', 'lastli', 'latch', 'late', 'latenight', 'later', 'latest', 'latin', 'latter', 'laugh', 'laughter', 'launch', 'launcher', 'launder', 'laundri', 'lauri', 'lava', 'lavatori', 'lavish', 'law', 'lawn', 'lawnmow', 'lawrenc', 'lawsuit', 'lawyer', 'lay', 'layer', 'lazi', 'le', 'lead', 'leader', 'leadership', 'leaf', 'leagu', 'leak', 'lean', 'leap', 'learn', 'learnt', 'leas', 'least', 'leather', 'leav', 'lectur', 'led', 'ledg', 'leer', 'left', 'leftist', 'leg', 'legaci', 'legal', 'legendari', 'legion', 'legitim', 'leisur', 'lemon', 'len', 'lend', 'length', 'lengthi', 'lenin', 'lenni', 'lent', 'leopard', 'leopold', 'leroy', 'lesbian', 'lesli', 'less', 'lesser', 'lesson', 'lest', 'let', 'lethal', 'letter', 'leukemia', 'level', 'lever', 'leverag', 'lewi', 'li', 'liabil', 'liaison', 'liar', 'libbi', 'liber', 'liberti', 'librari', 'librarian', 'licens', 'lick', 'lid', 'lie', 'lieu', 'lieuten', 'life', 'lifeboat', 'lifeform', 'lifeless', 'lifelong', 'lifestyl', 'lifetim', 'lift', 'light', 'lighten', 'lighter', 'lightheart', 'lighthous', 'lightli', 'lightn', 'like', 'likewis', 'lili', 'lilli', 'limb', 'limelight', 'limit', 'limo', 'limousin', 'limp', 'lin', 'line', 'liner', 'ling', 'linger', 'lingeri', 'link', 'lion', 'lip', 'lipstick', 'liquid', 'liquor', 'lisbon', 'list', 'listen', 'lit', 'liter', 'literari', 'literatur', 'litter', 'littl', 'live', 'livein', 'livelihood', 'liver', 'liz', 'lizard', 'lloyd', 'lo', 'load', 'loaf', 'loan', 'loath', 'lob', 'lobbi', 'lobbyist', 'lobster', 'local', 'locat', 'lock', 'locker', 'lodg', 'lodger', 'log', 'logic', 'logo', 'loi', 'lone', 'loneli', 'loner', 'long', 'longer', 'longest', 'longlost', 'longrun', 'longsuff', 'longterm', 'longtim', 'lonni', 'look', 'lookalik', 'lookout', 'loom', 'loomi', 'loop', 'loos', 'loosen', 'loot', 'lord', 'lore', 'lori', 'lorri', 'lose', 'loser', 'loss', 'lost', 'lot', 'lotteri', 'lou', 'loud', 'loudli', 'loudmouth', 'loui', 'louie', 'louisiana', 'loung', 'love', 'loveless', 'lover', 'lovestruck', 'lovingli', 'low', 'lowbudget', 'lower', 'lowest', 'lowlevel', 'lowli', 'loyal', 'loyalti', 'lt', 'luci', 'lucien', 'lucil', 'luck', 'lucki', 'luckili', 'lucr', 'ludwig', 'luftwaff', 'lug', 'luggag', 'lui', 'lull', 'lullabi', 'lumber', 'lump', 'lunar', 'lunat', 'lunch', 'lung', 'lure', 'lurk', 'lust', 'luther', 'luxuri', 'lynch', 'lynn', 'ma', 'mac', 'macabr', 'macdonald', 'machet', 'machin', 'machinegun', 'machineri', 'macho', 'mad', 'madam', 'maddi', 'made', 'madhu', 'madli', 'madra', 'madrid', 'mafia', 'magazin', 'maggi', 'magic', 'magician', 'magistr', 'magnat', 'magnet', 'magnific', 'magnitud', 'mahendra', 'maid', 'maiden', 'mail', 'mailbox', 'maim', 'main', 'mainland', 'mainli', 'maintain', 'mainten', 'majest', 'make', 'makeov', 'maker', 'makeshift', 'makeup', 'mala', 'male', 'malevol', 'malfunct', 'malhotra', 'malici', 'mall', 'mallet', 'mallori', 'mama', 'man', 'mana', 'manag', 'manchest', 'mandatori', 'maneuv', 'manhattan', 'manhunt', 'mani', 'maniac', 'manicurist', 'manifest', 'manila', 'manipul', 'mankind', 'manner', 'manni', 'manor', 'manorama', 'manserv', 'mansion', 'manslaught', 'mantra', 'manual', 'manufactur', 'manuscript', 'map', 'mar', 'marbl', 'march', 'marci', 'marcia', 'marcu', 'mardi', 'marek', 'marg', 'margin', 'margo', 'mari', 'marian', 'mariann', 'marijuana', 'marin', 'marion', 'marit', 'marker', 'market', 'marketplac', 'maroon', 'marqui', 'marri', 'marriag', 'marseil', 'marsh', 'marshal', 'marti', 'martial', 'martian', 'martyr', 'marvel', 'marx', 'maryland', 'mascot', 'mask', 'masquerad', 'mass', 'massachusett', 'massacr', 'massag', 'massiv', 'master', 'mastermind', 'masterpiec', 'masturb', 'match', 'matchmak', 'mate', 'materi', 'materialist', 'matern', 'math', 'mathemat', 'matriarch', 'matrix', 'matron', 'matt', 'matter', 'matur', 'maud', 'maul', 'mauric', 'mausoleum', 'maximum', 'maxwel', 'may', 'mayb', 'mayhem', 'mayor', 'maze', 'mccoy', 'mcdonald', 'mcdougal', 'mckenzi', 'mdash', 'me', 'meager', 'meagr', 'meal', 'mean', 'meaning', 'meaningless', 'meant', 'meantim', 'meanwhil', 'measur', 'meat', 'mechan', 'medal', 'meddl', 'media', 'mediat', 'medic', 'medicin', 'mediev', 'mediocr', 'medit', 'mediterranean', 'medium', 'meek', 'meena', 'meenakshi', 'meet', 'meg', 'mehra', 'mei', 'mel', 'melani', 'melbourn', 'mele', 'melodi', 'melodrama', 'melt', 'member', 'membership', 'memoir', 'memor', 'memori', 'men', 'menac', 'menacingli', 'mend', 'mendoza', 'menial', 'menon', 'mental', 'mention', 'mentor', 'menu', 'meow', 'merced', 'mercenari', 'merchant', 'merci', 'merciless', 'mercilessli', 'mere', 'merg', 'mermaid', 'merri', 'merrili', 'merrygoround', 'mesmer', 'mess', 'messag', 'messeng', 'met', 'metal', 'metaphor', 'mete', 'meteor', 'meteorit', 'meter', 'method', 'meticul', 'metropoli', 'metropolitan', 'mexican', 'mexico', 'meyer', 'mi6', 'miami', 'mice', 'michel', 'michigan', 'mick', 'mickey', 'microfilm', 'microphon', 'mid', 'midair', 'middl', 'middleag', 'middleclass', 'midnight', 'midst', 'midway', 'midwest', 'might', 'mighti', 'migrant', 'migrat', 'mike', 'mild', 'mildmann', 'mile', 'milit', 'militari', 'militia', 'milk', 'mill', 'millennium', 'milli', 'million', 'millionair', 'milton', 'mimi', 'mimic', 'mimick', 'mind', 'mindcontrol', 'mine', 'miner', 'ming', 'mingl', 'mini', 'miniatur', 'minim', 'minimum', 'minion', 'minist', 'ministri', 'minnesota', 'minni', 'minor', 'minstrel', 'minu', 'minut', 'miracl', 'miracul', 'mirror', 'misadventur', 'miscarriag', 'mischief', 'mischiev', 'misde', 'miser', 'miseri', 'misfit', 'misfortun', 'misgiv', 'mishap', 'misinterpret', 'mislead', 'miss', 'missil', 'mission', 'missionari', 'mississippi', 'missouri', 'mist', 'mistak', 'mistaken', 'mistakenli', 'mistreat', 'mistress', 'mistrust', 'misunderstand', 'misunderstood', 'misus', 'mitch', 'mitchel', 'mithun', 'mix', 'mixtur', 'mixup', 'mla', 'moan', 'mob', 'mobil', 'mobster', 'mock', 'mode', 'model', 'moder', 'modern', 'modernday', 'modest', 'modif', 'modifi', 'modu', 'moe', 'moham', 'mohan', 'mold', 'mole', 'molest', 'moll', 'molli', 'molotov', 'mom', 'moment', 'momentarili', 'mona', 'monasteri', 'monetari', 'money', 'moneymak', 'monik', 'moniqu', 'monitor', 'monk', 'monkey', 'monologu', 'monsoon', 'monster', 'monstrou', 'mont', 'montag', 'montana', 'montgomeri', 'month', 'monti', 'montreal', 'monument', 'mood', 'moodi', 'moon', 'moonlight', 'moor', 'moos', 'mop', 'moral', 'morbidli', 'more', 'moreov', 'morgu', 'morley', 'morn', 'moroccan', 'morocco', 'morri', 'morrison', 'mors', 'mortal', 'mortar', 'mortgag', 'mortician', 'morton', 'mortuari', 'moscow', 'mosqu', 'most', 'mostli', 'motel', 'mother', 'motherinlaw', 'motion', 'motiv', 'motley', 'motor', 'motorbik', 'motorboat', 'motorcycl', 'motorcyclist', 'motorist', 'mound', 'mount', 'mountain', 'mourn', 'mous', 'mousehol', 'mousetrap', 'mouth', 'move', 'movement', 'movi', 'mow', 'mp', 'mr', 'ms', 'mt', 'much', 'mud', 'muddi', 'muffl', 'mug', 'mugger', 'mukesh', 'mule', 'muller', 'multimillionair', 'multin', 'multipl', 'multitud', 'mum', 'mumbai', 'munch', 'mundan', 'municip', 'munro', 'mural', 'murali', 'murder', 'murdersuicid', 'muriel', 'murphi', 'murray', 'muscl', 'muse', 'museum', 'mushroom', 'music', 'musician', 'musket', 'muslim', 'must', 'mustang', 'muster', 'mutant', 'mutat', 'mute', 'mutil', 'mutini', 'mutt', 'mutter', 'mutual', 'my', 'mysteri', 'mystic', 'mystifi', 'myth', 'mythic', 'nab', 'nag', 'nagesh', 'nail', 'nair', 'naiv', 'nake', 'name', 'namesak', 'nan', 'nana', 'nanci', 'nandini', 'nandu', 'nanni', 'napkin', 'napl', 'napoleon', 'narayan', 'narcot', 'narr', 'narrat', 'narrow', 'narrowli', 'nasa', 'nasti', 'natali', 'nath', 'nation', 'nationalist', 'nationwid', 'nativ', 'natur', 'naughti', 'naval', 'navi', 'navig', 'nazi', 'nbc', 'ndash', 'neal', 'near', 'nearbi', 'nearest', 'nearli', 'nebraska', 'necess', 'necessari', 'neck', 'necklac', 'ned', 'need', 'needi', 'needl', 'needless', 'nefari', 'neg', 'neglect', 'negoti', 'neha', 'neighbor', 'neighborhood', 'neighbour', 'neighbourhood', 'neither', 'nell', 'nelli', 'nemesi', 'nephew', 'nerdi', 'nerv', 'nervou', 'nervous', 'nest', 'nestor', 'net', 'netherland', 'network', 'neurot', 'neutral', 'nevada', 'never', 'neverend', 'nevertheless', 'new', 'newborn', 'newcom', 'newest', 'newfound', 'newli', 'newlyw', 'newman', 'news', 'newspap', 'newsreel', 'next', 'nextdoor', 'nice', 'nichol', 'nichola', 'nick', 'nicki', 'nicknam', 'nicol', 'niec', 'nigel', 'night', 'nightclub', 'nightfal', 'nightli', 'nightmar', 'nighttim', 'nikhil', 'nikki', 'nile', 'nine', 'nineteenth', 'nineyearold', 'ninja', 'ninth', 'nita', 'no', 'nobil', 'nobl', 'nobleman', 'nobodi', 'nocturn', 'nod', 'nois', 'noisi', 'nomad', 'nomin', 'none', 'nonetheless', 'nonexist', 'nononsens', 'nonsens', 'nonviol', 'noon', 'noos', 'nor', 'norm', 'norma', 'normal', 'norman', 'normandi', 'north', 'northern', 'northwest', 'norton', 'norway', 'norwegian', 'nose', 'nostalg', 'not', 'notabl', 'note', 'notebook', 'noth', 'notic', 'notifi', 'notion', 'notori', 'notorieti', 'novak', 'novel', 'novelist', 'novelti', 'novemb', 'novic', 'now', 'nowher', 'nri', 'nuclear', 'nude', 'nuisanc', 'number', 'numer', 'nun', 'nurs', 'nurseri', 'nurtur', 'nut', 'nymphomaniac', 'nypd', 'oak', 'oath', 'obedi', 'oberoi', 'obes', 'obey', 'object', 'oblig', 'oblivi', 'obnoxi', 'obrien', 'obscen', 'obscur', 'observ', 'obsess', 'obstacl', 'obstruct', 'obtain', 'obviou', 'obvious', 'occas', 'occasion', 'occult', 'occup', 'occupi', 'occur', 'occurr', 'ocean', 'oclock', 'oconnor', 'octob', 'odd', 'oddbal', 'oddli', 'off', 'offend', 'offens', 'offer', 'offguard', 'offic', 'offici', 'offscreen', 'offspr', 'often', 'oh', 'ohara', 'ohio', 'oil', 'ok', 'okay', 'okinawa', 'old', 'older', 'oldest', 'oldfashion', 'olga', 'oliv', 'olli', 'olymp', 'om', 'omin', 'on', 'onboard', 'onc', 'oncom', 'one', 'oneday', 'oneey', 'oneil', 'oneman', 'onenight', 'oneonon', 'onesid', 'onetim', 'ongo', 'onli', 'onlin', 'onlook', 'onset', 'onslaught', 'onstag', 'ontario', 'onto', 'onward', 'ooti', 'open', 'openli', 'oper', 'opera', 'operandi', 'operat', 'opinion', 'opium', 'oppon', 'opportun', 'opportunist', 'oppos', 'opposit', 'oppress', 'opt', 'optim', 'optimist', 'option', 'or', 'oral', 'orang', 'orbit', 'orchestr', 'orchestra', 'ordeal', 'order', 'ordinari', 'oregon', 'organ', 'organis', 'orgi', 'orient', 'origin', 'orlean', 'ornament', 'ornat', 'orphan', 'orphanag', 'orthodox', 'osaka', 'osborn', 'ostens', 'ostrac', 'ostrich', 'oswald', 'other', 'otherwis', 'oti', 'ought', 'ouija', 'our', 'out', 'outback', 'outbreak', 'outburst', 'outcast', 'outcom', 'outcrop', 'outdat', 'outdoor', 'outer', 'outfit', 'outgo', 'outing', 'outlaw', 'outlet', 'outlin', 'outlook', 'outnumb', 'outofcontrol', 'outpost', 'outrag', 'outright', 'outrun', 'outset', 'outsid', 'outskirt', 'outsmart', 'outspoken', 'outstand', 'outwardli', 'outwit', 'ovat', 'oven', 'over', 'overal', 'overbear', 'overboard', 'overcom', 'overconfid', 'overdos', 'overdu', 'overgrown', 'overhead', 'overhear', 'overheard', 'overjoy', 'overli', 'overload', 'overlook', 'overnight', 'overpow', 'overprotect', 'overrun', 'overs', 'overse', 'oversea', 'overshadow', 'overtak', 'overthrow', 'overtur', 'overturn', 'overview', 'overweight', 'overwhelm', 'overzeal', 'owe', 'owl', 'own', 'owner', 'ownership', 'oxford', 'oxygen', 'oz', 'pa', 'pace', 'pacif', 'pacifi', 'pacifist', 'pack', 'packag', 'packet', 'pact', 'pad', 'paddl', 'page', 'pageant', 'paid', 'pain', 'paint', 'painter', 'pair', 'pajama', 'pakistan', 'pakistani', 'pal', 'palac', 'palati', 'pale', 'paleontologist', 'palestin', 'palestinian', 'palm', 'palmer', 'pam', 'pamela', 'pamper', 'pan', 'panel', 'pang', 'panic', 'panick', 'pant', 'panther', 'papa', 'paparazzi', 'paper', 'parabl', 'parachut', 'parad', 'paradis', 'paradox', 'parallel', 'paralys', 'paralyz', 'paramed', 'paranoia', 'paranoid', 'paranorm', 'parasit', 'paratroop', 'parcel', 'pardon', 'parent', 'pari', 'parish', 'parishion', 'parisian', 'park', 'parliament', 'parlor', 'parodi', 'parol', 'parrot', 'parson', 'part', 'partak', 'parti', 'partial', 'particip', 'particl', 'particular', 'particularli', 'partisan', 'partli', 'partner', 'partnership', 'parttim', 'parvati', 'pass', 'passag', 'passageway', 'passeng', 'passersbi', 'passion', 'passiv', 'passport', 'past', 'pastor', 'pastri', 'pasupathi', 'pat', 'patch', 'patel', 'patent', 'path', 'pathet', 'patholog', 'patienc', 'patient', 'patriarch', 'patriot', 'patrol', 'patron', 'patsi', 'pattern', 'patterson', 'patti', 'pauli', 'paulin', 'paus', 'pavement', 'paw', 'pawn', 'pay', 'payment', 'payn', 'payoff', 'payrol', 'peac', 'peach', 'peak', 'peanut', 'pearson', 'peasant', 'peck', 'peculiar', 'pedal', 'peddl', 'pee', 'peek', 'peel', 'peep', 'peer', 'peg', 'peggi', 'pelt', 'pen', 'penalti', 'penchant', 'pend', 'pendleton', 'penelop', 'penetr', 'penguin', 'peni', 'penitentiari', 'penni', 'penniless', 'pennsylvania', 'pension', 'pentagon', 'penthous', 'peopl', 'pep', 'pepe', 'pepper', 'per', 'perceiv', 'percent', 'percentag', 'percept', 'perch', 'perci', 'perciv', 'perfect', 'perfectli', 'perform', 'perfum', 'perhap', 'peril', 'perimet', 'period', 'perish', 'perk', 'perkin', 'perman', 'permiss', 'permit', 'perpetr', 'perpetu', 'perplex', 'perri', 'persecut', 'persever', 'persian', 'persist', 'person', 'persona', 'personnel', 'perspect', 'persuad', 'persuas', 'perth', 'peru', 'pervert', 'pester', 'pet', 'pete', 'petersburg', 'peterson', 'petit', 'petrol', 'petti', 'phantom', 'pharmaceut', 'pharmaci', 'phase', 'phil', 'philadelphia', 'philand', 'philander', 'philipp', 'philippin', 'philosoph', 'philosophi', 'phobia', 'phone', 'phoney', 'phoni', 'photo', 'photograph', 'photographi', 'phrase', 'phylli', 'physic', 'physician', 'physicist', 'pianist', 'piano', 'pick', 'pickax', 'picket', 'pickpocket', 'pickup', 'picnic', 'pictur', 'picturesqu', 'pie', 'piec', 'pier', 'pierc', 'pierr', 'pietro', 'pig', 'pigeon', 'piggi', 'pike', 'pile', 'pilgrim', 'pilgrimag', 'pill', 'pillar', 'pillow', 'pilot', 'pimp', 'pin', 'pine', 'ping', 'pink', 'pinki', 'pint', 'pioneer', 'piou', 'pipe', 'piqu', 'pirat', 'pistol', 'pit', 'pitch', 'pitcher', 'piti', 'pittsburgh', 'pivot', 'pizza', 'placat', 'place', 'plagu', 'plain', 'plan', 'plane', 'planet', 'plant', 'plantat', 'plastic', 'plate', 'plateau', 'platform', 'platon', 'platoon', 'play', 'playboy', 'player', 'playground', 'playmat', 'playoff', 'playwright', 'plea', 'plead', 'pleas', 'pleasant', 'pleasur', 'pledg', 'plenti', 'plight', 'plot', 'plotlin', 'ploy', 'plu', 'pluck', 'plug', 'plummet', 'plung', 'pm', 'poacher', 'pocket', 'pod', 'poem', 'poet', 'poetic', 'poetri', 'point', 'pointer', 'poison', 'poke', 'poker', 'poland', 'polar', 'pole', 'polic', 'policeman', 'policemen', 'policewoman', 'polici', 'polish', 'polit', 'politician', 'polli', 'pollut', 'pompou', 'pond', 'ponder', 'poni', 'poodl', 'pooja', 'pool', 'poor', 'poorer', 'poorli', 'pop', 'pope', 'popul', 'populac', 'popular', 'porch', 'porki', 'porn', 'pornograph', 'pornographi', 'port', 'portabl', 'portal', 'portion', 'portland', 'portrait', 'portray', 'portug', 'portugues', 'pose', 'posh', 'posit', 'poss', 'possess', 'possibl', 'post', 'postal', 'postapocalypt', 'postcard', 'postcredit', 'poster', 'posthum', 'postman', 'postpon', 'postwar', 'pot', 'potato', 'potent', 'potenti', 'potion', 'potter', 'pouch', 'pound', 'pour', 'poverti', 'pow', 'powder', 'power', 'powerless', 'pp', 'practic', 'practis', 'practition', 'pradesh', 'pragu', 'prairi', 'prais', 'prakash', 'prank', 'prasad', 'pratap', 'pray', 'prayer', 'preach', 'preacher', 'precari', 'precaut', 'precinct', 'preciou', 'precipit', 'precis', 'precoci', 'predat', 'predecessor', 'predica', 'predict', 'prefer', 'pregnanc', 'pregnant', 'prehistor', 'prejudic', 'prelud', 'prem', 'prematur', 'premier', 'premis', 'premonit', 'preoccup', 'preoccupi', 'prepar', 'prescript', 'presenc', 'present', 'presentday', 'preserv', 'presid', 'presidenti', 'press', 'pressur', 'prestig', 'prestigi', 'presum', 'pretend', 'pretens', 'pretext', 'pretti', 'prevail', 'prevent', 'previou', 'previous', 'prey', 'pri', 'price', 'priceless', 'prick', 'pride', 'priest', 'priestess', 'primari', 'primarili', 'prime', 'primit', 'princ', 'princip', 'principl', 'print', 'printer', 'prior', 'prioriti', 'prison', 'privaci', 'privat', 'privileg', 'priya', 'prize', 'pro', 'probabl', 'probe', 'problem', 'proce', 'procedur', 'proceed', 'process', 'proclaim', 'procur', 'prod', 'prodigi', 'produc', 'product', 'prof', 'profess', 'profession', 'professor', 'profici', 'profil', 'profit', 'profound', 'program', 'programm', 'progress', 'prohibit', 'project', 'projector', 'prologu', 'prolong', 'prom', 'promin', 'promis', 'promiscu', 'promot', 'prompt', 'promptli', 'prone', 'pronounc', 'proof', 'prop', 'propaganda', 'propel', 'proper', 'properli', 'properti', 'propheci', 'proport', 'propos', 'proposit', 'proprietor', 'prosecut', 'prosecutor', 'prospect', 'prospector', 'prosper', 'prosthet', 'prostitut', 'protagonist', 'protect', 'protector', 'protege', 'protest', 'protocol', 'prototyp', 'protract', 'protrud', 'proud', 'proudli', 'prove', 'proven', 'provid', 'provinc', 'provinci', 'provoc', 'provok', 'prowess', 'proxim', 'pseudonym', 'psych', 'psychiatr', 'psychiatrist', 'psychic', 'psycho', 'psycholog', 'psychologist', 'psychopath', 'psychot', 'pub', 'public', 'publicist', 'publicli', 'publish', 'puddl', 'puff', 'pull', 'pulp', 'puls', 'pump', 'pumpkin', 'pun', 'punch', 'punctur', 'pune', 'punish', 'punjab', 'punjabi', 'punk', 'pup', 'pupil', 'puppet', 'puppi', 'purchas', 'pure', 'puri', 'purpl', 'purport', 'purportedli', 'purpos', 'purs', 'pursu', 'pursuer', 'pursuit', 'push', 'pushi', 'put', 'puzzl', 'pyramid', 'pyre', 'qing', 'qualifi', 'qualiti', 'quantiti', 'quarantin', 'quarrel', 'quarri', 'quarter', 'quartet', 'quebec', 'queen', 'quell', 'quest', 'question', 'queue', 'quick', 'quickli', 'quicksand', 'quiet', 'quietli', 'quinci', 'quirki', 'quit', 'quizz', 'quot', 'rabbi', 'rabbit', 'race', 'racer', 'racial', 'racism', 'racist', 'racket', 'radar', 'radha', 'radhika', 'radiat', 'radic', 'radio', 'radioact', 'raf', 'raft', 'rafter', 'rag', 'rage', 'raghu', 'rahul', 'rai', 'raid', 'raider', 'rail', 'railroad', 'railway', 'rain', 'rainbow', 'rainforest', 'raini', 'rainstorm', 'rais', 'raj', 'raja', 'rajan', 'rajasthan', 'rajendra', 'rajesh', 'raju', 'rake', 'ralli', 'ralph', 'ram', 'rama', 'raman', 'ramayana', 'rambl', 'ramesh', 'ramp', 'rampag', 'rampant', 'ramshackl', 'ramu', 'ran', 'ranch', 'rancher', 'randal', 'randi', 'randolph', 'random', 'randomli', 'rang', 'ranger', 'rani', 'rank', 'ransack', 'ransom', 'rant', 'rao', 'rap', 'rape', 'rapid', 'rapidli', 'rapist', 'rapper', 'rapport', 'rare', 'rash', 'rat', 'rate', 'rather', 'ration', 'raucou', 'ravag', 'rave', 'ravi', 'raw', 'raze', 'razor', 'reach', 'reacquaint', 'react', 'reaction', 'reactiv', 'reactor', 'read', 'reader', 'readi', 'readili', 'reaffirm', 'real', 'realest', 'realis', 'realist', 'realiti', 'realiz', 'realli', 'reallif', 'realm', 'realtor', 'reanim', 'reaper', 'reappear', 'rear', 'reason', 'reassign', 'reassur', 'reawaken', 'rebel', 'rebelli', 'rebellion', 'reborn', 'rebuf', 'rebuff', 'rebuild', 'rebuk', 'recal', 'recaptur', 'receiv', 'recent', 'recept', 'receptionist', 'recipi', 'reciproc', 'recit', 'reckless', 'recklessli', 'reclaim', 'reclus', 'recogn', 'recognis', 'recognit', 'recoil', 'recollect', 'recommend', 'reconcil', 'reconcili', 'reconnaiss', 'reconnect', 'reconsid', 'reconstruct', 'record', 'recount', 'recoup', 'recov', 'recoveri', 'recreat', 'recruit', 'recuper', 'recur', 'red', 'reddi', 'redeem', 'redempt', 'redhand', 'redneck', 'reduc', 'reel', 'reelect', 'reenact', 'reenter', 'rees', 'reestablish', 'reev', 'reexamin', 'ref', 'refer', 'referenc', 'refin', 'reflect', 'reflex', 'reform', 'refrain', 'refresh', 'refriger', 'refuel', 'refug', 'refuge', 'refus', 'regain', 'regard', 'regardless', 'regener', 'reggi', 'regim', 'regiment', 'region', 'regist', 'registr', 'regret', 'regroup', 'regul', 'regular', 'regularli', 'rehab', 'rehabilit', 'rehears', 'rehir', 'reich', 'reign', 'rein', 'reincarn', 'reinforc', 'reinstat', 'reinvigor', 'reject', 'rejoic', 'rejoin', 'rejuven', 'rekha', 'rekindl', 'rel', 'relat', 'relationship', 'relax', 'relay', 'releas', 'relent', 'relentlessli', 'relev', 'reli', 'reliabl', 'relief', 'reliev', 'religi', 'religion', 'reliv', 'reloc', 'reluct', 'reluctantli', 'remad', 'remain', 'remaind', 'remak', 'remark', 'remarri', 'rematch', 'remedi', 'rememb', 'remind', 'reminisc', 'remnant', 'remors', 'remot', 'remov', 'renam', 'render', 'rendezv', 'rendit', 'reneg', 'renegad', 'renew', 'renounc', 'renov', 'renown', 'rent', 'rental', 'reopen', 'repair', 'repairman', 'repatri', 'repay', 'repeat', 'repeatedli', 'repel', 'repent', 'repetit', 'replac', 'replay', 'repli', 'replica', 'report', 'reportedli', 'repres', 'repress', 'reprimand', 'repris', 'reproduc', 'reprogram', 'republ', 'republican', 'repuls', 'reput', 'request', 'requir', 'rescu', 'rescuer', 'research', 'resembl', 'resent', 'reserv', 'reservoir', 'resid', 'residenti', 'resign', 'resili', 'resist', 'resolut', 'resolv', 'resort', 'resourc', 'respect', 'respit', 'respond', 'respons', 'rest', 'restart', 'restaur', 'restless', 'restor', 'restrain', 'restrict', 'restroom', 'result', 'resum', 'resurfac', 'resurrect', 'retain', 'retak', 'retali', 'retard', 'retel', 'rethink', 'retir', 'retort', 'retract', 'retreat', 'retribut', 'retriev', 'return', 'reunion', 'reunit', 'rev', 'reveal', 'revel', 'reveng', 'revenu', 'rever', 'reverend', 'revers', 'revert', 'review', 'revisit', 'reviv', 'revok', 'revolt', 'revolut', 'revolutionari', 'revolv', 'reward', 'rewrit', 'reynold', 'rhetor', 'rhode', 'rhythm', 'rib', 'ribbon', 'rice', 'rich', 'richer', 'richest', 'richi', 'rick', 'ricki', 'rid', 'ridden', 'riddl', 'ride', 'rider', 'ridg', 'ridicul', 'rifl', 'rift', 'rig', 'right', 'righteou', 'righthand', 'rigid', 'rigor', 'ring', 'ringlead', 'rink', 'rio', 'riot', 'rip', 'rise', 'risen', 'risk', 'riski', 'rita', 'rite', 'ritu', 'ritual', 'rival', 'rivalri', 'riversid', 'rm', 'road', 'roadblock', 'roadsid', 'roam', 'roar', 'roast', 'rob', 'robber', 'robberi', 'robbi', 'robe', 'robinson', 'robot', 'rock', 'rocket', 'rocki', 'rod', 'rodeo', 'rodriguez', 'rogu', 'rohit', 'role', 'roll', 'roller', 'rollin', 'romanc', 'romania', 'romanian', 'romant', 'rome', 'romero', 'ron', 'ronni', 'roof', 'rooftop', 'rooki', 'room', 'roommat', 'roosevelt', 'rooster', 'root', 'rope', 'rosco', 'rosi', 'ross', 'rot', 'rotten', 'rottweil', 'roug', 'rough', 'roughli', 'roulett', 'round', 'rous', 'rout', 'routin', 'rover', 'row', 'rowboat', 'rowdi', 'roxi', 'rs', 'rub', 'rubber', 'rubbish', 'rubbl', 'rubi', 'rude', 'rudi', 'rudolph', 'ruffian', 'rufu', 'rug', 'rugbi', 'ruin', 'rule', 'ruler', 'rumbl', 'rumor', 'rumour', 'run', 'runaway', 'rundown', 'runin', 'runner', 'runway', 'rupe', 'ruptur', 'rural', 'ruse', 'rush', 'russel', 'russia', 'russian', 'rust', 'rusti', 'rustl', 'ruthless', 'ruthlessli', 'rv', 'sabotag', 'saboteur', 'sach', 'sack', 'sacr', 'sacrif', 'sacrific', 'sacrifici', 'sad', 'sadden', 'sadi', 'sadist', 'sadli', 'safari', 'safe', 'safeguard', 'safekeep', 'safer', 'safeti', 'saga', 'sagar', 'sahara', 'said', 'sail', 'sailboat', 'sailor', 'saint', 'sake', 'sal', 'salari', 'sale', 'salesman', 'salesmen', 'salim', 'salli', 'salmon', 'salon', 'saloon', 'salt', 'salut', 'salvag', 'salvat', 'samaritan', 'same', 'sammi', 'sampl', 'samurai', 'san', 'sanatorium', 'sanction', 'sanctuari', 'sand', 'sander', 'sandhya', 'sandi', 'sandwich', 'sane', 'sang', 'sanitarium', 'saniti', 'sanjana', 'sanjay', 'sank', 'santa', 'santo', 'sarcast', 'sarcophagu', 'sardar', 'sat', 'satan', 'satellit', 'satir', 'satisfact', 'satisfi', 'saturday', 'satya', 'saucer', 'sausag', 'savag', 'save', 'savior', 'savvi', 'saw', 'saxophon', 'say', 'scale', 'scam', 'scan', 'scandal', 'scanner', 'scapegoat', 'scar', 'scare', 'scarecrow', 'scarf', 'scari', 'scath', 'scatter', 'scaveng', 'scenario', 'scene', 'sceneri', 'sceptic', 'schedul', 'scheme', 'scholar', 'scholarship', 'school', 'schoolboy', 'schoolgirl', 'schoolmat', 'schoolteach', 'scienc', 'scientif', 'scientist', 'scissor', 'scold', 'scoop', 'scooter', 'scorch', 'score', 'scorn', 'scorpion', 'scotland', 'scottish', 'scout', 'scrambl', 'scrap', 'scrape', 'scratch', 'scream', 'screen', 'screenplay', 'screenwrit', 'screw', 'script', 'scriptur', 'scriptwrit', 'scroll', 'scrub', 'scrutini', 'scuba', 'scuffl', 'sculptor', 'sculptur', 'sea', 'seagul', 'seal', 'seaman', 'seamstress', 'search', 'seasid', 'season', 'seat', 'seattl', 'seclud', 'seclus', 'second', 'secondari', 'secondincommand', 'secreci', 'secret', 'secretari', 'secretli', 'sect', 'section', 'secur', 'sed', 'sedat', 'seduc', 'seduct', 'see', 'seed', 'seedi', 'seek', 'seem', 'seema', 'seemingli', 'seen', 'seetha', 'segment', 'seiz', 'seizur', 'select', 'self', 'selfabsorb', 'selfcent', 'selfconfid', 'selfdefens', 'selfdestruct', 'selfdoubt', 'selfesteem', 'selfish', 'selfless', 'selfproclaim', 'selfserv', 'selfstyl', 'selina', 'sell', 'seller', 'semest', 'semifin', 'senat', 'send', 'senil', 'senior', 'sens', 'sensat', 'senseless', 'sensibl', 'sensit', 'sensual', 'sent', 'sentenc', 'sentiment', 'sentri', 'seoul', 'separ', 'septemb', 'sequel', 'sequenc', 'seren', 'serenad', 'sergeant', 'seri', 'serial', 'seriou', 'serious', 'serum', 'serv', 'servant', 'server', 'servic', 'session', 'set', 'setback', 'settl', 'settlement', 'settler', 'setup', 'seven', 'seventeen', 'seventh', 'sever', 'sew', 'sewer', 'sex', 'sexi', 'sexual', 'sgt', 'shack', 'shackl', 'shade', 'shadi', 'shadow', 'shadowi', 'shaft', 'shaggi', 'shah', 'shake', 'shaken', 'shakespear', 'shakti', 'shall', 'shallow', 'sham', 'shaman', 'shambl', 'shame', 'shameless', 'shanghai', 'shankar', 'shaolin', 'shape', 'shapeshift', 'share', 'sharehold', 'shark', 'sharma', 'sharp', 'sharpli', 'sharpshoot', 'shatter', 'shave', 'shaw', 'she', 'shed', 'sheep', 'sheepdog', 'sheer', 'sheet', 'sheik', 'sheikh', 'sheila', 'shekhar', 'sheldon', 'shell', 'shelter', 'shelton', 'shemp', 'shepherd', 'sheriff', 'sherman', 'sherwood', 'shi', 'shield', 'shift', 'shifti', 'shine', 'shinichi', 'ship', 'shipmat', 'shipment', 'shipwreck', 'shirley', 'shirt', 'shiva', 'shock', 'shoe', 'shoo', 'shoot', 'shooter', 'shootout', 'shop', 'shopkeep', 'shoplift', 'shore', 'short', 'shortag', 'shortcut', 'shorti', 'shortli', 'shortliv', 'shorttemp', 'shot', 'shotgun', 'should', 'shoulder', 'shouldnt', 'shout', 'shove', 'shovel', 'show', 'showcas', 'showdown', 'shower', 'shown', 'shred', 'shrine', 'shrink', 'shrug', 'shuffl', 'shun', 'shut', 'shuttl', 'shyam', 'siames', 'siberia', 'sibl', 'sick', 'sickli', 'sid', 'side', 'sidekick', 'sidelin', 'sideshow', 'sidetrack', 'sidewalk', 'sieg', 'sigh', 'sight', 'sign', 'signal', 'signatur', 'signifi', 'signific', 'significantli', 'sikh', 'silenc', 'silent', 'silhouett', 'silli', 'silo', 'silver', 'similar', 'similarli', 'simmer', 'simmon', 'simpl', 'simpleton', 'simpli', 'simpson', 'simran', 'simul', 'simultan', 'sin', 'sinatra', 'sinc', 'sincer', 'sing', 'singapor', 'singer', 'singh', 'singl', 'singlehandedli', 'sinist', 'sink', 'sioux', 'sir', 'siren', 'sister', 'sisterinlaw', 'sit', 'sita', 'site', 'situat', 'six', 'sixmonth', 'sixteen', 'sixteenyearold', 'sixth', 'sixti', 'size', 'skate', 'skateboard', 'skelet', 'skeleton', 'skeptic', 'sketch', 'skewer', 'ski', 'skill', 'skin', 'skip', 'skirmish', 'skirt', 'skull', 'skunk', 'skylight', 'skyrocket', 'skyscrap', 'slacker', 'slade', 'slain', 'slam', 'slang', 'slap', 'slapstick', 'slash', 'slasher', 'slaughter', 'slaughterhous', 'slave', 'slaveri', 'slay', 'sleazi', 'sled', 'sleep', 'sleepi', 'sleepwalk', 'sleev', 'sleigh', 'slept', 'sleuth', 'slice', 'slide', 'slight', 'slightli', 'sling', 'slingshot', 'slip', 'slit', 'slogan', 'slope', 'slot', 'slow', 'slowli', 'slug', 'slum', 'slump', 'smack', 'small', 'smaller', 'smallest', 'smalltim', 'smalltown', 'smart', 'smash', 'smear', 'smell', 'smile', 'smirk', 'smith', 'smitten', 'smoke', 'smokey', 'smooth', 'smoothli', 'smoothtalk', 'smother', 'smuggl', 'smuggler', 'snack', 'snag', 'snake', 'snap', 'snare', 'snarl', 'snatch', 'sneak', 'sneaker', 'sneez', 'sniff', 'snipe', 'sniper', 'snobbish', 'snoop', 'snort', 'snow', 'snowbal', 'snowi', 'snowman', 'snowstorm', 'so', 'soak', 'soap', 'soar', 'sob', 'sober', 'socal', 'soccer', 'social', 'socialist', 'socialit', 'societi', 'sociopath', 'sock', 'sofa', 'soft', 'soften', 'softli', 'softwar', 'soil', 'solac', 'solar', 'sold', 'soldier', 'sole', 'solemn', 'solicit', 'solicitor', 'solid', 'solitari', 'solitud', 'solo', 'solut', 'solv', 'somber', 'some', 'somebodi', 'someday', 'somehow', 'someon', 'someth', 'sometim', 'somewhat', 'somewher', 'son', 'sonar', 'song', 'soninlaw', 'sonni', 'soon', 'sooner', 'sooth', 'sophi', 'sophist', 'sorcer', 'sorceress', 'sorceri', 'sore', 'soror', 'sorri', 'sorrow', 'sort', 'sought', 'soul', 'sound', 'soundtrack', 'soup', 'sour', 'sourc', 'south', 'southern', 'souvenir', 'soviet', 'sox', 'spa', 'space', 'spacecraft', 'spaceship', 'spain', 'span', 'spanish', 'spank', 'spanki', 'spar', 'spare', 'spark', 'sparrow', 'sparta', 'spartan', 'spat', 'speak', 'speaker', 'spear', 'speci', 'special', 'specialist', 'specif', 'specifi', 'specimen', 'spectacular', 'spectat', 'specul', 'speech', 'speed', 'speedi', 'spell', 'spend', 'spent', 'spew', 'sphere', 'spi', 'spider', 'spike', 'spill', 'spin', 'spine', 'spinster', 'spiral', 'spirit', 'spiritu', 'spit', 'spite', 'spitfir', 'splash', 'splatter', 'split', 'spoil', 'spoilt', 'spoke', 'spoken', 'spokesman', 'sponsor', 'spontan', 'spoof', 'spook', 'spooki', 'spoon', 'sporad', 'sport', 'spot', 'spotlight', 'spous', 'sprawl', 'spray', 'spread', 'spree', 'spring', 'sprout', 'spur', 'spurn', 'squad', 'squadron', 'squalor', 'squander', 'squar', 'squash', 'squir', 'squirrel', 'squirt', 'sr', 'sreenivasan', 'sri', 'ss', 'st', 'stab', 'stabil', 'stabl', 'stacey', 'staci', 'stack', 'stadium', 'staff', 'stage', 'stagecoach', 'stagger', 'stain', 'stair', 'staircas', 'stairway', 'stairwel', 'stake', 'stalin', 'stalk', 'stalker', 'stall', 'stamp', 'stamped', 'stan', 'stanc', 'stand', 'standard', 'standoff', 'standup', 'stanford', 'star', 'stardom', 'stare', 'starfish', 'stark', 'starr', 'start', 'startl', 'starv', 'starvat', 'stash', 'stasi', 'state', 'statement', 'station', 'statu', 'statur', 'staunch', 'stay', 'steadi', 'steadili', 'steak', 'steal', 'stealth', 'steam', 'steamer', 'steami', 'steel', 'steep', 'steer', 'stem', 'step', 'stepbroth', 'stepdaught', 'stepfath', 'stephani', 'stepmoth', 'stepsist', 'stepson', 'stereotyp', 'stern', 'steve', 'stevi', 'steward', 'stewardess', 'stewart', 'stick', 'sticker', 'still', 'stimul', 'sting', 'stinger', 'stink', 'stint', 'stir', 'stitch', 'stock', 'stockbrok', 'stockholm', 'stoker', 'stole', 'stolen', 'stomach', 'stomp', 'stone', 'stoner', 'stood', 'stoog', 'stool', 'stop', 'storag', 'store', 'stori', 'stork', 'storm', 'stormi', 'storylin', 'stove', 'stow', 'stowaway', 'strafe', 'straight', 'straighten', 'strain', 'strand', 'strang', 'stranger', 'strangl', 'strangler', 'strap', 'strateg', 'strategi', 'straw', 'strawberri', 'stray', 'streak', 'stream', 'street', 'streetsmart', 'streetwis', 'strength', 'strengthen', 'stress', 'stretch', 'stretcher', 'stricken', 'strict', 'strictli', 'stride', 'strike', 'striker', 'string', 'strip', 'stripe', 'stripper', 'stripteas', 'strive', 'stroke', 'stroll', 'strong', 'stronger', 'strongest', 'stronghold', 'strongli', 'strongwil', 'struck', 'structur', 'struggl', 'stuart', 'stubborn', 'stubbornli', 'stuck', 'student', 'studi', 'studio', 'studiou', 'stuf', 'stuff', 'stumbl', 'stump', 'stun', 'stung', 'stunt', 'stupid', 'stupor', 'stutter', 'style', 'stymi', 'su', 'suav', 'sub', 'subconsci', 'subdu', 'subinspector', 'subject', 'submachin', 'submarin', 'submerg', 'submiss', 'submit', 'subordin', 'subplot', 'subsequ', 'substanc', 'substanti', 'substitut', 'subtl', 'subtli', 'suburb', 'suburban', 'subway', 'succe', 'succeed', 'success', 'successor', 'succumb', 'such', 'suck', 'sudden', 'suddenli', 'sue', 'suffer', 'suffici', 'suffoc', 'sugar', 'suggest', 'suicid', 'suit', 'suitabl', 'suitcas', 'suitor', 'sulk', 'sultan', 'sultri', 'sum', 'summari', 'summit', 'summon', 'sun', 'sundar', 'sunday', 'sundown', 'sung', 'sunglass', 'sunil', 'sunk', 'sunken', 'sunlight', 'sunni', 'sunris', 'sunset', 'super', 'superfici', 'superhero', 'superhuman', 'superintend', 'superior', 'supermarket', 'supermodel', 'supernatur', 'superpow', 'superstar', 'superstit', 'superstiti', 'supervis', 'supervisor', 'supper', 'suppli', 'support', 'suppos', 'supposedli', 'suppress', 'suprem', 'supremaci', 'suraj', 'sure', 'suresh', 'surf', 'surfac', 'surfer', 'surg', 'surgeon', 'surgeri', 'surgic', 'suri', 'surmis', 'surpass', 'surpris', 'surprisingli', 'surreal', 'surrend', 'surreptiti', 'surrog', 'surround', 'surveil', 'survey', 'surviv', 'survivor', 'surya', 'susi', 'suspect', 'suspend', 'suspens', 'suspici', 'suspicion', 'sustain', 'suv', 'suzann', 'suzi', 'swallow', 'swami', 'swamp', 'swan', 'swap', 'swarm', 'swat', 'sway', 'swear', 'sweater', 'sweden', 'swedish', 'sweep', 'sweet', 'sweetheart', 'swept', 'swerv', 'swift', 'swiftli', 'swim', 'swindl', 'swing', 'swipe', 'swiss', 'switch', 'switzerland', 'sword', 'swordsman', 'sworn', 'sylvest', 'symbol', 'sympath', 'sympathet', 'sympathi', 'symphoni', 'symptom', 'syndic', 'syndrom', 'synopsi', 'syring', 'system', 'systemat', 'tabl', 'tablet', 'tabloid', 'taboo', 'tack', 'tackl', 'tactic', 'tag', 'taglin', 'tahiti', 'tail', 'tailor', 'taint', 'take', 'taken', 'takeoff', 'takeov', 'talbot', 'tale', 'talent', 'talk', 'tall', 'talli', 'tame', 'tamil', 'tamper', 'tan', 'tangier', 'tangl', 'tango', 'tank', 'tanker', 'tantrum', 'tanya', 'tap', 'tape', 'target', 'tarzan', 'taser', 'task', 'tast', 'tat', 'tatter', 'tattoo', 'taught', 'taunt', 'tavern', 'tax', 'taxi', 'taxicab', 'tea', 'teach', 'teacher', 'team', 'teammat', 'tear', 'teas', 'tech', 'technic', 'technician', 'techniqu', 'technolog', 'ted', 'teddi', 'teen', 'teenag', 'teeth', 'telegram', 'telegraph', 'telekinesi', 'telekinet', 'telepath', 'telephon', 'teleport', 'telescop', 'televis', 'tell', 'teller', 'telugu', 'temper', 'temperament', 'temperatur', 'templ', 'temporari', 'temporarili', 'tempt', 'temptat', 'ten', 'tenant', 'tend', 'tendenc', 'tender', 'tenderli', 'tenement', 'tennesse', 'tenni', 'tens', 'tension', 'tent', 'tentacl', 'tenth', 'tenyearold', 'term', 'termin', 'terrac', 'terraform', 'terrain', 'terri', 'terribl', 'terrif', 'terrifi', 'territori', 'terror', 'terroris', 'terrorist', 'tess', 'test', 'testament', 'testifi', 'testimoni', 'texa', 'texan', 'text', 'textil', 'thai', 'thailand', 'thakur', 'thame', 'than', 'thank', 'thanksgiv', 'that', 'thaw', 'theater', 'theatr', 'theatric', 'theft', 'their', 'them', 'theme', 'themselv', 'then', 'theodor', 'theori', 'theoriz', 'therapi', 'therapist', 'there', 'thereaft', 'therebi', 'therefor', 'theresa', 'these', 'they', 'theyd', 'theyll', 'theyr', 'theyv', 'thi', 'thick', 'thief', 'thiev', 'thigh', 'thin', 'thing', 'think', 'third', 'thirst', 'thirsti', 'thirteen', 'thirti', 'thoma', 'thomass', 'thompson', 'thorn', 'thorough', 'thoroughli', 'those', 'though', 'thought', 'thousand', 'thrash', 'thread', 'threat', 'threaten', 'three', 'threshold', 'threw', 'thrill', 'thriller', 'thrive', 'throat', 'throne', 'throng', 'through', 'throughout', 'throw', 'thrown', 'thrust', 'thu', 'thug', 'thumb', 'thunder', 'thunderstorm', 'thursday', 'thwart', 'tick', 'ticket', 'tide', 'tidi', 'tie', 'tiger', 'tight', 'tijuana', 'tile', 'till', 'tilt', 'tim', 'timber', 'time', 'timer', 'timid', 'timmi', 'timothi', 'tin', 'tina', 'tini', 'tinker', 'tip', 'tipsi', 'tipto', 'tire', 'tissu', 'titl', 'titular', 'tiwari', 'tj', 'toast', 'toaster', 'tobacco', 'tobi', 'today', 'todd', 'toe', 'togeth', 'toilet', 'tokyo', 'told', 'toler', 'toll', 'tom', 'tomato', 'tomb', 'tombston', 'tommi', 'tomorrow', 'ton', 'tone', 'tong', 'tongu', 'toni', 'tonight', 'too', 'took', 'tool', 'tooth', 'top', 'topic', 'topless', 'topsecret', 'torasan', 'torch', 'torment', 'tormentor', 'torn', 'toronto', 'torpedo', 'torso', 'tortur', 'toss', 'total', 'touch', 'tough', 'tour', 'tourist', 'tournament', 'tow', 'toward', 'towel', 'tower', 'town', 'townsfolk', 'township', 'townspeopl', 'toxic', 'toxin', 'toy', 'traci', 'track', 'tracker', 'trade', 'trademark', 'trader', 'tradit', 'traffic', 'traffick', 'tragedi', 'tragic', 'trail', 'trailer', 'train', 'traine', 'trainer', 'traitor', 'tramp', 'trampl', 'tranc', 'tranquil', 'transact', 'transfer', 'transform', 'transit', 'translat', 'transmiss', 'transmit', 'transmitt', 'transpir', 'transplant', 'transport', 'transvestit', 'transylvania', 'trap', 'trapez', 'trapper', 'trash', 'trauma', 'traumat', 'traumatis', 'travel', 'travers', 'travi', 'treacher', 'treacheri', 'treason', 'treasur', 'treasuri', 'treat', 'treati', 'treatment', 'tree', 'treehous', 'trek', 'tremend', 'trench', 'trend', 'trespass', 'tri', 'triad', 'trial', 'triangl', 'tribal', 'tribe', 'tribul', 'tribun', 'tribut', 'trick', 'trickeri', 'trickster', 'trigger', 'trilog', 'trio', 'trip', 'tripl', 'triplet', 'triumph', 'triumphant', 'triumphantli', 'trivial', 'trixi', 'trojan', 'troop', 'trooper', 'trophi', 'tropic', 'troubl', 'troublemak', 'troublesom', 'troup', 'trouser', 'truce', 'truck', 'trucker', 'true', 'truli', 'trumpet', 'trunk', 'trust', 'truth', 'tryst', 'tshirt', 'tsunami', 'tub', 'tube', 'tuberculosi', 'tuck', 'tucson', 'tug', 'tuition', 'tumbl', 'tumor', 'tumultu', 'tune', 'tung', 'tunnel', 'turbul', 'turf', 'turk', 'turkey', 'turkish', 'turmoil', 'turn', 'turner', 'turtl', 'tussl', 'tutelag', 'tutor', 'tv', 'tweeti', 'twelv', 'twelveyearold', 'twenti', 'twentieth', 'twentyf', 'twice', 'twin', 'twist', 'two', 'twoyear', 'tycoon', 'type', 'typic', 'tyrann', 'tyrannosauru', 'uboat', 'ucla', 'ufo', 'ugli', 'uk', 'ultim', 'ultimatum', 'umbrella', 'un', 'unabl', 'unaccept', 'unaffect', 'unanim', 'unannounc', 'unansw', 'unarm', 'unawar', 'unbear', 'unbeknownst', 'unbeliev', 'unborn', 'uncanni', 'uncar', 'uncertain', 'uncertainti', 'uncharacterist', 'unchart', 'uncl', 'unclear', 'uncomfort', 'unconcern', 'uncondit', 'unconsci', 'uncontrol', 'unconvent', 'unconvinc', 'uncov', 'undaunt', 'undead', 'under', 'underag', 'underbelli', 'undercov', 'undergo', 'underground', 'underhand', 'undermin', 'underneath', 'understand', 'understood', 'undertak', 'underwat', 'underway', 'underwear', 'underworld', 'undet', 'undetect', 'undi', 'undiscov', 'undisturb', 'undo', 'undress', 'unearth', 'uneasi', 'uneduc', 'unemploy', 'unenthusiast', 'uneth', 'unev', 'unexpect', 'unexpectedli', 'unexplain', 'unfair', 'unfaith', 'unfamiliar', 'unfinish', 'unfit', 'unfold', 'unfortun', 'unfulfil', 'unhappi', 'unhappili', 'unharm', 'unholi', 'unicorn', 'unidentifi', 'uniform', 'unimpress', 'uninhabit', 'uninjur', 'unintent', 'uninterest', 'uninvit', 'union', 'uniqu', 'unit', 'uniti', 'univers', 'unjust', 'unkempt', 'unknow', 'unknowingli', 'unknown', 'unleash', 'unless', 'unlik', 'unload', 'unlock', 'unlucki', 'unmarri', 'unmask', 'unmov', 'unnam', 'unnatur', 'unnecessari', 'unnerv', 'unni', 'unnot', 'unoffici', 'unorthodox', 'unpack', 'unpaid', 'unpleas', 'unpopular', 'unpredict', 'unravel', 'unrel', 'unreli', 'unrequit', 'unresolv', 'unsatisfi', 'unscath', 'unscrupul', 'unseen', 'unsettl', 'unspecifi', 'unstabl', 'unstopp', 'unsuccess', 'unsuit', 'unsur', 'unsuspect', 'unsympathet', 'unti', 'until', 'untim', 'untouch', 'unus', 'unusu', 'unveil', 'unwant', 'unwel', 'unwelcom', 'unwil', 'unwillingli', 'unwit', 'unwittingli', 'up', 'upandcom', 'upbring', 'upcom', 'updat', 'upon', 'upper', 'upperclass', 'upright', 'upris', 'upscal', 'upset', 'upsid', 'upstair', 'upstart', 'uptight', 'uranium', 'urban', 'urg', 'urgent', 'urin', 'urn', 'us', 'usa', 'use', 'useless', 'user', 'usher', 'uss', 'ussr', 'usual', 'usurp', 'utah', 'util', 'utter', 'utterli', 'vacant', 'vacat', 'vaccin', 'vacuum', 'vagrant', 'vagu', 'vain', 'val', 'valentin', 'valeri', 'valet', 'valid', 'valley', 'valu', 'valuabl', 'valv', 'vampir', 'vancouv', 'vandal', 'vanish', 'vaniti', 'vari', 'varieti', 'variou', 'varma', 'vase', 'vast', 'vastli', 'vasu', 'vat', 'vatican', 'vaudevil', 'vault', 'veer', 'veera', 'vega', 'veget', 'vehement', 'vehicl', 'veil', 'velma', 'vendetta', 'vendor', 'venezuela', 'veng', 'vengeanc', 'venic', 'vent', 'ventil', 'ventur', 'venu', 'verbal', 'verdict', 'verg', 'veri', 'verifi', 'verma', 'vernon', 'vers', 'versa', 'version', 'versu', 'vessel', 'vest', 'vet', 'veteran', 'veterinari', 'veterinarian', 'via', 'viabl', 'vial', 'vibrat', 'vic', 'vicar', 'vice', 'vicepresid', 'vicin', 'viciou', 'vicious', 'vicki', 'victim', 'victori', 'victorian', 'video', 'videotap', 'vietnam', 'vietnames', 'view', 'viewer', 'vigilant', 'vignett', 'vigor', 'vii', 'vijay', 'vijayaraghavan', 'vike', 'vikram', 'viktor', 'vilifi', 'villa', 'villag', 'villain', 'vinc', 'vindic', 'vindict', 'vine', 'vinod', 'vintag', 'violat', 'violenc', 'violent', 'violin', 'violinist', 'virgil', 'virgin', 'virtu', 'virtual', 'virtuou', 'viru', 'visa', 'visibl', 'vision', 'visit', 'visitor', 'visual', 'vital', 'vito', 'vivek', 'vivid', 'vladimir', 'vocal', 'vodka', 'voic', 'voiceov', 'volatil', 'volcan', 'volcano', 'volkswagen', 'volum', 'volunt', 'voluntarili', 'vomit', 'von', 'voodoo', 'vortex', 'vote', 'voter', 'vouch', 'vow', 'voyag', 'vs', 'vulgar', 'vulner', 'vultur', 'wa', 'wage', 'wager', 'wagner', 'wagon', 'wail', 'waist', 'wait', 'waiter', 'waitress', 'wake', 'waldo', 'wale', 'walk', 'wall', 'wallac', 'wallet', 'walli', 'walsh', 'walt', 'waltz', 'wan', 'wanda', 'wander', 'wang', 'wanna', 'wannab', 'want', 'war', 'ward', 'warden', 'wardrob', 'ware', 'warehous', 'warfar', 'wari', 'warlock', 'warlord', 'warm', 'warmth', 'warn', 'warner', 'warp', 'warrant', 'warrior', 'warsaw', 'warship', 'wartim', 'wash', 'washedup', 'washington', 'wasnt', 'wast', 'wasteland', 'watch', 'watcher', 'watchman', 'water', 'waterfal', 'waterfront', 'watkin', 'watson', 'wave', 'waver', 'way', 'waylaid', 'waylay', 'wayn', 'wayward', 'we', 'weak', 'weaken', 'weaker', 'wealth', 'wealthi', 'weapon', 'weaponri', 'wear', 'weari', 'weather', 'weav', 'web', 'webb', 'websit', 'webster', 'wed', 'wedg', 'wedlock', 'weed', 'week', 'weekend', 'weekli', 'weep', 'wehrmacht', 'weigh', 'weight', 'weird', 'welcom', 'welfar', 'well', 'wellb', 'wellconnect', 'wellington', 'wellknown', 'welloff', 'welltodo', 'welsh', 'wendel', 'wender', 'wendi', 'went', 'were', 'werent', 'werewolf', 'west', 'western', 'wet', 'whack', 'whale', 'wharf', 'what', 'whatev', 'wheat', 'wheel', 'wheelchair', 'wheelchairbound', 'wheelchairus', 'wheeler', 'when', 'whenev', 'where', 'wherea', 'whereabout', 'wherebi', 'wherein', 'whereupon', 'wherev', 'whether', 'whi', 'which', 'while', 'whilst', 'whip', 'whirlwind', 'whisk', 'whiskey', 'whiski', 'whisper', 'whistl', 'white', 'who', 'whoever', 'whole', 'whom', 'whore', 'whorehous', 'whose', 'wick', 'wide', 'widen', 'wider', 'widespread', 'widow', 'wield', 'wife', 'wig', 'wilbur', 'wild', 'wilder', 'wildfir', 'wildli', 'wildlif', 'wile', 'wilfr', 'wilhelm', 'wili', 'wilk', 'wilkin', 'willi', 'willing', 'willingli', 'win', 'wind', 'window', 'windshield', 'wine', 'wing', 'wink', 'winner', 'winslow', 'wipe', 'wire', 'wisconsin', 'wisdom', 'wise', 'wiser', 'wish', 'wisher', 'wit', 'witch', 'witchcraft', 'withdraw', 'withdrawn', 'wither', 'withheld', 'withhold', 'within', 'without', 'withstand', 'wive', 'wizard', 'woe', 'woke', 'woken', 'wolf', 'wolv', 'woman', 'womanis', 'womb', 'women', 'won', 'wonder', 'wong', 'wont', 'woo', 'wood', 'wooden', 'woodi', 'woodland', 'woodpeck', 'word', 'wore', 'work', 'workahol', 'worker', 'workingclass', 'workplac', 'workshop', 'world', 'worldli', 'worldwid', 'worm', 'worn', 'worri', 'wors', 'worsen', 'worship', 'worst', 'worth', 'worthi', 'worthless', 'would', 'wouldb', 'wouldnt', 'wound', 'wrap', 'wrath', 'wreak', 'wreck', 'wreckag', 'wrench', 'wrestl', 'wrestler', 'wright', 'wrist', 'write', 'writer', 'written', 'wrong', 'wrongdo', 'wrongli', 'wrote', 'wu', 'wyom', 'xiao', 'xray', 'ya', 'yacht', 'yakuza', 'yang', 'yank', 'yanke', 'yard', 'ye', 'year', 'yearn', 'yearold', 'yell', 'yellow', 'yen', 'yesterday', 'yet', 'yield', 'ying', 'york', 'yorker', 'yorkshir', 'yosemit', 'you', 'youll', 'young', 'younger', 'youngest', 'youngster', 'your', 'yourself', 'youth', 'youv', 'yu', 'yun', 'yuri', 'yvonn', 'zack', 'zamindar', 'zealand', 'zero', 'zi', 'zip', 'zombi', 'zombifi', 'zone', 'zoo', 'zoom', 'zoot']\n"
     ]
    },
    {
     "data": {
      "text/plain": [
       "array([], dtype=int64)"
      ]
     },
     "execution_count": 223,
     "metadata": {
      "tags": []
     },
     "output_type": "execute_result"
    }
   ],
   "source": [
    "print(corpusA_tf_idf.shape)\n",
    "print(vectorizer.get_feature_names())\n",
    "np.where(~corpusA_tf_idf.any(axis=1))[0]"
   ]
  },
  {
   "cell_type": "markdown",
   "metadata": {
    "_uuid": "d3dffe56d617fe5e2665b162e5650c8b2dffebda",
    "colab_type": "text",
    "id": "3LsmvSyVykTU"
   },
   "source": [
    "## Υλοποίηση του συστήματος συστάσεων\n",
    "\n",
    "Το σύστημα συστάσεων που θα παραδώσετε θα είναι μια συνάρτηση `content_recommender` με δύο ορίσματα `target_movie` και `max_recommendations`. Στην `target_movie` περνάμε το ID μιας ταινίας-στόχου για την οποία μας ενδιαφέρει να βρούμε παρόμοιες ως προς το περιεχόμενο (τη σύνοψη) ταινίες, `max_recommendations` στο πλήθος.\n",
    "Υλοποιήστε τη συνάρτηση ως εξής: \n",
    "- για την ταινία-στόχο, από το `corpus_tf_idf` υπολογίστε την [ομοιότητα συνημιτόνου](https://en.wikipedia.org/wiki/Cosine_similarity) της με όλες τις ταινίες της συλλογής σας\n",
    "- με βάση την ομοιότητα συνημιτόνου που υπολογίσατε, δημιουργήστε ταξινομημένο πίνακα από το μεγαλύτερο στο μικρότερο, με τα indices (`ID`) των ταινιών. Παράδειγμα: αν η ταινία με index 1 έχει ομοιότητα συνημιτόνου με 3 ταινίες \\[0.2 1 0.6\\] (έχει ομοιότητα 1 με τον εαύτό της) ο ταξινομημένος αυτός πίνακας indices θα είναι \\[1 2 0\\].\n",
    "- Για την ταινία-στόχο εκτυπώστε: id, τίτλο, σύνοψη, κατηγορίες (categories)\n",
    "- Για τις `max_recommendations` ταινίες (πλην της ίδιας της ταινίας-στόχου που έχει cosine similarity 1 με τον εαυτό της) με τη μεγαλύτερη ομοιότητα συνημιτόνου (σε φθίνουσα σειρά), τυπώστε σειρά σύστασης (1 πιο κοντινή, 2 η δεύτερη πιο κοντινή κλπ), id, τίτλο, σύνοψη, κατηγορίες (categories)\n"
   ]
  },
  {
   "cell_type": "code",
   "execution_count": 0,
   "metadata": {
    "_uuid": "e2291661e6d6520171272e49d9a3f986bfb9d5de",
    "colab": {},
    "colab_type": "code",
    "collapsed": true,
    "id": "-hh-n0SK3HmE"
   },
   "outputs": [],
   "source": [
    "import scipy as sp\n",
    "\n",
    "def content_recommender(target_movie, max_recommendations):\n",
    "  N = corpusA_tf_idf.shape[0] # number of different movies\n",
    "  similarities = np.zeros(N)\n",
    "  \n",
    "  target_descr = corpusA_tf_idf[target_movie] \n",
    "  for i in range(N):\n",
    "    similarities[i]= 1 - sp.spatial.distance.cosine(corpusA_tf_idf[i],target_descr)\n",
    "  best_movies = (-similarities).argsort()\n",
    "  \n",
    "  print(\"***The movie's name is: *** \")\n",
    "  print(titles[target_movie])\n",
    "  print(\"It belongs in the following categories: \")\n",
    "  print(categories[target_movie])\n",
    "  print(\"The movie's plot is: \\n\" + corpus[target_movie])\n",
    "  print(\"The \" + str(max_recommendations) + \" best recommendations are: \")\n",
    "  for i in range(max_recommendations):\n",
    "    rec = best_movies[i+1] # ignore the 1st\n",
    "    print(rec)\n",
    "    print(\"Recommendation movie Number \" + str(i+1) + \" is: \")\n",
    "    print(titles[rec])\n",
    "    print(\"It belongs in the following categories: \")\n",
    "    print(categories[rec])\n",
    "    print(\"The movie's plot is: \\n\" + corpus[rec])"
   ]
  },
  {
   "cell_type": "markdown",
   "metadata": {
    "_uuid": "c8b5f992cf9091c61caebe1b90fc9067036cf649",
    "colab_type": "text",
    "id": "8IvHkTUHyu78"
   },
   "source": [
    "## Βελτιστοποίηση\n",
    "\n",
    "Αφού υλοποιήσετε τη συνάρτηση `content_recommender` χρησιμοποιήστε τη για να βελτιστοποιήσετε την `TfidfVectorizer`. Συγκεκριμένα, αρχικά μπορείτε να δείτε τι επιστρέφει το σύστημα για τυχαίες ταινίες-στόχους και για ένα μικρό `max_recommendations` (2 ή 3). Αν σε κάποιες ταινίες το σύστημα μοιάζει να επιστρέφει σημασιολογικά κοντινές ταινίες σημειώστε το `ID` τους. Δοκιμάστε στη συνέχεια να βελτιστοποιήσετε την `TfidfVectorizer` για τα συγκεκριμένα `ID` ώστε να επιστρέφονται σημασιολογικά κοντινές ταινίες για μεγαλύτερο αριθμό `max_recommendations`. Παράλληλα, όσο βελτιστοποιείτε την `TfidfVectorizer`, θα πρέπει να λαμβάνετε καλές συστάσεις για μεγαλύτερο αριθμό τυχαίων ταινιών. Μπορείτε επίσης να βελτιστοποιήσετε τη συνάρτηση παρατηρώντας πολλά φαινόμενα που το σύστημα εκλαμβάνει ως ομοιότητα περιεχομένου ενώ επί της ουσίας δεν είναι επιθυμητό να συνυπολογίζονται (δείτε σχετικά το [FAQ](https://docs.google.com/document/d/1jL4gRag_LHbVCYIt5XVJ53iJPb6RZWi02rT5mPXiqEU/edit?usp=sharing)). Ταυτόχρονα, μια άλλη κατεύθυνση της βελτιστοποίησης είναι να χρησιμοποιείτε τις παραμέτρους του `TfidfVectorizer` έτσι ώστε να μειώνονται οι διαστάσεις του Vector Space Model μέχρι το σημείο που θα αρχίσει να εμφανίζονται επιπτώσεις στην ποιότητα των συστάσεων. \n",
    "\n",
    "\n"
   ]
  },
  {
   "cell_type": "markdown",
   "metadata": {
    "_uuid": "661cd0be32b9f565019afad49e5c0f6fba02e632",
    "colab_type": "text",
    "id": "NPVK7Z5c1p5F"
   },
   "source": [
    "## Επεξήγηση επιλογών και ποιοτική ερμηνεία\n",
    "\n",
    "Σε markdown περιγράψτε πώς προχωρήσατε στις επιλογές σας για τη βελτιστοποίηση της `TfidfVectorizer`. Επίσης σε markdown δώστε 10 παραδείγματα (IDs) από τη συλλογή σας που επιστρέφουν καλά αποτελέσματα μέχρι `max_recommendations` (5 και παραπάνω) και σημειώστε συνοπτικά ποια είναι η θεματική που ενώνει τις ταινίες.\n",
    "\n",
    "Δείτε [εδώ](https://pastebin.com/raw/ZEvg5t3z) ένα παράδειγμα εξόδου του βελτιστοποιημένου συστήματος συστάσεων για την ταίνία [\"Q Planes\"](https://en.wikipedia.org/wiki/Q_Planes) με την κλήση της συνάρτησης για κάποιο seed `content_recommender(529,3)`. Είναι φανερό ότι η κοινή θεματική των ταινιών είναι τα αεροπλάνα, οι πτήσεις, οι πιλότοι, ο πόλεμος."
   ]
  },
  {
   "cell_type": "markdown",
   "metadata": {
    "_uuid": "a5ba90b46a711ba2a860bf839d0ab7acfdf4b44c",
    "colab_type": "text",
    "id": "xtw2XCFwu3ir"
   },
   "source": [
    "# Προτάσεις ταινιών\n",
    "Για τα ακόλουθα ids ταινιών λαμβάνουμε καλά αποτελέσματα προτάσεων: <br>\n",
    "\n",
    "| ID            | Τίτλος | Θεματική      |\n",
    "| ------------- |:-------------:| \n",
    "| 2  | Yaadon Ki Kasam |action, starring actor: Mithun Chakraborty|\n",
    "| 3  | Tomcats| centered      |\n",
    "| 25 |  Enigma| war, ww2, german, agents, boats |\n",
    "| 53 | The Musketeers of Pig Alley | gang, robbery |\n",
    "|111 | Husbands Beware |  Διαφορετικά επεισόδια σειράς |\n",
    "| 256| Ghidorah, the Three-Headed Monster |godzilla, destroy |\n",
    "| 701| Fright Night | fright night, vampire |\n",
    "|3310| Tora-san's Shattered Romance | Tora-san movies series |\n",
    "|4082| Hell Boats | war, sea, boats, submarines|           "
   ]
  },
  {
   "cell_type": "code",
   "execution_count": 0,
   "metadata": {
    "_uuid": "7ff11472d9400f93bfaed8bbd92cf29ddc61abef",
    "colab": {},
    "colab_type": "code",
    "collapsed": false,
    "id": "H-7B1Lmdu3is",
    "outputId": "db6bac7e-cea1-45dc-abb4-5cc7a8c503da",
    "scrolled": true
   },
   "outputs": [
    {
     "name": "stdout",
     "output_type": "stream",
     "text": [
      "***The movie's name is: *** \n",
      "['Yaadon Ki Kasam']\n",
      "It belongs in the following categories: \n",
      "['\"World cinema\",  \"Musical\",  \"Drama\",  \"Romance Film\",  \"Action\",  \"Bollywood\"']\n",
      "The movie's plot is: \n",
      "Yaadon Ki Kasam is an action film starring Mithun Chakraborty and Zeenat Aman along with Shakti Kapoor and Asrani, supported by Madan Puri.\n",
      "The 5 best recommendations are: \n",
      "404\n",
      "Recommendation movie Number 1 is: \n",
      "['Karm Yudh']\n",
      "It belongs in the following categories: \n",
      "['\"Action\"']\n",
      "The movie's plot is: \n",
      "Karm Yudh is an action film in starring Mithun Chakraborty in lead role supported by Asha Sachdev, Anita Raj and Amrish Puri.\n",
      "3299\n",
      "Recommendation movie Number 2 is: \n",
      "['Hum Intezaar Karenge']\n",
      "It belongs in the following categories: \n",
      "['\"Romantic drama\",  \"Romance Film\",  \"Drama\",  \"World cinema\"']\n",
      "The movie's plot is: \n",
      "Hum Intezaar Karenge is an action drama, featuring Mithun Chakraborty and Padmini Kolhapure in lead roles, well supported by Vinod Mehra, Jagdeep, Shakti Kapoor, Vinod Mehra and Shafi Inamdar.\n",
      "3125\n",
      "Recommendation movie Number 3 is: \n",
      "['Ustadi Ustad Se']\n",
      "It belongs in the following categories: \n",
      "['\"Crime Fiction\",  \"Action\",  \"Drama\"']\n",
      "The movie's plot is: \n",
      "Ustadi Ustad Se is an action thriller starring Mithun Chakraborty in the lead role supported by Vinod Mehra, Ranjeeta, Jayshree T. and Jagdeep.\n",
      "1347\n",
      "Recommendation movie Number 4 is: \n",
      "['Tarkeeb']\n",
      "It belongs in the following categories: \n",
      "['\"Action\"']\n",
      "The movie's plot is: \n",
      "Tarkeeb is an action film with suspense twists. It has Mithun Chakraborty in the lead, who had earlier done successful films Surakshaa and Wardat with Ravikant Nagaich.\n",
      "4587\n",
      "Recommendation movie Number 5 is: \n",
      "['Heeron Ka Chor']\n",
      "It belongs in the following categories: \n",
      "['\"Action\"']\n",
      "The movie's plot is: \n",
      "Heeron Ka Chor is an action film starring Mithun Chakraborty. It is the story of a mastermind thief, who plans and executes as well as succeeds in the greatest diamond robbery of the country.\n"
     ]
    }
   ],
   "source": [
    "content_recommender(2, 5)"
   ]
  },
  {
   "cell_type": "code",
   "execution_count": 0,
   "metadata": {
    "_uuid": "d09c8e27c7ff3e0ba0fbae690e82af80afd57a04",
    "colab": {},
    "colab_type": "code",
    "collapsed": false,
    "id": "xgIueTAqu3i2",
    "outputId": "d1beda7a-bce7-4b1f-da34-1a4a88938027",
    "scrolled": true
   },
   "outputs": [
    {
     "name": "stdout",
     "output_type": "stream",
     "text": [
      "***The movie's name is: *** \n",
      "['Tomcats']\n",
      "It belongs in the following categories: \n",
      "['\"Romantic comedy\",  \"Romance Film\",  \"Screwball comedy\",  \"Comedy\"']\n",
      "The movie's plot is: \n",
      "The story concerns a group of guys who have made a deal to each invest in a fund, which would be paid to the last remaining bachelor of the group. Michael Delaney, a cartoonist, attempts to get the other remaining bachelor, Kyle Brenner, married to a statuesque policewoman who Kyle said was the one that got away, so Michael can claim the fund to pay off a gambling debt. Unfortunately, the statuesque policewoman Kyle is trying to marry is the woman Michael has fallen in love with, Officer Natalie Parker. Michael then gets himself into all sorts of misadventures, from getting captured by a young woman and her grandmother with a bizarre BDSM fetish  to trying to retrieve Kyle's surgically removed testicle, all the while attempting to pay off his gambling debt to the honked-off mobster menacing through selling his possessions, relieving himself of his \"Tomcat\" status, overcoming his fear of commitment, and finding true love.\n",
      "The 5 best recommendations are: \n",
      "1721\n",
      "Recommendation movie Number 1 is: \n",
      "['Whole Lotta Sole']\n",
      "It belongs in the following categories: \n",
      "['\"Comedy film\",  \"Drama\"']\n",
      "The movie's plot is: \n",
      "Hoping to pay back some of the gambling debt he owes to local mobster Mad Dog Flynn  Jimbo ([[Martin McCann  robs the fishmongers only to discover that it's actually a front for the mobster's business. Now on the run and pursued by police detective Weller , Jimbo is cornered in Maguire's the local antique shop where he takes hostage a collection of colourful characters, including Joe Maguire  the owner who may be his illegitimate father and his girlfriend Sophie . Caught between the mobster's gang and the police the unfortunate young Jimbo must find a way out of this tricky situation with help from his hostages.\n",
      "2479\n",
      "Recommendation movie Number 2 is: \n",
      "[\"Shaft's Big Score\"]\n",
      "It belongs in the following categories: \n",
      "['\"Crime Fiction\",  \"Detective\",  \"Action/Adventure\",  \"Mystery\",  \"Blaxploitation\",  \"Action\"']\n",
      "The movie's plot is: \n",
      "While New York is never at a loss for criminal activity, things take a turn for the worse when the corrupt co-owner of a funeral parlor and insurance agency kills his partner, a personal friend of John Shaft, only to discover that the money he was planning to steal so to pay his gambling debts is missing. He makes a deal with the mobster he owes  to split the business but also makes the same deal with crime lord Bumpy Jonas . The bullets start flying when the hoods find they've been played against each other, and Shaft is forced to clean up the mess.\n",
      "162\n",
      "Recommendation movie Number 3 is: \n",
      "['Third Time Lucky']\n",
      "It belongs in the following categories: \n",
      "['\"Crime Fiction\",  \"Drama\",  \"Black-and-white\"']\n",
      "The movie's plot is: \n",
      "A compulsive gambler falls in love with a woman, and believes she is bringing him luck. Unfortunately one of his gambling rivals has also caught her eye.\n",
      "4656\n",
      "Recommendation movie Number 4 is: \n",
      "['Njai Dasima']\n",
      "It belongs in the following categories: \n",
      "['\"Silent film\",  \"Drama\"']\n",
      "The movie's plot is: \n",
      " Dasima  is a nyai, or a native mistress, for the Englishman Edward William. The couple and their daughter Nancy live in a home near Gambir Square in Batavia . The delman driver Samiun has fallen in love with Dasima, despite already being married to Hayati. He attempts to use spells to win her heart. He also has an egg merchant, Mak Buyung, frighten Dasima by telling the young woman that she has committed the sin of zina . Samiun eventually succeeds, and Dasima goes to live with him and Hayati, taking along gold and jewels. Hayati has agreed to let Samiun take a second wife as she wants Dasima's money, which she will use for gambling.  Dasima eventually realises that she has been tricked and begins to keep a close eye on her remaining wealth. To get at it, Samiun calls the thug Puasa and tells him to rob the young woman. At night, as Dasima goes to hear the story of Amir Hamzah at a nearby village, Puasa accosts her. He panics when she screams and kills her, then throws her body off a bridge; it washes up behind Williams' home. Samiun and Puasa are caught and sentenced to hang.\n",
      "1983\n",
      "Recommendation movie Number 5 is: \n",
      "['Masti: Sanam Teri Kasam']\n",
      "It belongs in the following categories: \n",
      "['\"Romantic comedy\",  \"World cinema\",  \"Musical\",  \"Drama\",  \"Comedy\",  \"Romantic drama\",  \"Romance Film\",  \"Bollywood\"']\n",
      "The movie's plot is: \n",
      "The film revolves around three bachelors, Meet , Prem  and Amar . Their lives are almost as good as normal, until they get married and their lives turn to hell. Meet marries Anchal  who is obsessively possessive about her husband, Prem marries Geeta  who is overly religious and thus their life suffers, and Amar marries Bindiya  who is dominating and has an equally horrendous mother. They get together one last night and try to think of a way to get away from their wives for some time, reliving their fun bachelor days. The men set their sights on other women but eventually realize they have all been seeing the same girl, Monica . She blackmails them that if they do not give her all their money, she will tell their wives all about their affairs. When they bring the money to Monica, she is found dead in a car the next day. There, the trio meet police officer Sikander  who starts following them. Eventually, when Monica's killer finds the three man, he asks for the money or they will die just like Monica; when they bring the money, Sikander is already there. They have been caught, but it is revealed that Sikander is Bindiya's cousin and Monica, who is alive, is Anchal's best friend. They built the scheme with the wives to teach their hubbies a lesson. The film ends with the men learning a lesson and living happily ever after with their wives.\n"
     ]
    }
   ],
   "source": [
    "content_recommender(3, 5)"
   ]
  },
  {
   "cell_type": "code",
   "execution_count": 0,
   "metadata": {
    "_uuid": "d5b12e188fa5b64ac95b81151fecfbde7bf77c75",
    "colab": {},
    "colab_type": "code",
    "collapsed": false,
    "id": "JlzTTTB8u3i8",
    "outputId": "148040ae-2f78-4269-db6d-88a646f7ace2"
   },
   "outputs": [
    {
     "name": "stdout",
     "output_type": "stream",
     "text": [
      "***The movie's name is: *** \n",
      "['Enigma']\n",
      "It belongs in the following categories: \n",
      "['\"Thriller\",  \"Film adaptation\",  \"Mystery\",  \"Period piece\",  \"Drama\",  \"War film\",  \"Romance Film\",  \"Spy\"']\n",
      "The movie's plot is: \n",
      "The story, loosely based on actual events, takes place in March 1943, when World War II was at its height. The cryptanalysts at Bletchley Park, Buckinghamshire, have a problem: the Nazi U-boats have changed one of their code reference books used for Enigma machine ciphers, leading to a blackout in the flow of vital naval signals intelligence. The British cryptanalysts have cracked the \"Shark\" cipher once before, and they need to do it again in order to keep track of U-boat locations. The film begins with Jericho returning to Bletchley after a month recovering from a nervous breakdown brought on by his failed love affair with Claire. Jericho immediately tries to see her again and finds that she mysteriously disappeared a few days earlier. He enlists the help of Claire's housemate Hester Wallace, to follow the trail of clues and learn what has happened to Claire. Mr. Jericho and Miss Wallace, as they formally address each other, work to decipher intercepts stolen by Claire and determine why she took them. Jericho is closely watched by an MI5 agent, Wigram , who plays cat and mouse with him throughout the film. Meanwhile U-Boats closing in on one of the ship convoys from America allow Jericho and the team to work on breaking back into reading Shark. Jericho and Hester's research uncovers the British government's cover-up of the Katyn Massacre for fear knowledge of it might weaken American willingness to remain in the war on the same side as Joseph Stalin. Cryptanalyst Jozef 'Puck' Pukowski , working at the Park, learned of Katyn from Claire and was so incensed by the massacre – which claimed the life of his brother – that he set about betraying Bletchley's secrets to the Nazis in order to take revenge on Stalin. Claire is presumed dead as Jericho trails Puck to Scotland and catches up with him just as he is about to be taken on board a U-boat, but Wigram and the police have been waiting for the sub and it is bombed and sunk. A short scene after the war sees Jericho and Hester married with a child on the way. As Jericho waits for her in London, he notices Claire walking across the square.\n",
      "The 5 best recommendations are: \n",
      "3064\n",
      "Recommendation movie Number 1 is: \n",
      "[\"Murphy's War\"]\n",
      "It belongs in the following categories: \n",
      "['\"Action\",  \"Drama\",  \"War film\"']\n",
      "The movie's plot is: \n",
      "In the closing days of World War II, an Irishman Murphy  is the sole survivor of the crew of a merchant ship, Mount Kyle, which has been sunk by a German U-Boat, which then machine-gunned the survivors in the water. Murphy makes it ashore  where he is treated by a pacifist Quaker doctor, Dr Hayden . When he discovers the U-Boat is hiding further up river, under the cover of the jungle, he sets about obsessively plotting his revenge to sink it by any means, including using a surviving Grumman J2F Duck  from the Mount Kyle. The floatplane had been recovered, the wounded pilot later being shot dead in his hospital bed by the U-boat captain, in order to preserve the secret of its location and, presumably, its action in shooting survivors in the water. Murphy learns how to fly the plane in the most daring way, getting it out on the choppy waters of the river and discovering how the controls work by trial and error. This extensive flying scene involves lots of shots of the floatplane veering sharply to avoid buildings, the jungle and stalling. Murphy soon finds the U-boat's hiding place and attempts to bomb it using home-made Molotov cocktail bombs, an attempt which fails. Meanwhile, word has come that Germany has surrendered; however, Murphy is obsessed with revenge and makes plans to ram the U-boat with a floating crane owned by the friendly Frenchman Louis, played by respected French actor Philippe Noiret. This also fails as the U-boat dives under him. However, the dived U-boat becomes stuck in a mud bank. Murphy uses the crane to recover a torpedo fired earlier from the U-boat and drops it on the trapped crew, killing them. However, Murphy is also doomed: the explosion from the torpedo causes the crane jib to pin him to the deck as the floating crane sinks to the river bed.\n",
      "2023\n",
      "Recommendation movie Number 2 is: \n",
      "['U-571']\n",
      "It belongs in the following categories: \n",
      "['\"Thriller\",  \"Adventure\",  \"Action/Adventure\",  \"War film\",  \"Action\",  \"Combat Films\"']\n",
      "The movie's plot is: \n",
      " The film begins with a summary of how the Allies are struggling to stop U-boats from sinking their freighters. The scene transfers to U-571, which torpedoes and sinks a freighter. The crew is happy with the kill, but seconds later the sonar man reports having detected high speed screws approaching. The Captain sights a destroyer, and orders the U-571 to dive. The destroyer drops depth charges, snapping a fuel line, which catches fire and kills the entire engineering crew. Because of sustained damage, U-571 is forced to resurface. The Captain learns that the batteries are almost depleted, both diesel engines are inoperable, and the engineering crew is dead. An Enigma-encoded SOS is sent to Berlin for aid. Meanwhile, the crew of the United States Navy submarine S-33 are celebrating ENS Larson's wedding and 48 hours leave. During the party, LT Andrew Tyler enters looking solemn, having been denied his first command. After complaining to LCDR Dahlgren, he is rebuffed and upset to learn that Dahlgren withheld his recommendation and voted against his receiving the promotion. Military Police suddenly arrive, announcing a secret mission that ends shore leave. The men arrive to find their boat, the S-33, modified to resemble a German U-boat. The crewman must wear German uniforms. Hirsch, a naval Intelligence officer who is fluent in German, orders Tyler to locate Radioman Wentz, who is fluent in German due to his immigrant parents. At the same time, a Marine named Coonan arrives in a convoy loaded with high explosives. After the S-33 sails, Hirsch explains that the Allies intercepted the disabled U-571s SOS. They will masquerade as the resupply ship for U-571, board it, capture the Enigma coding device and scuttle  the U-571. Tyler is skeptical but goes along. Wentz asks Tyler to keep his German heritage a secret. The S-33 leaves Portsmouth Naval Shipyard in Portsmouth, New Hampshire. Back on U-571, attempted repairs fail and the Captain is alerted that survivors from the merchant ship he sank have been spotted in a lifeboat, asking for asylum. He orders his men to shoot them, as their orders are to spare no survivors. His men reluctantly comply. During a storm, the S-33 comes across U-571 and sends the boarding party over, led by Coonan. Hirsch temporarily freezes and Wentz is forced to speak German in front of his friends in order for the group to retain their cover until their rafts are tied up. At first, the Germans openly welcome the S-33, but when a midshipman looks through his binoculars, he immediately identifies the weapons as American. He alerts the rest of the Germans, and they exchange fire with the S-33 crewmen. The Americans are able to take the boat by force, capture the Enigma and begin rounding up the prisoners, including the Captain. As the prisoners are transferred between ships and the scuttling charges are laid, Dahlgren, standing on the upper deck of the S-33, notices the sound of a detonation. He turns around in horror, to see a streak coming towards the S-33 underwater. The ship is torpedoed and sunk by the real German resupply sub. C.O. Dahlgren, wounded in the water, orders his men on the captured U-boat to submerge and save themselves.  Coonan, Larson and many others are lost, forcing Tyler to take command and dive the captured U-boat. There is a desperate scramble to disarm the charges they placed. With only Hirsch and Wentz able to read German, they struggle with interpreting the controls and then fire a salvo of torpedoes, destroying the enemy U-Boat, draining the last of the sub's batteries and spending all but the last torpedo, loaded in the malfunctioning aft torpedo tube. Surfacing, Tyler and his men search for survivors and find two: Eddie the cook from the S-33 and a German sailor claiming to be an electrician, but who is actually the Captain of U-571. After repairing one of the diesel engines, thus restoring power and propulsion, Tyler decides to take the disabled submarine to England. Some of the men disagree with Tyler's decision and Tyler replies with, \"I don't know\", to their questions. Chief Klough privately rebukes Tyler, saying, \"A Captain always knows what to do, whether he does or not.\" He also rebukes Mazzola in front of others for openly disagreeing with Tyler. They spot an aircraft, and Mazzola - against Tyler's orders - tries to convince Rabbit to fire on the plane with the deck gun, which appears to be coming in for an attack, but is only scouting for a German destroyer named the Anschluss. Tyler punches Mazzola for ignoring the Chain of Command and his stupidity. The captured German Captain breaks free, attacks Tank and kills Mazzola before being subdued. Unaware that the U-571 has been commandeered by Americans, the Anschluss sends over a small contingent to meet and greet their German comrades. Right before boarders arrive, Tyler has Rabbit fire a shot from the deck gun right into the ship's radio tower, preventing the destroyer from reporting that the Enigma code has been compromised, and dives underneath her. The destroyer begins to drop depth charges to try to sink U-571. Tyler plans to trick the destroyer into stopping by ejecting debris and Mazzola's corpse out of an empty torpedo tube, faking their own destruction. The younger men balk at using their crewman's body this way, but Tyler states that Mazzola is saving their lives. U-571 will then surface and hit the ship with their last torpedo. The German destroyer continues dropping depth charges. U-571, hiding at great depth below 200 meters, is damaged by the high water pressure. In preventing the submarine from sinking, control of the main ballast tanks are lost and the ship ascends uncontrollably. Tyler orders Trigger to submerse himself in the bilge underwater to repressurize the torpedo tubes. During the ascent, the German prisoner tries to warn the destroyer in Morse Code that they're not dead yet. Wentz translates the message in German, \"I am U-571. Destroy me!\" Enraged, Hirsch grabs a large wrench and kills the prisoner. Trigger manages to close the air valve for the tubes, but a second leak and valve are unexpectedly revealed, both behind a wall of pipes; Trigger's arm can't reach, and his air hose is too short. When Tank reports this, Tyler rushes to the engine room himself. Tyler tells him that they need him to do this and orders him to get the job done. U-571 surfaces without a torpedo to fire. The destroyer fires on the ship, which runs using its diesel engine, but takes heavy damage from the destroyer's deck guns and starts to flood. Trigger leaves behind the air hose and closes the second valve, but the damage causes pipes to collapse, trapping his leg, and he drowns. The second the pressure is available, Tyler orders Tank to fire the final torpedo. The German ship is destroyed; in front of everyone, Chief Klough tells Tyler that if he ever needs a Chief, he would gladly go to sea with him anytime. Tank reports Trigger's death while carrying out his order, but U-571 has taken severe damage and will not stay afloat for long. The crew abandons ship with the Enigma in tow, and watches it sink while mourning their lost crewmates and for the German sub, which ironically, saved their lives. Floating aboard an inflatable lifeboat, they are eventually spotted by a US Navy sea-plane.\n",
      "3084\n",
      "Recommendation movie Number 3 is: \n",
      "['Dark House']\n",
      "It belongs in the following categories: \n",
      "['\"Thriller\",  \"Horror\"']\n",
      "The movie's plot is: \n",
      "Dark House tells the story of the Old Darrode House, where Janet Darrode ran a foster home for children and then murdered all of them and killed herself. The film opens with a young girl who walks into the house on the day of the massacre and discovers the bloody scene of the crime. Fourteen years later, local girl and student actress Claire Thompson has been seeing her therapist over an experience she had in the house which left her disturbed. He suggests that she revisit the old house, but she has never been able to get past the gate. When horror mogul Walston Rey appears in her advanced acting class, he reveals that he has converted the house into a horror attraction site and that he wants to hire Claire and her classmates to work as hosts to his attraction. Claire sees the opportunity as a chance to enter the house safely surrounded by her peers. In the house, Walston and his staff proudly show off their holographic three-dimensional system which creates lifelike interactive and harmless horror figures, but when Mrs. Darrode's ghost gets into the system, the holograms become real and and are activated by fear. They start killing everyone inside as the survivors try to shut down the system and try to escape. Claire finally manages to remember what happened in the house years ago. She was fostered under the care of Mrs. Darrode, who was an abusive religious fanatic. As a child Claire one day led a rebellion among the other kids. They burned their Holy Bibles and rejected Mrs. Darrode's teachings. Mrs. Darrode flew into a psychotic rage and murdered all the children, labeling them sinners and heretics, with the exception of Claire who only managed to escape by hiding in a closet. Then struck by remorse for what she had done, Mrs. Darrode thrust her hands into the kitchen garbage disposal and killed herself. In the present day after remembering, Claire loses her fear and flies at Mrs. Darrode, who disappears. She is discovered by the police, who believe she was responsible for the murders and is committed to a mental asylum. In the final scenes of the film, the girl who discovered the scene all those years ago also comes to the house to try to come to terms with her trauma. She and her boyfriend are quickly locked into the house and killed. The film ends with Claire strapped to a hospital bed screaming \"SHE'S STILL OUT THERE!\"\n",
      "2143\n",
      "Recommendation movie Number 4 is: \n",
      "['The Mark of an Angel']\n",
      "It belongs in the following categories: \n",
      "['\"Thriller\",  \"Drama\",  \"World cinema\"']\n",
      "The movie's plot is: \n",
      " In a hospital Elsa Valentin gives birth to a daughter, but the baby reportedly dies in a fire. Seven years later she is divorcing her husband, and they fight over who gets custody over their 12-year-old son Thomas. When Elsa collects her son from a party, she sees the 7-year-old girl Lola, who she thinks is her daughter, Lucie. First Elsa keeps this to herself, but she uses every opportunity to see Lola and keep into contact with her; toward Claire, the mother, she pretends to be interested in buying the house of the family, which is for sale, so that she can inspect the house and thus see Lola. Next, she goes to ice-skating when Lola does with her mother. Elsa and Lola skate together, but they fall and Lola is lightly wounded. Furthermore, she goes to a ballet performance in which Lola participates, and stands on the side of the stage behind the curtains to watch her perform; Lola does not mind, it feels for her like Elsa supports her more than Claire does. Claire confronts Elsa with her stalking behaviour. Later Elsa tells Claire her claim but Claire maintains Lola is her own daughter. Elsa asks for a DNA test but Claire refuses, after which Elsa sneaks into the house to search for a hair of Lola but loses it in a fight with Claire. Claire tells what happened to her husband who suggests to allow Elsa the DNA test; he argues that this will prove that Lola is not Elsa's daughter. Eventually, Claire confesses to Elsa, then her husband, that seven years ago in the hospital her own daughter died in the fire from smoke inhalation. In another room, she heard a baby crying and saw Elsa lying on the floor. Assuming her to have also died and she took the baby, pretending she was hers and that her dead baby was Elsa's. Claire and her husband, Bernard, accept that Lola is returned to Elsa. To start with, Elsa goes for a walk with Lola. The girl is surprised by the matter, but does not seem really shocked.\n",
      "3078\n",
      "Recommendation movie Number 5 is: \n",
      "['The Thirty-Nine Steps']\n",
      "It belongs in the following categories: \n",
      "['\"Thriller\",  \"Mystery\",  \"Action\",  \"Indie\",  \"Spy\"']\n",
      "The movie's plot is: \n",
      "In 1914, German spies are everywhere. After a spate of assassinations of important British politicians, a retired British intelligence officer, Colonel Scudder, realises his life and his mysterious black notebook are in danger. He turns to Richard Hannay, a mining engineer who is visiting Britain for a short time before returning to South Africa, who happens to live in a neighbouring apartment. Scudder tells Hannay of a plot by Prussian 'sleeper' agents, who are planning to pre-empt a war against the Triple Entente powers by assassinating a foreign minister of state visiting the UK. Hannay reluctantly gives Scudder shelter in his apartment, despite his initial distrust of him. In the morning, Hannay leaves to purchase a train ticket to the village of Strathallan in Scotland. Scudder also leaves the apartment to post a parcel, but he is spotted and follows Hannay to the railway station to supposedly give him the black book. However, before he can reach Hannay, Scudder is murdered and Hannay is framed for the death by the 'sleepers'. Hannay manages to get Scudder's notebook, but this turns out to be a dummy, with only a code in it to find his real book, which he has posted to Scotland. Hannay flees to Scotland on a train, but he is forced to make a daredevil escape on a bridge when police board.  Hannay attempts to solve the mystery whilst on the run from the police, led by Chief Supt Lomas , and the Prussian agents, led by Edmund Appleton, a Prussian sympathiser highly placed in the British government. With the aid of Alex Mackenzie and her fiance, David Hamilton, whom Hannay meets on the Scottish moors, claiming to be taking part in a wager, Scudder's book is found, the coded information partly deciphered and the true plans of the Prussian agents are revealed. The agents intend to murder the visiting Greek Prime Minister, leading to unrest in the Balkans and thus causing a World War, by planting a bomb in parliament. The \"Thirty Nine Steps\" refers to the number of stairs in the clock tower of Big Ben  and Hannay realises that the bomb is to be set off by the clock at 11.45. When he reaches the top of the clock tower, the agents have already planted the bomb and have locked the clock room. Hannay is forced to break the glass of the clock-face and physically stop the clock hands, leading to the iconic final sequence.\n"
     ]
    }
   ],
   "source": [
    "content_recommender(25, 5)"
   ]
  },
  {
   "cell_type": "code",
   "execution_count": 0,
   "metadata": {
    "_uuid": "a5ff66c01a95f2ed450686fcf8d5e3f44020cf5d",
    "colab": {},
    "colab_type": "code",
    "collapsed": false,
    "id": "u4GfbzZcu3jB",
    "outputId": "ad0c782d-4ad6-4ed0-de75-3d949c02d85b",
    "scrolled": true
   },
   "outputs": [
    {
     "name": "stdout",
     "output_type": "stream",
     "text": [
      "***The movie's name is: *** \n",
      "['The Musketeers of Pig Alley']\n",
      "It belongs in the following categories: \n",
      "['\"Crime Fiction\",  \"Silent film\",  \"Gangster Film\",  \"Indie\",  \"Black-and-white\",  \"Short Film\",  \"Drama\"']\n",
      "The movie's plot is: \n",
      "The film is about a poor married couple living in New York City. The husband works as a musician and must travel often for work. When returning, his wallet is taken by a gangster. His wife goes to a ball where a man tries to drug her, but his attempt is stopped by the same man who robbed the husband. The two criminals become rivals, and a shootout ensues. The husband gets caught in the shootout and recognizes one of the men as the gangster who took his money. The husband sneaks his wallet back and the gangster goes to safety in the couple's apartment. Policemen track the gangster down but the wife gives him a false alibi.\n",
      "The 5 best recommendations are: \n",
      "4288\n",
      "Recommendation movie Number 1 is: \n",
      "['Double Deal']\n",
      "It belongs in the following categories: \n",
      "['\"Crime Fiction\",  \"Drama\",  \"Comedy\",  \"Music\",  \"Romance Film\",  \"Action\"']\n",
      "The movie's plot is: \n",
      "Two men, Tommy McCoy and Dude Markey, are in love with Nita, a beautiful nightclub singer/dancer. Markey robs a jewelry store and gives the haul to a local gangster. Later, he steals the jewelry from the gangster's safe and frames McCoy for the robbery in the hope that the gangster will kill him, thereby getting rid of his rival for the lovely Nita.\n",
      "15\n",
      "Recommendation movie Number 2 is: \n",
      "['The Monster and the Girl']\n",
      "It belongs in the following categories: \n",
      "['\"Science Fiction\",  \"Horror\",  \"Black-and-white\",  \"Film noir\",  \"Creature Film\"']\n",
      "The movie's plot is: \n",
      "A gangster named Scot Webster  attempts to save his sister, Susan  from the clutches of rival gangster W.S Bruhl . When one of Bruhl's gang members catches Scot in Bruhl's rented room, one of Scot's aides is killed by a gunman. The man tosses him the gun and disappears. Scot is tried and executed. A scientist  salvages his brain and transplants it into a gorilla. Using the strength of his new, bestial body, Webster begins stalking the gangsters to exact his revenge.\n",
      "1214\n",
      "Recommendation movie Number 3 is: \n",
      "['Marrying the Mafia']\n",
      "It belongs in the following categories: \n",
      "['\"Gangster Film\",  \"Comedy\",  \"World cinema\"']\n",
      "The movie's plot is: \n",
      "The film is a gangster comedy about a businessman who becomes involved with the gangster underworld through the daughter of a crime boss.Synopsis based on  A businessman and a young woman wake up in bed together with no knowledge of how they got there. Next the business man is confronted by the young woman's brothers, who are members of the mafias. The brothers demand that the business man make an honorable woman of their sister. Ensue the craziness!\n",
      "1490\n",
      "Recommendation movie Number 4 is: \n",
      "['Voice of the City']\n",
      "It belongs in the following categories: \n",
      "['\"Crime Fiction\",  \"Detective fiction\",  \"Melodrama\",  \"Detective\",  \"Black-and-white\",  \"Mystery\",  \"Pre-Code\",  \"Drama\"']\n",
      "The movie's plot is: \n",
      "A young man is accused of murder and a master detective is set to track him down and uncover conclusive evidence of his guilt. But the more he works on the case, the more he becomes convinced that the accused is not the real killer. He discovers that the murder was committed by a notorious gangster who's attempting to frame the boy.\n",
      "4589\n",
      "Recommendation movie Number 5 is: \n",
      "['Charlie Chan in Shanghai']\n",
      "It belongs in the following categories: \n",
      "['\"Thriller\",  \"Mystery\",  \"Comedy film\",  \"Crime Fiction\"']\n",
      "The movie's plot is: \n",
      "Charlie Chan arrives in Shanghai at the behest of the U.S. government to help stop an opium smuggling ring. He receives a warning aboard ship not to stop in Shanghai. He is met by his Number One Son, Lee Chan, as well as Philip Nash and his fianceé, Diana Woodland. Charlie is the guest of honor at a banquet held that evening, hosted by Sir Stanley Woodland . When Sir Stanley opens a box to give a handwritten scroll to Charlie, he is shot and killed by a gun inside the booby-trapped box. Charlie meets with Colonel Watkins, the commissioner of police, and agrees to investigate the crime. The next day, American FBI man James Andrews arrives in Shanghai, accompanied by his valet, Forrest . That night, an assassin shoots what seems to be a sleeping Charlie Chan in bed. But Charlie, suspecting another attempt on his life, rigged a dummy and escaped death. Watkins, Nash, and Woodland try to meet with Andrews. Nash sneaks off and goes through Andrews' briefcase, suitcase, and other papers. Charlie arrives, and while he is speaking with Andrews is nearly shot. Charlie and Andrews managed to retrieve the gun, but the assassin escaped. A fingerprint on the gun reveals that Nash is the likely suspect, and he is arrested. A letter Nash had stolen from Andrews' things seem innocuous, but Charlie takes it as evidence. Charlie returns to his hotel and meets with Lee. They receive a note from Col. Watkins asking them to come to an office downtown. They check with police headquarters, which assures them the note is genuine. Charlie goes, but Lee realizes the note is fake when Col. Watkins calls soon thereafter. Charlie is kidnapped and taken into a room to meet with a mysterious Russian . Lee tries to save his father, but is caught. The two bluff their way out of danger, and after a brief fight manage to escape. That evening, Charlie and Andrews meet with Col. Watkins. Diana Woodland arrives and asks to see Nash; her request is granted. But Diana sneaks Nash a pistol, and the two escape. Later that day, Andrews and Charlie return to the house where Charlie was held. The gang has left, but Charlie finds an ink pad in the fireplace and takes it as evidence. Lee shows up dressed as a beggar, and Charlie sends him home. Oddly, Charlie arrives at the hotel first. Lee shows up later, and reveals that he saw their kidnapper in a taxi on the street and followed him to the Cafe Versailles. Moments later, Andrews calls and summons Charlie to his apartment. Before he leaves, Charlie sends Lee off on a secret mission. Charlie arrives at Andrews' apartment, where the FBI agent has caught a gangster involved with the Marloff gang. After a punch to the jaw, the gangster reveals that the Cafe Versailles is where the opium gang is hiding out. Andrews calls the police, and asks them to meet them at the club. Charlie and Andrews leave for Cafe Versailles. After Charlie and Andrews depart, Andrews' valet, Forrest, frees the gangster and the two leave. At the club, Nash  sees some of the Marloff gang heading toward the basement and follows, but is captured. Charlie and Andrews arrive moments later, and follow a gang member into the basement as well. The basement is where opium is being shipped out via riverboat, reached by a trap door. Andrews urges Charlie to go first, but Charlie hesitates when his flashlight mysteriously refuses to work. The police arrive by boat, and after a brief shootout capture the gang. Charlie surprises everyone by arresting James Andrews. Lee Chan reveals that his father sent him off to cable America, and he has just received a reply which indicates that the real Agent Andrews was murdered in San Francisco three weeks earlier. The false \"James Andrews\" is really the leader of the Marloff gang, and intended to have the gang murder Charlie in a shoot-out when they descended through the trap door. Charlie knew Andrews did not really call the police, and had Lee summon them instead. Nash's escape from police custody was planned by Charlie. Charlie reveals that Forrest used the ink pad to put Nash's thumbprint on the revolver to frame him. Nash is declared innocent, and Andrews and Forrest go to jail.\n"
     ]
    }
   ],
   "source": [
    "content_recommender(53, 5)"
   ]
  },
  {
   "cell_type": "code",
   "execution_count": 0,
   "metadata": {
    "_uuid": "d1279d3d8290f6d1f0d97962962c49e29e752bd2",
    "colab": {},
    "colab_type": "code",
    "collapsed": false,
    "id": "KskDbjsSu3jH",
    "outputId": "99db51ba-da44-4d61-f492-9941b481a8c2",
    "scrolled": true
   },
   "outputs": [
    {
     "name": "stdout",
     "output_type": "stream",
     "text": [
      "***The movie's name is: *** \n",
      "['Husbands Beware']\n",
      "It belongs in the following categories: \n",
      "['\"Short Film\",  \"Comedy\",  \"Black-and-white\"']\n",
      "The movie's plot is: \n",
      "Moe and Larry marry Shemp's overweight sisters , and discover to their horror after the vows that the girls are a couple of battle axes. After being kicked out from their place, the new bridegrooms vow revenge on Shemp for introducing them. Later, Shemp has a voice lesson with student, Fanny Dinkelmeyer since he is a music teacher. He then discovers that he has to marry a woman within seven hours to receive $500,000 from his dead Uncle's will. After some searching, the Stooges finally find Shemp's student, Ms. Dinkelmeyer. Several of Shemp's old girlfriends, and gold diggers, all arrive at the Justice of the Peace's office, wreaking havoc in an attempt to marry Shemp for his money. But Shemp weds the harridan, just under the deadline, and then discovers that there is no dead Uncle or will, and that everything was Moe's and Larry's revenge. Shemp gets so angry, he takes out a gun and shoots Moe and Larry in the rear end as they try to flee.\n",
      "The 5 best recommendations are: \n",
      "356\n",
      "Recommendation movie Number 1 is: \n",
      "['Gypped in the Penthouse']\n",
      "It belongs in the following categories: \n",
      "['\"Short Film\",  \"Comedy\",  \"Black-and-white\"']\n",
      "The movie's plot is: \n",
      "At the Woman Haters Club, Larry and Shemp exchange stories of their disastrous encounters with a gold digger, who turns out to be the same woman . Jane became engaged to Larry, only to dump him when Moe shows up with a larger diamond ring. Shemp is a good samaritan, who winds up in Jane's apartment after a good deed, and chased by her husband Moe when he returns home early   After telling their stories, they drown their sorrows in beer, and Shemp and Larry are introduced by fellow club member Charlie , to the club's newest recruit: Moe.\n",
      "1233\n",
      "Recommendation movie Number 2 is: \n",
      "['Bedlam in Paradise']\n",
      "It belongs in the following categories: \n",
      "['\"Short Film\",  \"Comedy\",  \"Black-and-white\"']\n",
      "The movie's plot is: \n",
      "On his deathbed, Shemp warns Moe and Larry to behave themselves or he will come back and haunt them. After Shemp's arrival to heaven, his Uncle Mortimer  contemplates whether Shemp will remain or go to Hell. Then the Devil  appears in a burst of flame to tempt Shemp with a sultry dancer, Hellen Blazes. Uncle Mortimer intervenes, promising Shemp eternity in Heaven if he returns to Earth unseen and unheard and reforms Moe and Larry. Meanwhile, one \"Mr. Heller\"  is giving Moe and Larry some \"devillishy good ideas,\" such as conning a wealthy couple into financing the production of fountain pens that write under whipped cream. Shemp sabotages their demonstration but accidentally starts a fire. The scene fades back to Shemp's bedroom. It has all been a dream, but Shemp is on fire because he fell asleep smoking in bed.\n",
      "1416\n",
      "Recommendation movie Number 3 is: \n",
      "['Corny Casanovas']\n",
      "It belongs in the following categories: \n",
      "['\"Short Film\",  \"Comedy\",  \"Black-and-white\",  \"Slapstick\"']\n",
      "The movie's plot is: \n",
      "The Stooges are happily cleaning house, as they dream about getting married in a few hours. The usual antics occur as the boys make a near shambles of their home. For starters, Shemp decides to use the wooden handle of a loaded pistol as a hammer, which of course goes off, and parts Moe's sugarbowl haircut right down the middle. Then the trio try to reupholster a davenport, but end up clobbering Moe on several counts. First, they cut the upholstering with a scissor and end up trimming Moe's sportcoat. Then, to speed things up, they pour the upholstering tacks into a machine gun and aim at the davenport. The rapid fire release works well at first, but Larry and Shemp argue over who gets the next round, leading the rifle firing right at Moe's gluteus maximus. After Larry and Shemp quickly remove the tacks, Moe manages to swallow one. After all is said and done, the house is neat and clean. The Stooges then head their separate ways to marry their sweetheart — unaware they are all engaged to the same girl, Mabel . In rapid succession, Larry, Moe, and then Shemp appear at Mabel's home with engagement rings of varying sizes. When the boys discover their error, a nutty fight ensues. The three eventually, knock each other cold, and Mabel quickly scurries by them with three engagement rings.\n",
      "221\n",
      "Recommendation movie Number 4 is: \n",
      "['Hot Ice']\n",
      "It belongs in the following categories: \n",
      "['\"Short Film\",  \"Comedy\",  \"Black-and-white\"']\n",
      "The movie's plot is: \n",
      "The Stooges are wannabe detectives who inadvertently get their chance to crack a case in Scotland. They manage to stumble on a lead concerning the priceless Punjab diamond being stolen by a crook named Dapper ([[Kenneth MacDonald . With dreams of becoming genuine detectives, the trio head for Squid McGuffy's cafe asking for the whereabouts of Dapper. They manage to convince everyone at the restaurant that they are actually police. While searching several rooms above the cafe, the Stooges stumble on Dapper's moll , who hastily hides the Punjab diamond in a candy dish. The boys refuse to leave, suspecting Dapper will eventually show his face. While killing time, Shemp starts to flirt with the moll, and manages to swallow the ice along with some mints from the candy dish. The gal nearly has a nervous breakdown but quickly discovers the Stooges are not actually real detectives. She calls in Dapper and his henchman Muscles  and frantically try to pry the diamond out of frazzled Shemp. After all else fails, Dapper decides to cut him open. Moe and Larry are locked in a closet by Muscles while Shemp is tied down on a close by desk-turned-operating table. As luck would have it, there happen to be a bag of tools in the closet, which Moe and Larry use to saw their way out of the closet, and right into a gorilla's cage on the other side of the wall. The gorilla knocks Moe, Larry, Dapper and Muscles cold. The beast, however, befriends Shemp, and helps him cough up the diamond. Moments later, Shemp explains how he managed to swallow to diamond by actually doing so again.\n",
      "1719\n",
      "Recommendation movie Number 5 is: \n",
      "['Pardon My Clutch']\n",
      "It belongs in the following categories: \n",
      "['\"Short Film\",  \"Comedy\",  \"Black-and-white\"']\n",
      "The movie's plot is: \n",
      "Shemp has been ill with a toothache for quite some time. The Stooges' friend Claude , a self-proclaimed Kevin Trudeau-ish doctor, gives Moe and Larry some specific instructions on how to cure the toothache, which, of course, they misinterpret every which way possible. After finally yanking the troublesome tooth, Claude suggests the trip take Shemp on a camping trip for a little R&R. Since the Stooges do not own a car, Claude offers to sell them a car that turns out to be a \"lemon.\" The trio run into a series of mishaps trying to get the car to work, including a flat tire that gets them into trouble with a local gas station attendant ([[George Lloyd . Finally, things improve via a car collector  who wants to buy the clunker at a premium. Claude gets wind of this, quickly takes his money back from the Stooges, and hands it to the collector. Within minutes, two men in white coats from the local insane asylum come to retrieve the supposed car collector, with Claude following right behind. [[Image:PardonclutchCROP.jpg|thumb|250px|left|The trio attempt to retrieve their runaway spare tire from an irate mechanic (George Lloyd\n"
     ]
    }
   ],
   "source": [
    "content_recommender(111, 5)"
   ]
  },
  {
   "cell_type": "code",
   "execution_count": 0,
   "metadata": {
    "_uuid": "6665d020d14ac9394681d2376d7abf40d95147e1",
    "colab": {},
    "colab_type": "code",
    "collapsed": false,
    "id": "79d2NICeu3jM",
    "outputId": "98e758f0-bc21-41d7-fa5e-e145abeac8cb"
   },
   "outputs": [
    {
     "name": "stdout",
     "output_type": "stream",
     "text": [
      "***The movie's name is: *** \n",
      "['Ghidorah, the Three-Headed Monster']\n",
      "It belongs in the following categories: \n",
      "['\"Science Fiction\",  \"Horror\",  \"World cinema\",  \"Cult\",  \"Fantasy\",  \"Monster\",  \"Japanese Movies\"']\n",
      "The movie's plot is: \n",
      "Police Detective Shindo  is assigned to guard Princess Selina Salno of Selgina  during the Princess' visit to Japan, due to a suspected assassination plot. Although Shindo is smitten with Selina's photograph, her plane never makes it to Japan, as it is destroyed by a bomb en route. At exactly the same time a meteorite shower draws the attention of Professor Murai , who along with his team of scientists strikes out into the wilderness to examine the largest of the meteors, which has magnetic properties. To Shindo's surprise, the supposedly deceased Selina turns up in Japan, without her royal garb , claiming to be from the planet Mars, and preaching to skeptical crowds of forthcoming disaster. To their surprise however, her prophecies begin coming true. First she predicts Rodan, thought dead in the eruption of Mt. Aso, will emerge from Aso's crater. Subsequently, none other than Godzilla will arise from the sea and destroy a ship. Both of these events transpire. In the meantime, Selina's uncle , who was behind the assassination attempt, learns of her survival and sends his best assassin Malness  to Japan to dispatch the Princess and steal the golden bracelet. Malness and his henchmen are stopped by Shindo, who was warned of their attempt by the Shobijin , who were in Japan appearing on a television show. The Shobijin had been scheduled to return to Infant Island aboard the ship sunk by Godzilla, but opted not to go after overhearing Selina's prophecy. A further attempt by the assassins is thwarted when both Godzilla and Rodan attack the city and engage in battle, forcing everyone to flee. Convinced that Selina is insane, Shindo takes the Princess to see a renowned psychiatrist, Dr. Tsukamoto , in the hopes of curing her. However Tsukamoto can find nothing wrong with her, mentally or physically. He concludes she must therefore truly be possessed by a Martian as she claims. As if emboldened by the doctor's diagnosis, Selina reveals her final prophecy—that Mars' once thriving civilization was destroyed by an evil, golden three-headed dragon named King Ghidorah, and furthermore that Ghidorah himself has already arrived on Earth. No sooner has she revealed this than Professor Murai and his colleagues at the meteor crash site receive a nasty surprise—the \"meteor\" is actually an egg, which hatches into the fearsome King Ghidorah. Ghidorah begins razing the countryside. To combat the combined threats of the three monsters, the Japanese government enlists the aide of the Shobijin to summon Mothra. Upon arriving on the Japanese mainland, Mothra attempts to persuade the quarreling Godzilla and Rodan to team up against the evil alien  but both refuse, with Godzilla stating they have no reason to save mankind as both he and Rodan \"have always had trouble with men and men hate them\" which Rodan agrees to. Despite Mothra stating that Earth belongs to them as well and that it is their duty to defend it, Godzilla and Rodan still refuse  and the pair refuse to forgive each other, wanting to continue their fight. Unable to convince them and despite being vastly overpowered, Mothra calls the pair of them \"bullheaded\" and resolves to fight Ghidorah by herself. Mothra engages Ghidorah and is continually blasted by his gravity beams. Luckily for Mothra, Godzilla and Rodan; impressed by her courage and selflessness; arrive to help and a titanic battle against Ghidorah begins. Meanwhile, Shindo and Dr. Tsukamoto are forced to protect Princess Selina as Malmess and his men converge on Tsukamoto's clinic; they fend the killers off and escape into the mountains as the dueling monsters draw closer, so they can watch the battle from a safe distance. The assassins attempt to follow, but a stray blast from Ghidorah buries their car in an avalanche. Only Malness remains uninjured enough to continue. He attempts to snipe the Princess from an elevated position, but only injures her. In her pain she regains her memory and is no longer possessed by the Martian. Before Malness can take another shot, another stray blast from Ghidorah buries the assassin under a second avalanche. With the heroes thus saved from the human menace, they gather at a safe distance to watch the battle between earth's monsters and Ghidorah. After not gaining a clear advantage over Ghidorah, the three monsters co-ordinate their attack; Godzilla grabs hold of Ghidorah's tails while Mothra  sprays the three headed dragon with her silk. Finally Godzilla throws the alien beast off the cliff and the battered dragon flies off, back into outer space. As Mothra and the Shobijin return to Infant Island while Godzilla and Rodan go their separate ways. Selina, having retained the memories of her time with Shindo, bids farewell to her guardian as she meets her bodyguards at the airport to return home.\n",
      "The 5 best recommendations are: \n",
      "3337\n",
      "Recommendation movie Number 1 is: \n",
      "['Godzilla: Final Wars']\n",
      "It belongs in the following categories: \n",
      "['\"Science Fiction\",  \"Japanese Movies\",  \"World cinema\",  \"Creature Film\",  \"Cult\",  \"Fantasy\",  \"Monster\"']\n",
      "The movie's plot is: \n",
      " Endless warfare and environmental pollution has resulted in dangerous kaiju and the Earth Defense Force  is created to protect the planet. The organization is equipped with the best technology, weapons and soldiers, as well as mutants with special abilities. Godzilla is the EDF's only unstoppable opponent. The EDF's best combat vehicle, the Gotengo, corners Godzilla at the South Pole and buries him under the Antarctic ice, freezing him alive. Several years later, the EDF discovers a mummified space monster. Mutant soldier Shinichi Ozaki and United Nations biologist Dr. Miyuki Otonashi are sent to research it. Shortly thereafter, the two encounter the Shobijin, fairies of the guardian monster Mothra, who reveal that the monster is Gigan, an alien cyborg sent to destroy Earth 12,000 years earlier. They also warn that a battle between good and evil will happen soon. Monsters appear in major cities on Earth and the EDF attempts to drive them away. Despite defeating Ebirah, the EDF is unsuccessful in destroying the monsters. The monsters include Anguirus in Shanghai, Rodan in New York City, King Caesar in Okinawa, Kamacuras in Paris, Kumonga in Arizona, Zilla in Sydney and Ebirah near Tokyo. After destroying most of the cities, the monsters vanish and an enormous alien mothership appears over Tokyo. The Xiliens say that they are friendly and had eliminated the monsters. They also warn the Earth about an impending asteroid called Gorath that will impact soon. Because of their seemingly friendly nature, the UN is disbanded and the Space Nations, an alliance to unite the universe, is organized. Ozaki, Miyuki, the Gotengos captain Douglas Gordon and several others distrust the aliens. Using research and undercover work, they discover that the Xiliens are actually the ones who unleashed the monsters, and they replaced several members of the EDF with android duplicates. They plan on subjugating humanity to harvest their mitochondria for food. The Xiliens are exposed on television. Opposed to the Xilien commander's decision to subtly take over Earth, the alien's subordinate, the Regulator, kills the commander and assumes control of Earth's mutants, except for Ozaki. The monsters are again released in Earth's major cities. Ozaki, Miyuki, Gordon, and others flee to their secret facility. On Mt. Fuji, a hunter and his grandson discover Minilla, Godzilla's son. They are successful in keeping a low profile and hiding from the Xiliens' assault. Gordon proposes freeing Godzilla to allow the dinosaur to defeat the other monsters. Using the Gotengo, the EDF goes to Antarctica while being chased by Gigan. After Godzilla is released from his hibernation, he kills Gigan, and follows the Gotengo. The Gotengo returns for Tokyo, hoping Godzilla will unwittingly defeat the Xiliens. The Xiliens send the controlled monsters after Godzilla, but he defeats them in short battles. The Gotengo and Godzilla arrive at Tokyo, whereupon the Gotengo enters the mothership. During the battle Ozaki's friend Kazama destroys the Mothership's shield generator at the cost of his own life. Meanwhile, the asteroid strikes Godzilla. Monster X materializes and starts to battle Godzilla. Gigan, who has now been upgraded, aids Monster X, but Mothra arrives to engage him into battle. Inside the Xilien mothership, the humans confront the Xilien Regulator. Ozaki is revealed to be a \"Keizer\", an all powerful being capable of controlling Earth. Deciding to stay with the humans, Ozaki fights the Xilien Regulator, who is also a Keizer. After an extended battle, the humans are victorious and flee the Mothership's destruction. With Mothra who destroys Gigan, Godzilla continues his battle with Monster X, who mutates into Keizer Ghidorah. Keizer Ghidorah initially has an advantage over Godzilla using lightning to overpower him and drain Godzilla's power through its teeth. Ozaki aids Godzilla by transferring some of his Keizer powers over to the monster and Godzilla prevails over Ghidorah. He then turns to attack the Gotengo, but a now much larger Minilla stops him. Godzilla turns to leave with Minilla following. In the credits, Mothra returns to her island while Godzilla and Minilla swim back to their home island as Godzilla lets out one final roar.\n",
      "2076\n",
      "Recommendation movie Number 2 is: \n",
      "['Godzilla vs. Mechagodzilla II']\n",
      "It belongs in the following categories: \n",
      "['\"Japanese Movies\",  \"Science Fiction\",  \"Fantasy\",  \"World cinema\",  \"Monster\"']\n",
      "The movie's plot is: \n",
      "In 1992, the United Nations establishes the United Nations Godzilla Countermeasures Center  to stop Godzilla. The remains of Mecha-King Ghidorah are salvaged from the ocean and used to create two anti-Godzilla machines. The first is a flying gunship called Garuda. The second and more powerful machine, modeled after Godzilla himself, is called Mechagodzilla. Two years later, on a mission to Adona Island in the Bering Sea, a Japanese team comes across what they assume is a large pteranodon egg. The egg gives off a strange telepathic signal that attracts Godzilla and Rodan, an adult pteranodon irradiated by the nuclear waste. Both monsters appear and fight for the egg. During their battle Godzilla critically wounds Rodan while the research team escapes with the egg. It's taken to a research center in Kyoto, where it imprints on a young female scientist. When a Baby Godzilla hatches from the egg, the research team concludes that the egg was left in the pteranodon nest with Rodan, just as European cuckoos leave their eggs in the nests of other birds. Godzilla appears in Japan, once again responding to the creature's psychic call. The JSDF mobilizes Mechagodzilla, which intercepts Godzilla as he is making his way to Kyoto. Before Mechagodzilla can kill Godzilla, it malfunctions, allowing Godzilla to regain his strength and temporarily defeat his mechanical double. Godzilla continues searching for Baby, but the scientists, having discovered the telepathic link between the monsters, shield it from Godzilla. Frustrated, Godzilla destroys most of Kyoto before returning to the ocean. Tests on the baby reveal that it has a second brain in his hips that controls the animal's movement. The UNGCC assumes that the same goes for Godzilla and decide to Baby to bait Godzilla into a fight with Mechagodzilla. The \"G-Crusher\" is installed in Mechagodzilla's wrists, allowing the robot to penetrate Godzilla's hide and paralyze the monster by destroying its second brain. The plan backfires, however, when Rodan, having survived his battle with Godzilla and further mutated by radiation, responds to Baby's call and intercepts the UNGCC transport. The UNGCC is forced to send Mechagodzilla and Garuda after Rodan instead and, in the ensuing battle, Rodan is mortally wounded. Godzilla shows up moments later and attacks Mechagodzilla. When the two appear to be evenly matched, Mechagodzilla combines with Garuda. The upgraded Mechagodzilla, called Super-Mechagodzilla, carries out the G-Crusher plan and succeeds in paralyzing Godzilla. Suddenly, the dying Rodan, once again revived by Baby's call, attempts to escape. Super-Mechagodzilla shoots him down and Rodan lands on top of Godzilla. Rodan's lifeforce regenerates Godzilla's second brain and supercharges him. Now more unstoppable than before, Godzilla attacks and destroys Super-Mechagodzilla with a high-powered red atomic ray. Godzilla finally locates Baby, who is at first afraid of the giant monster. Miki Saegusa, a young psychic woman with a link to Godzilla, telepathically communicates with Godzilla, convincing him to adopt Baby as his own.\n",
      "659\n",
      "Recommendation movie Number 3 is: \n",
      "['Godzilla: Tokyo SOS']\n",
      "It belongs in the following categories: \n",
      "['\"Cult\",  \"Science Fiction\",  \"Japanese Movies\",  \"World cinema\",  \"Action/Adventure\",  \"Fantasy\",  \"Monster\"']\n",
      "The movie's plot is: \n",
      "Kiryu is undergoing repair modifications after its battle with Godzilla. Prime Minister Hayato Igarashi accepts Lead Scientist Yoshito Chujo's choice to replace the Absolute Zero Cannon with a powerful Tri-Maser. The Shobijin  warn the Japanese government that Godzilla continues returning to Japan because they used the original Godzilla's bones in Kiryu's design. If they return the bones to the bottom of the sea, Mothra would gladly take Kiryu's place in defending Japan, but if they do not, Mothra will declare war on humanity. Soon enough, Kamoebas, a giant sea turtle, is found washed ashore on a Japanese beach. It is determined by the wounds on Kamoebas' neck that Godzilla killed it. Godzilla and Mothra fight, but Godzilla seems to have the upper hand. With the repairs finished just in time, Kiryu manages to even the odds, but Godzilla manages to knock out both monsters. Meanwhile, on Infant Island, two twin Mothra larvae hatch from Mothra's egg, and rush to help their mother. As Kiryu was being repaired, the larvae try to hold Godzilla off, but Mothra is killed by Godzilla's atomic breath while trying to save her children. Just in time, Yoshito and the humans repair Kiryu, who stabs Godzilla's chest with a drill, causing Godzilla to bleed. Godzilla roars in pain, and the larvae begin to bind him up in web. Just as Kiryu's pilot, Azusa Kisaragi, receives the order by Igarashi to destroy Godzilla before the Kiryu project is scrapped, Kiryu's soul is re-awakened through Godzilla's roar. The cyborg lifts Godzilla and secures themselves with cables. Kiryu then uses its boosters to carry itself and Godzilla to the bottom of the ocean. In the film's post-credits scene, in an undisclosed location, a laboratory is shown, filled with canisters that contain the DNA of numerous Toho kaiju. It is stated in the Japanese version via on off-screen voice giving announcements that a \"bio-formation\" experiment involving an \"extinct subject\" is about to take place, implying that the JXSDF plans to create another mecha or kaiju-based superweapon, which could mean that Godzilla or another monster could appear once again.\n",
      "1370\n",
      "Recommendation movie Number 4 is: \n",
      "['Godzilla vs. Hedorah']\n",
      "It belongs in the following categories: \n",
      "['\"Science Fiction\",  \"Horror\",  \"World cinema\",  \"Creature Film\",  \"Cult\",  \"Monster\",  \"Japanese Movies\"']\n",
      "The movie's plot is: \n",
      "The microscopic alien lifeform Hedorah feeds on Earth's pollution and grows into a poisonous, acid-secreting sea monster. After it attacks Dr. Yano and his young son Ken, scarring them both, Hedorah's toxic existence is revealed to the public. Ken has visions of Godzilla fighting the world's pollution, and insists Godzilla will come to mankind's aid against Hedorah. Hedorah evolves into an amphibian form, allowing it to move onto land to feed on additional sources of pollution. Hedorah is confronted by Godzilla and Hedorah only an amphibian at the time is easily overpowered by Godzilla and retreats into the sea but returns shortly thereafter in a flying saucer shape demonstrating new, even deadlier forms which it can switch between at will. Thousands of people die in Hedorah's raids and even Godzilla is overwhelmed by Hedorah's poisonous emissions. As hope sinks, a party is thrown on Mt. Fuji to celebrate one last day of life before mankind succumbs to Hedorah. Ken realizes that Godzilla and Hedorah have come to Mt. Fuji as well for a final confrontation. Dr. Yano has determined that drying out Hedorah's body may destroy the otherwise unkillable monster. The army swiftly constructs two gigantic electrodes for this purpose, but their power is cut off by Godzilla and Hedorah's violent battle. Godzilla energizes the electrodes with his atomic ray, dehydrating Hedorah's outer body. Hedorah sheds this outer body and takes flight to escape, but Godzilla propels himself through the air with his atomic ray to give chase. Godzilla drags Hedorah back to the electrodes and continues to dehydrate it until Hedorah dies. Godzilla tears apart Hedorah's dried-out body and dehydrates the remains until nothing remains but dust. With Ken calling after him, Godzilla returns to the sea, but not before glaring threateningly at the surviving humanity whose pollution spawned Hedorah. The question arises: Could it happen again?\n",
      "3502\n",
      "Recommendation movie Number 5 is: \n",
      "['Godzilla, King of the Monsters!']\n",
      "It belongs in the following categories: \n",
      "['\"Disaster\",  \"Science Fiction\",  \"Japanese Movies\",  \"Black-and-white\",  \"Monster\"']\n",
      "The movie's plot is: \n",
      "The revised story begins at a hastily established emergency hospital in an evidently devastated Tokyo, to which is brought American reporter Steve Martin , one of the wounded. In flashback, Martin tells of his stopover in Tokyo on a routine assignment to Cairo for United World News, where he finds himself confronted by the emergence of an inexplicable menace to navigation in the Sea of Japan. Something is causing ships to be destroyed without warning and sink with no time for escape. When a dying seaman finally washes up on an inhabited island, Martin flies there for the story with Tomo Iwanaga, a representative of the Japanese security forces , and learns of the island inhabitants' belief in a monster god which lives beneath the sea, which they believe is causing the disasters . Martin phones his editor at United World News, George Lawrence  and is given permission to stay and cover the story. Martin's involvement in the unfolding events broadens when paleontologist Dr. Yamane , is consulted and, returning to the island with his daughter Emiko  and her young naval-officer boyfriend Ogata  to investigate, sees the monster when it attacks the island village. Returning to Tokyo with clear evidence of the monster's existence and power, Yamane becomes a leading consultant to Japan in mounting a defense, as it becomes apparent the monster is going to attack Tokyo. The Japanese navy is unable to faze the monster with depth charges. In the dark of night, the monster attacks Tokyo, and it proves invulnerable to conventional military weaponry no matter how concentrated. Martin is one of millions injured in the attack, and here the flashback ends: Godzilla  has returned to the sea, but it is certain this is only for the moment. Emiko reveals she may know a solution to the monster's apparent indestructibility. She loves the young naval officer, but had until recently been engaged to a young scientist Dr. Serizawa , who was also Steve Martin's friend in college. She has lost interest in him because he has become almost a recluse, to her and others. After her breaking up with him, he revealed to her the reason for his reclusiveness — over the course of his research, he had accidentally developed a formula capable of destroying all oxygen in water, in the process of which any animal coming in contact with the \"oxygen destroyer\" is stripped clean of all flesh and organs, reduced to a skeleton. His anguish over what to do with this discovery has become a constant preoccupation. She had agreed to keep her knowledge of this a secret. But with Godzilla loose, she realizes this may be the only thing capable of stopping the monster, and informs her boyfriend and father. The scientist is only reluctantly persuaded to use his remaining sample of the oxygen destroyer to try to kill Godzilla, provided he accompanies the young officer, in a diving suit, to the sea bottom to place and release the formula more or less at the monster's feet. After concluding this agreement, the scientist destroys all his notes and papers on the formula. Emiko, upon seeing this, breaks down in tears, as she realizes that Serizawa is sacrificing his life's work to stop Godzilla. Once on the bottom of the sea, he sends the young officer back up to the boat, releases the destroyer, and cuts his own oxygen hose and lifeline, to ensure no one else will ever know the chemical composition of his horrid formula. The young officer joins Dr. Yamane, Emiko and Steve Martin on the ship to watch as the oxygen destroyer does its work, reducing Godzilla to a skeleton. Afterwards, Martin's last words were, \"The menace was gone, so was a great man. But the whole world could wake up and live again.\"\n"
     ]
    }
   ],
   "source": [
    "content_recommender(256, 5)"
   ]
  },
  {
   "cell_type": "code",
   "execution_count": 0,
   "metadata": {
    "_uuid": "d7c77f50e46280ec9a590349e932166a83fcc90c",
    "colab": {},
    "colab_type": "code",
    "collapsed": false,
    "id": "Wx-n8BAeu3jR",
    "outputId": "bc580066-fad1-4a81-814c-dcb603912005"
   },
   "outputs": [
    {
     "name": "stdout",
     "output_type": "stream",
     "text": [
      "***The movie's name is: *** \n",
      "['Fright Night']\n",
      "It belongs in the following categories: \n",
      "['\"Cult\",  \"Thriller\",  \"Horror\",  \"Comedy\",  \"Teen\"']\n",
      "The movie's plot is: \n",
      "Charley Brewster  is a huge fan of traditional Gothic horror films. He stays up late at night to watch the horror movie TV series \"Fright Night\" hosted by Charley's hero, Hammer Horror style actor Peter Vincent , who played a vampire killer for many years in horror movies. Charley discovers that his new next door neighbor, Jerry Dandridge  is a vampire. Upon coming to this terrible realization, Charley tries to tell his naturally skeptical yet loving mother, and asks his friends for their help. In desperation he calls the police but when he reveals his suspicions to them they believe he has a wild imagination and ignore his claims. That night Charley gets a visit from Jerry himself who offers Charley a \"choice\" : \"Forget about me and I'll forget about you.\" Charley tries to use his crucifix on Jerry but the latter stops him and slowly tries to push Charley out the window to his death. Charley stabs Jerry through the hand with a pencil. Enraged, Jerry destroys Charley's car in retaliation and warns Charlie that he plans to do much worse to him later. Charley turns to Peter Vincent, for help, but Peter dismisses Charley as an obsessed fan. Charley's girlfriend, Amy Peterson , fears for Charley's sanity and safety so she hires the financially destitute Vincent to \"prove\" that Jerry is not a vampire by having him ingest what they claim is \"holy water\", but it turns out to only be tap water. Vincent accidentally discovers Jerry's true nature after glancing his lack of a reflection in his pocket mirror, which causes him to accidentally drop and smash the mirror. With this terrifying knowledge Peter flees but Jerry learns of Peter's discovery after finding a piece of his pocket mirror on the floor. Jerry hunts down and turns Charley's friend, Edward \"Evil\" Thompson , into a vampire. Evil then visits Peter and tries to attack him, only to be warded off when injured by a crucifix. Meanwhile, Jerry chases Charley and Amy into a club. While Charley is trying to call Peter for help, Jerry hypnotizes and abducts Amy, who bears a resemblance to Jerry's lost love . With nowhere left to turn, Charley attempts to gain Peter's help once more. Peter, frightened from having dealt with Evil, initially refuses, but then reluctantly resumes his \"Vampire Killer\" role as Charley approaches his neighbor's house. The two are able to repel Jerry's attack using a crucifix, though only Charley's works, since he has faith in its spiritual power. Billy Cole ([[Jonathan Stark , Jerry's live-in carpenter and daytime protector, appears and knocks Charley over the banister and to the ground. Peter flees to Charley's house, finding that Mrs. Brewster is at work, and is attacked by Evil Ed, who takes a wolf form. Peter apparently kills Evil after staking him through the heart. An unconscious Charley is taken to Amy who has been turned into a vampire by Jerry. Peter says the process can be reversed, but only if they kill Jerry before dawn. Charley and Peter are then confronted by Billy, whom Peter shoots, on the assumption that Billy is human due to having a reflection and appearing during daytime. This theory proves to be incorrect, as Billy rises again and is only killed when staked through the heart by Charley. Jerry appears, but Peter is able to lure the overconfident vampire in front of a window using a crucifix . Just before the morning sun lights him ablaze. Jerry turns into a bat and attacks Peter and Charley  before fleeing, wounded, to his coffin in the basement. Charley and Peter go in pursuit of Jerry; Peter breaks open Jerry's coffin and tries to stake him through the heart whilst Charley has to fight off Amy, who has completed her transformation. By breaking the blacked-out windows in the basement, Peter and Charley are able to expose Jerry to the sunlight and kill him. Jerry's death leads Amy to become human once more, and the three embrace. A few nights later Peter returns to his Fright Night TV series and announces a break from vampires, instead selecting to present an alien invasion movie, watched in Charley's bedroom by Charley and Amy. The last shot shows two red eyes appearing from the darkness of Jerry's house, followed by Evil laughing sarcastically \"Oh, you're so cool, Brewster!\", indicating that he had survived his fight with Vincent.\n",
      "The 5 best recommendations are: \n",
      "1387\n",
      "Recommendation movie Number 1 is: \n",
      "['Fright Night II']\n",
      "It belongs in the following categories: \n",
      "['\"Horror\",  \"Comedy\",  \"Teen\"']\n",
      "The movie's plot is: \n",
      "Fright Night Part II begins after the events in the original Fright Night. Charley , as a result of psychiatric therapy, now believes that Jerry Dandridge , was nothing but a serial killer posing as a vampire. As a result, he comes to believe that vampires never existed, until Regine Dandridge  arrives, intent on seducing Charley into vampirism so she can punish him eternally for destroying her brother. Charley, along with his new girlfriend, Alex Young , go to visit Peter Vincent , who is again a burnt-out vampire killer on Fright Night much to the chagrin of Charley. While visiting Peter's apartment Charley sees four coffins being taken into a car. On the way out from Peter's apartment, Charley sees four strange people walk past him, into an elevator. Charley instantly becomes drawn to one of the four, the alluring Regine . Charley drives Alex back to her dorm room and begins to make out with her, only to pull away and see Regine staring back at him. An upset Alex storms off, not realizing that something is following her. Another girl leaves the dorm as Alex enters, and she is followed and killed by one of Regine's vampires, Belle. Alex, meanwhile, is unaware that Louie, another of Regine's group, is scaling up the wall outside her window, but he is startled and falls when Alex inadvertently slams her window shut on his hands. Bozworth ([[Brian Thompson , a bug-eating servant of Regine, makes fun of Louie before consuming some bugs. Later that night Charley dreams that Regine comes to visit him, only to turn into a vampire and bite him. The next day Charley talks to his psychiatrist  who assures him that what he dreamed was only natural. Alex finds Charley bowling, per doctor's orders, and Charley agrees to go to the symphony with her. On his way there however he sees his friend Richie  with Regine and opts to follow him. Charley climbs up to a fire escape outside of Regine's apartment, only to be horrified when he sees Regine and Belle attack and drain Richie's blood. Charley runs off to find Peter, and the two of them arm themselves with crosses and crash Regine's party. There, Charley finds Richie, but is shocked to find him alive and well, with no bite marks on his neck. Regine makes her entrance, doing an erotic dance with a mesmerized Charley. She introduces herself to Peter and Charley, and claims to be a performance artist in town for some shows. Satisfied that what he thought was Regine attacking Richie was nothing but an act, Charley leaves when he remembers his date with Alex. Peter elects to stay behind and while looking around, he notes that there are people in the corners of the room biting others on the neck. Noting the odd behavior, he draws his pocket mirror and finds that Regine and Belle, who are dancing in the middle of the dance floor, cast no reflections. Storming out of the party, Peter runs into Regine waiting for him outside. As he runs down the stairwell Peter again comes face-to-face with Regine, who reveals She is a vampire, the sister of Jerry Dandridge, and has come to take her revenge on both Charley and Peter. Peter runs back home and hides, resolving to tell Charley in the morning what has just transpired. Charley, meanwhile, blows off his date with Alex, returns home and falls asleep, only to be visited by Regine, who bites him on the neck while he sleeps. Charley, content with the explanation that Regine is a performance artist once again is in denial. He begins to discuss the situation with Alex when Peter arrives to try to warn the couple about Regine but neither believe him. Peter states that he has warned them and runs back to his home, packs his belongings and departs. Meanwhile, Charley has started to show signs of being a vampire as he is becoming sensitive to garlic and sunlight. After failing to talk to his psychiatrist, he overhears a news report about Richie's body being discovered the previous night. Now believing that everything is real, Charley goes to see Peter, only to find that Peter has gone. Louie is once again stalking Alex. Louie reveals his true nature to Alex and Charley and stalks them in the school library, only to flee after Alex injures him by cramming wild roses into his mouth. Alex and Charley are then arrested by campus police. Peter, meanwhile, is also arrested after he shows up on the set of Fright Night and attempts to kill its new host, Regine, on live TV. Everyone thinks he's lost his sanity as he says, \"I have to kill the vampire\"; and he ends up in a state hospital. Alex is bailed out by Charley's shrink and goes to post bail for Charley, only to find that he has already been bailed out by Regine. Alex and Dr. Harrison head to the state hospital when the doctor reveals that he is in fact a vampire. He tries to bite Alex only for her to turn the tables on him and run him through with a piece of wood. She then assumes his identity as a doctor. At the hospital, a commotion allows Alex and Peter to escape. Alex and Peter head to Regine's lair in order to save Charley. They find a disoriented Charley, who is slowly turning into a vampire. They rescue him from an undead Richie, and in the process manage to kill Belle, Bozworth and Louie before confronting Regine. She attempts to escape into her coffin, but finds that Charley has lined it with Communion wafers. Regine knocks Alex unconscious and attempts to turn Charley into a vampire, but Peter manages to destroy her with sunlight. The following day, Charley and Alex discuss the previous day's events, with Alex joking that if she wrote a book about it, no one would ever believe them. They know that there are no more vampires, but acknowledge that they can never be 100% certain. They embrace each other, and a bat can be heard flying away.\n",
      "1354\n",
      "Recommendation movie Number 2 is: \n",
      "['The Return of the Vampire']\n",
      "It belongs in the following categories: \n",
      "['\"Horror\",  \"Creature Film\"']\n",
      "The movie's plot is: \n",
      "The film begins with a voiceover  announcing that 'the following events are taken from the notes of Professor Walter Saunders of King’s College, Oxford...’ The first scene takes place in a mist-shrouded cemetery at night. A werewolf  enters a tomb and tells his vampire ‘Master’ that it is time for him to awake. A hand reaches out of the coffin and lifts the lid. A shadow appears on the wall, and the unmistakable voice of Bela Lugosi asks what happened while he was asleep . The werewolf replies that his latest victim has been taken to Dr. Ainsley’s clinic. Baffled by her patient’s anemic condition, Lady Jane Ainsley  has called in Professor Walter Saunders . While they are discussing the patient, two children enter. They are Lady Jane’s son, John, and Professor Saunders’ granddaughter, Nikki. Lady Jane and the professor send the children to bed and return to their patient. The vampire, finding that his victim is not alone, attacks Nikki instead. After the patient dies, Professor Saunders sits up the rest of the night, reading a book on vampires written two hundred years ago by Armand Tesla. The following morning, the professor shows Lady Jane the bite marks on their dead patient’s neck, and tells her that he believes they were caused by a vampire. Lady Jane is skeptical until they discover similar bite marks on Nikki’s neck. Professor Saunders and Lady Jane go to the cemetery and search for the vampire’s coffin. As they are about to drive a stake through its heart, the werewolf returns and tries to stop them; but once the vampire is staked, the werewolf returns to his human form. The story now jumps forward 24 years. Professor Saunders has just died, and his account of these events was found among his effects. Sir Fredrick Fleet  sits in his office at Scotland Yard, reading the professor's manuscript. Sir Frederick tells Lady Jane that he intends to find the body of the man whom she and Professor Saunders staked. If the man really was alive when they staked him, Lady Jane is guilty of murder. Lady Jane tells Sir Frederick that the man she and the professor staked was two hundred years old. He was none other than Armand Tesla, whose lifelong fascination with vampires ended with his becoming one himself. The scene moves to Lady Jane’s clinic. Her son, John, and Professor Saunders’ granddaughter, Nikki, are now adults and plan to marry. It is World War Two, and Nikki  is in military uniform. John  is in civilian clothes, having been discharged from the RAF due to a war injury. When she and John are alone, Lady Jane tells him about her meeting with Sir Frederick. John asks if she is worried about being arrested for murder. Lady Jane says that, when Sir Frederick finds Tesla’s body, he will see that it hasn’t decomposed. That will prove Tesla was a vampire. They agree not to tell Nikki about this. They don't want to remind her of her childhood trauma when she was bitten by the vampire. While they are talking, Andréas enters. He used to be Tesla’s werewolf servant. Freed of the vampire’s power, he has become human again, and is Lady Jane’s assistant at the clinic. Andréas is visibly upset when he hears that the vampire's body is going to be dug up. During an air raid, a bomb falls on the cemetery. Gravediggers are assigned to rebury the disturbed coffins. They find Tesla's body, assume the stake driven through his heart was part of a bomb, and pull it out. Back at the clinic, Lady Jane tells Andréas that Hugo Bruckner, a famous scientist, has escaped a Nazi concentration camp and is coming to England to work with her. She sends Andréas to meet Dr. Bruckner’s boat and bring him back to the clinic. On his way to meet Bruckner, Andréas sees the risen vampire. Now, for the first time, the audience see Lugosi’s face. Fixing Andréas with his hypnotic eyes, the vampire says that he was responsible for Professor Saunders' death. Now he will take his revenge on Lady Jane. Andréas, once again under Tesla’s power, becomes a werewolf. Following the vampire’s orders, he kills Bruckner and Tesla takes his place. The following morning, Sir Frederick and Lady Jane come to the cemetery to look for Tesla’s grave. When they find there is nothing left of it but a hole where the bomb fell, Sir Frederick declares the case is closed. That evening, Lady Jane throws a party to celebrate John and Nikki’s engagement. Sir Frederick arrives, with Professor Saunders’ manuscript. He asks Lady Jane whether he should give the manuscript to Nikki, since she is the professor’s granddaughter and only living relative. Lady Jane takes the manuscript and locks it in a drawer because she doesn't want Nikki to be reminded of her childhood trauma. Tesla arrives, pretending to be Bruckner. He charms everyone except Sir Frederick, who seems suspicious of him. Lady Jane discovers the drawer has been forced open and the professor’s manuscript stolen. She calls in Sir Frederick. He finds some hairs stuck to the drawer, and puts them in his pocket. Upstairs, Nikki finds the manuscript lying beside her bed and begins reading it. Later, she hears Tesla’s voice calling to her. She asks who he is, and he replies that she already knows. The following morning, John and Lady Jane find Nikki lying unconscious on the floor of her bedroom. John is upset when he sees the bite marks on Nikki’s neck, but Lady Jane assures him that everything will be all right. Lady Jane returns to the cemetery and speaks with the gravediggers. They tell her that they found a body with a stake in it. They pulled out the stake and reburied the body, but now it’s missing. She tells this to Sir Frederick, but he dismisses it because he doesn't believe in vampires. Instead he assigns two plainclothes men to shadow Andréas. While the two men are following him, Andréas changes into a werewolf. He runs away, dropping the bundle he was carrying. The two men take the bundle to Sir Frederick, who opens it and finds it contains the personal effects of the real Hugo Bruckner. Sir Frederick’s suspicions of Bruckner/Tesla are now confirmed. While Sir Frederick is examining the contents of the bundle, another man comes in. He says that a laboratory analysis of the hairs Sir Frederick found on the drawer show them to be wolf’s hairs. That night, as Nikki sleeps, Tesla calls to her again. He tells her to go to John’s bedroom. The following morning, Lady Jane finds John lying on the floor of his bedroom with bite marks on his neck. Nikki is convinced that she is becoming a vampire, but Lady Jane tells her that Tesla bit John, hoping to make Nikki believe she did it. Sir Frederick and Lady Jane question Andréas about the bundle. His hands become hairy and clawlike, but before he completes his transformation into a werewolf, he runs away. Sir Frederick assigns the same two plainclothes men to follow Bruckner/Tesla, but the vampire eludes them. Bruckner/Tesla goes to the Ainsley house and stands in the shadows, watching Lady Jane as she plays the organ. He tells her that, now she knows who he really is, he will take his revenge. He will turn Nikki into a vampire, and she will then do the same to John. Lady Jane pushes the sheet music aside, revealing a cross on the organ. The vampire disappears. Again Tesla calls to Nikki. She rises from her bed, leaves her bedroom and walks down the stairs. Downstairs, Sir Frederick and Lady Jane are once again arguing the existence of vampires. When they see Nikki coming down the stairs, they stop arguing and follow her. Nikki goes to the cemetery, where Tesla and Andréas  are waiting for her. The air raid siren goes off and bombs start falling. Nikki faints. The werewolf picks her up and is carrying her to safety when Sir Frederick shoots him. The wounded werewolf staggers into the tomb, still carrying the unconscious Nikki. He lays her down and asks Tesla for help. The vampire says that he no longer needs him, and tells Andréas to crawl into a corner and die. The werewolf obediently crawls into a corner, where he finds a crucifix. He picks it up, and returns to his human form. An explosion fills the screen, indicating a bomb has hit the cemetery. When Nikki awakes, she sees Andréas dragging an unconscious Tesla out of the tomb. It is now dawn, and the vampire begins to decompose in the daylight. After Tesla dies, Andréas also dies of his bullet wound. Sir Frederick and Lady Jane had taken shelter from the bombs, and continued quarreling. They now rush back to the cemetery and find Nikki, who tells them that Andréas saved her. Lady Jane asks Sir Frederick if he now believes in vampires. He says that he is still an unbeliever. He turns to the two plainclothes men and asks them ‘You two fellows don't believe in vampires, do you?’ To his surprise, they both reply that they do. He then faces the camera and asks ‘Do you people?’\n",
      "3754\n",
      "Recommendation movie Number 3 is: \n",
      "['Vampires']\n",
      "It belongs in the following categories: \n",
      "['\"Thriller\",  \"Action/Adventure\",  \"Horror\",  \"Cult\",  \"Western\",  \"Drama\",  \"Film adaptation\",  \"Action\"']\n",
      "The movie's plot is: \n",
      " A team of Vatican sponsored mercenaries led by Jack Crow  rids an abandoned house of vampires in the middle of New Mexico. The slayers stay at a motel in the middle of a desert, getting drunk, smoking and partying with women as they celebrate their victory. One of the prostitutes is a young woman named Katrina . When the master vampire, Valek , turns up at the motel, he bites Katrina and massacres the slayers and prostitutes. During this attack Valek sees Jack and calls him by name which astonishes Crow. Crow and his partner, Tony Montoya , run outside and grab a weak and nearly unconscious Katrina, take a pickup truck and drive off. Valek catches up with them, jumps on the back of the truck, but is shot in the face and this knocks him off the vehicle and onto the road. Narrowly escaping from Valek, they keep on driving for a few more hours until dawn and narrowly avoid hitting a stalled vehicle in the road. They walk east, coming to a gas station. They steal an automobile at gunpoint. While Crow goes back to the motel to deal with the remains of the team and prostitutes, Montoya takes Katrina to the nearest hotel. Crow stabs the corpses of his fellow slayers and the other victims in the heart with a wooden stake, then beheads them to prevent them from turning into vampires. Crow then burns down the motel and buries the heads in the desert. Meanwhile, Montoya has gotten another hotel room and he tells Katrina that she has been bitten by Valek and that she too will be one soon if they cannot find and destroy him. She now has a telepathic link to the Master. Jack meets his boss Cardinal Alba  who introduces him to Father Adam Guiteau . Jack reports that his entire team has been destroyed and that only one vampire did this. Cardinal Alba and Father Guiteau show Jack a centuries-old painting of a man which turns out to be the master vampire that attacked and killed Jack's crew. He was the first documented case of vampirism and is most likely the progenitor of all vampires. Jack is told that he will wait for his new team to get in before he hunts down Valek but that Father Guiteau would be replacing the priest that was murdered at the hotel. Meanwhile, Katrina tries to escape as Montoya rests. He awakens and grabs Katrina, pulling her through a window and back into the room. Katrina sees a cut on Montoya's arm and her vampire instinct takes over as she grabs it and bites him. He then uses a Zippo cigarette lighter to burn the wound clean. Jack and Guiteau get to the hotel where Montoya and Katrina are holed up. Katrina awakens having linked to Valek and Jack gets her to tell him what's going on. She has a vision from Valek's point of view which shows a sign that says San Miguel and Jack tells Guiteau to call all the churches in that area asking of any are missing any old priests. Soon after, Katrina loses the connection to Valek but Guiteau finds a lead. Jack tells the priest some of his past, about how his father was bitten by a vampire, killed his mother, came after Jack and that he killed his own father. He then asks what it is Valek's after and Guiteau tells him that he wants an ancient relic called the Black Cross of Berziers and that Valek was once a priest who was thought to have been possessed by demons. The Bérziers Cross was used in an exorcism that was cut short but the result was that Valek was forever changed into the first vampire and that the priest Valek killed was the only person who knew of the location of the Cross. Jack and the rest head to the old priest's church to try and see if they can find out the location of the Berziers Cross now that Valek has had to stop at sunrise. The next night Valek rises, with seven companions. Through Katrina's link to him, the Slayers learn that the seven other vampires are Masters as they converge on an old Spanish mission and soon Valek has the Cross in his possession. The next day, Jack and the others find the Spanish mission and Guiteau tells them that Valek wants the Berziers Cross to complete his exorcism which was cut short the first time. Completing the ritual would supposedly make him able to walk in the daylight and that would make him unstoppable. They then travel to a nearby town that seems to be deserted. The security cameras in the town jail are still on and Jack spots one of the Master vampires walking around. Montoya stays outside and works the winch attached to the Jeep, keeping an eye on the continually weakening Katrina while Jack stays on the ground floor to shoot them with his crossbow leaving Guiteau to be the bait to lure them to Jack. They manage to get a couple of the Masters but not before the sun sets enough for Valek and the other Masters to come out as well as the town's missing population who have been turned into weaker vampires. Guiteau manages to find a place to hide without being seen, but Valek and the rest get hold of Jack knocking him out. Montoya and Katrina escape, but as the sun sets Katrina fully turns into a vampire and bites Montoya on the neck. He makes no move to stop her and she then starts walking back to the town, now a member of the undead. When Montoya awakens, he loads a submachine gun and fires a volley and smashes the hot barrel against the open wound on his neck. Jack awakens to find that he's been tied to the front of his truck and that he's surrounded by the recently turned towns folk, the Masters and Valek. Cardinal Alba has betrayed the Vatican Council, explaining to Jack that he's planning on reproducing the first exorcism  and becoming Valek's first \"new child.\" The exorcism must be completed by dawn. Katrina walks back into the town and the Cardinal begins the ritual. Guiteau is hiding in one of the stores and finds a shotgun with shells under the counter. He gets up on the roof where he shoots and kills Cardinal Alba. Valek then tells Guiteau to finish the ritual and Guiteau refuses placing the shotgun against his head. Montoya's jeep comes into the town and he uses Jack's crossbow to shoot the cross that Jack has been tied to the cable. Jack is dragged behind the jeep. Valek tries to get the Bérziers Cross but the sunlight reflecting off of the jewels in the cross burns his hands and he can't get hold of it. He heads for shelter and Jack grabs the Berziers Cross and heads off after Valek. Jack and Valek face each other and Jack rams the cross though Valek's chest then throws himself through the support post for the roof causing it to collapse allowing the sun to get to Valek and he dies in a spectacular fireball. Montoya gets the jeep and gets ready to leave only to be confronted by the shotgun-wielding Guiteau, knowing that Montoya is turning into a vampire. Jack gets Guiteau to agree to a two day head start as Montoya backed up Crow for two days after being bitten by Katrina. Crow and Montoya embrace like the brothers they became after Crow informs Montoya that after the two days he will hunt down and kill both of them. Montoya and Katrina leave and the movie ends with Jack and Guiteau heading off once again to the jail to kill the rest of the vampires that made it to shelter.\n",
      "1492\n",
      "Recommendation movie Number 4 is: \n",
      "['Urban Legends: Final Cut']\n",
      "It belongs in the following categories: \n",
      "['\"Cult\",  \"Horror\",  \"Slasher\",  \"Teen\"']\n",
      "The movie's plot is: \n",
      " A flight attendant attacks passengers and crew on an airplane, which turns out to be a scene in a film shooting at a film academy. As the students are preparing for their thesis films and the prestigious Hitchcock award, a student named Amy Mayfield  is unsure about her thesis. But after a conversation with security guard Reese Wilson , , she decides to make a film about a serial killer murdering in the fashion of urban legends. Meanwhile, a student named Lisa  is drinking in a bar, when someone drugs her drink. Lisa feels dazed and prepares to leave the bar, when someone abducts her. She wakes up in a bath-tub filled with ice and discovers that her kidney was removed. Attacked by her abductor, she tries to flee through the window and is decapitated in the process. Lisa is not missed as she was about to go on a trip. The next day, Amy is preparing the shooting of her thesis film but is deserted by the assigned camera man, Toby Belcher , who accuses Amy of stealing his thesis idea. Shooting begins with another camera man, Simon. When Sandra , Amy's actress friend who played a victim in a scene, returns to an empty studio after forgetting her keys, she is attacked by the same killer who killed Lisa. Her friends witness her death when the material is smuggled into a sequence of takes of the scene, but discount it as another piece of acting, wondering who shot it. As there is no body and Sandra was about to go on a trip, her disappearance goes unnoticed. Travis , a friend of Amy who was depressed about having received a poor grade on his thesis film, is found to have committed suicide at the campus tower. At the funeral, Amy is offered help by Graham , a student from a prosperous Hollywood background. She refuses, wishing to make it on her own. This offends Graham, who thinks it hypocritical, as Amy grew up in Hollywood as the daughter of a famous documentary film maker before moving to Chicago. At night, Amy enters the tower and is surprised by Trevor, Travis' twin brother, who claims that Travis was murdered. The next night, Simon  is attacked by the killer but his screaming for help goes unnoticed as the others are doing the \"midnight scream\". Amy, who has heard his last scream on her head phones, is suspicious and asks Reese to review the surveillance tapes. After she has detected the assault on Simon on the tapes, she is confronted by the killer. During the ensuing chase, she loses the tapes and cannot prove her claims to a skeptical Reese. Amy now believes the claims of Trevor and meets up with him but, he still refuses to inform the police, hinting at a criminal past. The next scene to be shot involves the \"Tunnel of Terror\", which is set up in an old carnival ride. Sophomores Stan  and Dirk  are attacked and electrocuted by the killer while preparing the tunnel. Amy, who is taking a tour of the tunnel, discovers the corpses and is again confronted by the killer. She escapes again and informs the police, who attribute the deaths to accidental electrocution. Amy is comforted by Trevor. They begin having sex when Trevor suddenly stabs Amy. She wakes up and realizes that it was only a dream. Seeing a light on at the bell-tower, she decides to go there and finds her lesbian friend, Vanessa . Vanessa received a love note supposedly written by Amy, but when Amy disclaims any knowledge of such a note, the two are attacked by the killer and chased to the top of the tower, where Vanessa is captured. Meanwhile, Amy is locked in a room also containing Sandra and Simon's corpses. When Amy manages to break out, she finds Vanessa being hanged from the bell. Amy runs out of the tower into the arms of Trevor, who has found out that the thing the victims all had in common was their having worked on Travis' thesis film. They review Travis' film, which turns out to be awful, and find out that somebody placed Travis' credits onto another film. They suspect Toby, the only person working on the film left alive. They kidnap him and call in Professor Solomon  to present their suspicions. However, Toby reveals that Travis faked Toby's sound credit to help him graduate admitting that he never went anywhere near Travis' film. Upset that he gave Toby \"an A for nothing\", Professor Solomon shoots Toby and threatens Amy and Trevor. He also reveals that he murdered Travis making it look like a suicide. He holds Trevor at gunpoint and Amy yells to him is this what he wants. He reveals feeling trapped in a teaching position since failing to win the Hitchcock award in his student days for which he blames Amy's father, who cast the deciding vote against him. He now wanted to take credit for Travis' brilliant film and use Amy's Urban Legend film to eliminate all who worked with Travis, framing Amy in the process. Graham, who has been lurking in the back all this time, hits Solomon with a chair hoping to knock him out, but is shot by the professor after saying, \"It only works in movies.\" In the confusion, Trevor manages to disarm the professor. Then, Solomon threatens Trevor with a shovel while Amy gets a hold of the gun and threatens Solomon. Reese storms in, thinking Amy to be the killer, and forces her to drop the gun. Solomon accuses Amy, and calls attention to the fact that Reese saw Amy running out of the tower. As Reese never told anyone about this, she becomes suspicious and punches the professor. He tries to take her gun, but in the ensuing brawl, Reese's gun is lost amongst a pile of prop guns. Amy, Trevor and Solomon all grab for a gun. Trevor's gun is a fake when he tries to shoot Solomon, and Solomon's gun is a fake when he tries to shoot Amy. Amy got a hold of Reese's gun but hesitates to fire. Solomon attacks her again, but she shoots him. Then scene then cuts to the Hitchcock awards, where an award is posthumously given to Travis. As Trevor is about to accept the award on his late brother's behalf, a sniper appears in the rafters, only to be shot down by Reese. The altercation is then revealed to be a scene in Amy's new film \"Urban Legends\". We also see that Toby and Graham survived their attacks and are now busily working on her behalf. The final scenes show Solomon in a mental institution where, after watching Amy's film, the nurse asks him if he enjoyed the movie. He is wheeled out by a nurse, who is revealed to be Brenda , the previous film's killer saying that they have a lot in common.\n",
      "4686\n",
      "Recommendation movie Number 5 is: \n",
      "['Bara no Konrei ~Mayonaka ni Kawashita Yakusoku~']\n",
      "It belongs in the following categories: \n",
      "['\"Silent film\",  \"Japanese Movies\",  \"Indie\"']\n",
      "The movie's plot is: \n",
      "Klaha and Cecil are set to get married. However, their wedding must be postponed because Klaha is summoned from England to Romania on business. Klaha goes to Transylvania, and arrives at the Earl of Dracula's castle, where he is staying. The Earl seems welcoming, but Klaha has strange experiences while staying there. On his arrival, he notices a painting of the Earl's deceased wife, who looks very much like Cecil. 2 nights later, the Earl agrees to buy a house in England. That same night, after having a nightmare, Klaha wakes up to see a coffin leaving the grounds. While looking for the Earl, Klaha sees the painting again, but this time, the word \"Cecil\" is written under it. Too late does Klaha realise that the Earl is a vampire. He immediately leaves to try to catch up with him. Meanwhile, back in London, Cecil starts having dreams about the Earl of Dracula. She confesses those dreams to Mana, disguised as a nun, who tells her to pray about it. During Klaha's stay, she, unaware that Klaha is already going back, receives a letter  informing her that Klaha must stay an additional night, thus upsetting her. On the night that Klaha is returning, Közi visits Cecil to drink her blood . The Earl, however, sees this occur, and sends Mana to stop him. After a confrontation in which she uses roses as knives, Közi demands to know why she is attacking him; Mana tells him that Cecil is \"the Earl's Virgin Bride.\" At hearing this, Közi realises that the Earl wants to remain immortal. After a flashback which reveals their pasts , Közi calls Mana a hypocrite, since she sold her soul for revenge. Mana responds, \"I believe in God so I can keep my self-respect!\"; hearing this, Közi leaves in anger. Several nights later, the Earl's coffin arrives at the Church. The Earl wakes up, and Mana brings him a girl . He bites the girl's neck, and immediately, he gains his youthful appearance back. He then proceeds to kill the deliverymen who brought him in. The next day, he darkens the day sky and meets Cecil, who he immediately recognises by her respective locket ; he reappears during that moment to give her locket back to her. That same evening, the Earl finally visits Cecil. After several moments, the Earl bites down her neck. Two nights later, she finally realises that Klaha was on his way back, and attempts suicide, but is saved by the Earl. Klaha finally returns to England. Upon his return, he discovers that Cecil is ill, and her parents don't know what to do. Klaha then sees the two bite marks on Cecil's neck and informs everyone, \"A vampire did this\"; he then shows his two bite marks. Klaha realises that he is once again too late to stop the Earl, and says, \"Now I'll really need help!\" while a vision of the Earl holding the town in terror appears. The scene shifts back to the beginning of the film proper: Klaha, Cecil's father, a priest, and a doctor attempt to exorcise Cecil in an attempt to lure out the Earl. Suddenly, the Earl of Dracula appears. Klaha attempts to shoot the Earl through the neck, but he immediately recovers. He sets Cecil free. The priest attempts to stop him, but the Earl manages to throw the priest's crucifix on the ground. He then kills the priest by breaking his neck, stabs Cecil's father, and slits the doctor's throat. Klaha makes one last attempt to stop the Earl and Cecil from escaping, but they escape anyway . Közi then appears in the room. Klaha is frightened at first, but Közi assures him that he will not harm him, revealing where they are hidden: underneath the church. Közi tells Klaha he must kill Dracula and Mana, the latter because of one reason, as Közi explains: \"The more an adept believer of God you are, the more horrible the experience will be,\" reminding Klaha of the death of the priest. Before they leave, Közi reminds Klaha: \"Don't forget to kill him!\", which Klaha promises to do. They go to the church, where a ritual is under way to make Cecil the Earl's wife. Klaha appears in an attempt to stop the Earl and Mana. He draws his gun, only to see the Earl attempt to bite his neck to kill him. Közi, however, comes at the nick of time, and he and the Earl start to fight . During the fight, Mana attempts to escape, but is found out by the Earl, and is used by him as a human shield, protecting him from a blow that was meant for him. The ferocity of the Earl's attacks increase as a result from this. Közi, however, instead of continuing the fight, surprises everyone by stabbing himself in the gut. Közi asks Klaha to kill him, and he does. Klaha then goes to Cecil. At first, she seems to have recovered. However, her eyes turn red and she bares her fangs at him, proving she is still a vampire. The female vampire tells Klaha to kill Cecil before dying herself, begging him to \"Please stop [Cecil's] breath.\" Klaha attempts to do so, only to be prevented by the Earl, who, although injured, is still alive. Cecil drinks his blood again . While this goes on, Klaha takes advantage and stabs the Earl 2 times with his sword, outraging Cecil. Klaha then turns his sword to Cecil, and he manages to stab her 3 times. Before going for a fourth, he hesitates and lowers his sword. He then does something familiar: he stabs his hand to allow Cecil to drink his blood. The scene ends with Cecil giving a familiar expression, and it's revealed that Klaha was a vampire all along; he was biting her neck . In the final scene, Klaha, in his vampire form, wakes up, as if from a nightmare, suggesting that perhaps the whole events which occurred in the film were all inside of Klaha's mind. Cecil  sits up beside him and smiles. The film ends with Klaha walking down the aisle, carrying Cecil in his arms. The final intertitle states their feelings for each other: \"The only one I want is you.\"\n"
     ]
    }
   ],
   "source": [
    "content_recommender(701, 5)"
   ]
  },
  {
   "cell_type": "code",
   "execution_count": 0,
   "metadata": {
    "_uuid": "22210d91970242b29d55da366273aad314d8996d",
    "colab": {},
    "colab_type": "code",
    "collapsed": false,
    "id": "ehzOmDudu3jX",
    "outputId": "b5d22764-ec96-4084-e20c-fdd0a85b986c",
    "scrolled": true
   },
   "outputs": [
    {
     "name": "stdout",
     "output_type": "stream",
     "text": [
      "***The movie's name is: *** \n",
      "[\"Tora-san's Shattered Romance\"]\n",
      "It belongs in the following categories: \n",
      "['\"Japanese Movies\"']\n",
      "The movie's plot is: \n",
      "A girl who has escaped from an institution falls in love with Tora-san. He decides to marry her, but his family and the girl's teacher break up the romance.<ref name  http://www.kinejun.jp/cinema/id/19438|title2010-01-18|languageKinema Junpo}}\n",
      "The 5 best recommendations are: \n",
      "1009\n",
      "Recommendation movie Number 1 is: \n",
      "[\"Tora-san's Love in Osaka\"]\n",
      "It belongs in the following categories: \n",
      "['\"Japanese Movies\"']\n",
      "The movie's plot is: \n",
      "When his travels bring him to Osaka, Tora-san falls in love with a local geisha. He helps her to track down her estranged brother, and informs his family that he plans to marry her. His plans are foiled when the geisha informs Tora-san that she is engaged.<ref name  http://www.kinejun.jp/cinema/id/17080|title2010-01-21|languageKinema Junpo}}<ref name Stuart |last Stuart Galbraith IV|urlTora-san 27: Tora-san's Many-splintered Love  |date2010-01-21|publisherhttp://ftvdb.bfi.org.uk/sift/title/305826|title2010-01-21|publisher=British Film Institute}}\n",
      "3172\n",
      "Recommendation movie Number 2 is: \n",
      "[\"Tora's Pure Love\"]\n",
      "It belongs in the following categories: \n",
      "['\"Japanese Movies\"']\n",
      "The movie's plot is: \n",
      "When Tora-san's infatuation with his nephew's school teacher causes family turmoil, he leaves on his travels again. When he returns, he falls in love with the teacher's mother, who has a terminal illness.\n",
      "4177\n",
      "Recommendation movie Number 3 is: \n",
      "[\"Tora-san's Dream-Come-True\"]\n",
      "It belongs in the following categories: \n",
      "['\"Japanese Movies\"']\n",
      "The movie's plot is: \n",
      "When Tora-san returns to visit his family, he is surprised to find an arrogant professor occupying his room. The professor and Tora-san become rivals for the affection of Chiyo. Both lose, and the professor leaves for America while Tora-san returns to his travels.<ref name  http://www.kinejun.jp/cinema/id/28528 |title2010-01-18|languageKinema Junpo}}<ref name Stuart |last Stuart Galbraith IV|urlTora-san 10: Tora-san's Dream Come True  |date2010-01-18|publisherhttp://ftvdb.bfi.org.uk/sift/title/305846|title2010-01-18|publisher=British Film Institute}}\n",
      "1520\n",
      "Recommendation movie Number 4 is: \n",
      "[\"Tora-san's Sunrise and Sunset\"]\n",
      "It belongs in the following categories: \n",
      "['\"Japanese Movies\"']\n",
      "The movie's plot is: \n",
      "During his travels, Tora-san meets Ikenouchi, a drunken old man whom he assumes is poor and homeless. Tora-san takes the old man home. When he wakes up, Ikenouchi begins ordering Tora-san's family around in such an authoritarian manner that no one can muster the courage to suggest he leave. On the road again, Tora-san meets Botan, a geisha who has lost her life savings to a dishonest customer. He and his family's neighbor are determined to help her out. It later turns out that Ikenouchi is a famous artist and a drawing he has made for Tora-san is worth ¥70,000.<ref name  http://www.kinejun.jp/cinema/id/18537 |title2010-01-18|languageKinema Junpo}}<ref name Stuart |last Stuart Galbraith IV|urlTora-san 17: Tora-san's Sunrise and Sunset  |date2010-01-18|publisherhttp://ftvdb.bfi.org.uk/sift/title/305548|title2010-01-18|publisher=British Film Institute}}\n",
      "4915\n",
      "Recommendation movie Number 5 is: \n",
      "['Tora-san Goes Religious?']\n",
      "It belongs in the following categories: \n",
      "['\"Japanese Movies\"']\n",
      "The movie's plot is: \n",
      "When his travels bring him to Western Japan, Tora-san decides to pay his respects to the late Hyoichiro Suwa, his sister's father-in-law. He gets drunk with the priest at the temple, falling in love with the priest's daughter in the process. When the priest is too hung-over to deliver a eulogy the next morning, Tora-san takes his place, with great success. Tora-san's sister and his brother-in-law's family show up for Hyoichiro Suwa's memorial service, and an argument breaks out over his estate.<ref name  http://www.kinejun.jp/cinema/id/17391 |title2010-01-29|languageKinema Junpo}}<ref name Stuart |last Stuart Galbraith IV|urlTora-san 32: Tora-san Goes Religious  |date2010-01-29|publisher=DVD Talk}}\n"
     ]
    }
   ],
   "source": [
    "content_recommender(3310, 5)"
   ]
  },
  {
   "cell_type": "code",
   "execution_count": 0,
   "metadata": {
    "_uuid": "75a35b8f6b7a846ab9437d6ab675cc516784e528",
    "colab": {},
    "colab_type": "code",
    "collapsed": false,
    "id": "4hAecTOBu3jf",
    "outputId": "b83eee2b-0c59-4365-9b40-09f1dc889b02"
   },
   "outputs": [
    {
     "name": "stdout",
     "output_type": "stream",
     "text": [
      "***The movie's name is: *** \n",
      "['Hell Boats']\n",
      "It belongs in the following categories: \n",
      "['\"Adventure\",  \"Combat Films\"']\n",
      "The movie's plot is: \n",
      "In 1941 Lt. Commander Jeffords, an American serving with the Royal Navy is assigned to Valletta, Malta to command a flotilla of Motor Torpedo Boats for a top secret mission. Jeffords is granted permission to take his friend Chief Petty Officer Yacov, a Palestinian with him. Through scrounging spare parts from sunken craft, the battered flotilla is able to piece together three seaworthy craft. Jeffords' mission is to destroy a former Italian submarine base in Augusta, Sicily that now contains the German's Fritz X glide bombs that have been taking a heavy toll of British shipping. As the bombs are stored in former submarine pens tunnelled inside a mountain, an aerial attack is unfeasibile. It is up to Jeffords to determine how he will accomplish his mission. Off duty Jeffords meets a woman bathing in the nude who turns out to be the wife of his commanding officer. Jeffords turns down her offer of having an affair. Jefford first decides to make a reconnaissance of his target by being taken into the base by the Sicilian Resistance. Jefford's mission is successful, but at the cost of the lives of his Resistance escort. Jefford schemes to capture a German E-Boat in a manner similar to Commander Ian Fleming's Operation Ruthless. By sending a false radio message that General Alexander's airplane has gone missing in a certain area, Jefford and crew pose as survivors of the crash then capture the boat attempting to pick them up. Jefford uses the captured craft as a Trojan Horse to penetrate the harbour, having the other boats in the flotilla follow his captured craft in once the Germans have lifted their boom gate. Jefford and two others don Scuba sets to swim into the tunnels and plant explosive charges. The Allied invasion of Sicily took place in July 1943.\n",
      "The 5 best recommendations are: \n",
      "319\n",
      "Recommendation movie Number 1 is: \n",
      "['Submarine X-1']\n",
      "It belongs in the following categories: \n",
      "['\"Action/Adventure\",  \"Action\",  \"Drama\",  \"War film\"']\n",
      "The movie's plot is: \n",
      "The film begins with Commander Bolton and a few surviving crew members of his 50-man submarine Gauntlet swimming ashore after unsuccessfully attacking German battleship Lindendorf. After a review, Captain Bolton is cleared of any wrongdoing and placed in charge of a small group of experimental X class submarines. His mission is to quickly train crews to man the submarines and sink the Lindendorf while it is hidden away in a Norwegian fiord. The film progresses with Commander Bolton training the crews of the three submarines. He must overcome tensions with some of his former crew members, while keeping their activities hidden from outsiders and German planes. The crews successfully fend off an attack by German commandos, who discover their base. Bolton is forced to make hasty preparations for his attack before their submarine base can be destroyed. Two of the submarines are lost while attempting to cut through submarine nets at the entrance to the fiord. One submarine crew is captured and taken to the German battleship for interrogation. The surviving submarine penetrates the submarine nets in the fiord and places explosives under the German battleship. The submarine then manages to escape as the battleship explodes. The film concludes as the battleship sinks.\n",
      "2023\n",
      "Recommendation movie Number 2 is: \n",
      "['U-571']\n",
      "It belongs in the following categories: \n",
      "['\"Thriller\",  \"Adventure\",  \"Action/Adventure\",  \"War film\",  \"Action\",  \"Combat Films\"']\n",
      "The movie's plot is: \n",
      " The film begins with a summary of how the Allies are struggling to stop U-boats from sinking their freighters. The scene transfers to U-571, which torpedoes and sinks a freighter. The crew is happy with the kill, but seconds later the sonar man reports having detected high speed screws approaching. The Captain sights a destroyer, and orders the U-571 to dive. The destroyer drops depth charges, snapping a fuel line, which catches fire and kills the entire engineering crew. Because of sustained damage, U-571 is forced to resurface. The Captain learns that the batteries are almost depleted, both diesel engines are inoperable, and the engineering crew is dead. An Enigma-encoded SOS is sent to Berlin for aid. Meanwhile, the crew of the United States Navy submarine S-33 are celebrating ENS Larson's wedding and 48 hours leave. During the party, LT Andrew Tyler enters looking solemn, having been denied his first command. After complaining to LCDR Dahlgren, he is rebuffed and upset to learn that Dahlgren withheld his recommendation and voted against his receiving the promotion. Military Police suddenly arrive, announcing a secret mission that ends shore leave. The men arrive to find their boat, the S-33, modified to resemble a German U-boat. The crewman must wear German uniforms. Hirsch, a naval Intelligence officer who is fluent in German, orders Tyler to locate Radioman Wentz, who is fluent in German due to his immigrant parents. At the same time, a Marine named Coonan arrives in a convoy loaded with high explosives. After the S-33 sails, Hirsch explains that the Allies intercepted the disabled U-571s SOS. They will masquerade as the resupply ship for U-571, board it, capture the Enigma coding device and scuttle  the U-571. Tyler is skeptical but goes along. Wentz asks Tyler to keep his German heritage a secret. The S-33 leaves Portsmouth Naval Shipyard in Portsmouth, New Hampshire. Back on U-571, attempted repairs fail and the Captain is alerted that survivors from the merchant ship he sank have been spotted in a lifeboat, asking for asylum. He orders his men to shoot them, as their orders are to spare no survivors. His men reluctantly comply. During a storm, the S-33 comes across U-571 and sends the boarding party over, led by Coonan. Hirsch temporarily freezes and Wentz is forced to speak German in front of his friends in order for the group to retain their cover until their rafts are tied up. At first, the Germans openly welcome the S-33, but when a midshipman looks through his binoculars, he immediately identifies the weapons as American. He alerts the rest of the Germans, and they exchange fire with the S-33 crewmen. The Americans are able to take the boat by force, capture the Enigma and begin rounding up the prisoners, including the Captain. As the prisoners are transferred between ships and the scuttling charges are laid, Dahlgren, standing on the upper deck of the S-33, notices the sound of a detonation. He turns around in horror, to see a streak coming towards the S-33 underwater. The ship is torpedoed and sunk by the real German resupply sub. C.O. Dahlgren, wounded in the water, orders his men on the captured U-boat to submerge and save themselves.  Coonan, Larson and many others are lost, forcing Tyler to take command and dive the captured U-boat. There is a desperate scramble to disarm the charges they placed. With only Hirsch and Wentz able to read German, they struggle with interpreting the controls and then fire a salvo of torpedoes, destroying the enemy U-Boat, draining the last of the sub's batteries and spending all but the last torpedo, loaded in the malfunctioning aft torpedo tube. Surfacing, Tyler and his men search for survivors and find two: Eddie the cook from the S-33 and a German sailor claiming to be an electrician, but who is actually the Captain of U-571. After repairing one of the diesel engines, thus restoring power and propulsion, Tyler decides to take the disabled submarine to England. Some of the men disagree with Tyler's decision and Tyler replies with, \"I don't know\", to their questions. Chief Klough privately rebukes Tyler, saying, \"A Captain always knows what to do, whether he does or not.\" He also rebukes Mazzola in front of others for openly disagreeing with Tyler. They spot an aircraft, and Mazzola - against Tyler's orders - tries to convince Rabbit to fire on the plane with the deck gun, which appears to be coming in for an attack, but is only scouting for a German destroyer named the Anschluss. Tyler punches Mazzola for ignoring the Chain of Command and his stupidity. The captured German Captain breaks free, attacks Tank and kills Mazzola before being subdued. Unaware that the U-571 has been commandeered by Americans, the Anschluss sends over a small contingent to meet and greet their German comrades. Right before boarders arrive, Tyler has Rabbit fire a shot from the deck gun right into the ship's radio tower, preventing the destroyer from reporting that the Enigma code has been compromised, and dives underneath her. The destroyer begins to drop depth charges to try to sink U-571. Tyler plans to trick the destroyer into stopping by ejecting debris and Mazzola's corpse out of an empty torpedo tube, faking their own destruction. The younger men balk at using their crewman's body this way, but Tyler states that Mazzola is saving their lives. U-571 will then surface and hit the ship with their last torpedo. The German destroyer continues dropping depth charges. U-571, hiding at great depth below 200 meters, is damaged by the high water pressure. In preventing the submarine from sinking, control of the main ballast tanks are lost and the ship ascends uncontrollably. Tyler orders Trigger to submerse himself in the bilge underwater to repressurize the torpedo tubes. During the ascent, the German prisoner tries to warn the destroyer in Morse Code that they're not dead yet. Wentz translates the message in German, \"I am U-571. Destroy me!\" Enraged, Hirsch grabs a large wrench and kills the prisoner. Trigger manages to close the air valve for the tubes, but a second leak and valve are unexpectedly revealed, both behind a wall of pipes; Trigger's arm can't reach, and his air hose is too short. When Tank reports this, Tyler rushes to the engine room himself. Tyler tells him that they need him to do this and orders him to get the job done. U-571 surfaces without a torpedo to fire. The destroyer fires on the ship, which runs using its diesel engine, but takes heavy damage from the destroyer's deck guns and starts to flood. Trigger leaves behind the air hose and closes the second valve, but the damage causes pipes to collapse, trapping his leg, and he drowns. The second the pressure is available, Tyler orders Tank to fire the final torpedo. The German ship is destroyed; in front of everyone, Chief Klough tells Tyler that if he ever needs a Chief, he would gladly go to sea with him anytime. Tank reports Trigger's death while carrying out his order, but U-571 has taken severe damage and will not stay afloat for long. The crew abandons ship with the Enigma in tow, and watches it sink while mourning their lost crewmates and for the German sub, which ironically, saved their lives. Floating aboard an inflatable lifeboat, they are eventually spotted by a US Navy sea-plane.\n",
      "1202\n",
      "Recommendation movie Number 3 is: \n",
      "['The Flying Missile']\n",
      "It belongs in the following categories: \n",
      "['\"Drama\",  \"War film\"']\n",
      "The movie's plot is: \n",
      "Decorated submarine commander Commander William Talbot's  boat the USS Bluefin  is on manoeuvers with the goal of simulating sinking the aircraft carrier USS Midway. The Midway is carrying some politicians to view the test firing of a V-2 missile from its flight deck. Sighting the carrier, the Bluefin attempts a simulated torpedo attack but is detected and \"sunk\" by a depth charge attack from a destroyer. After viewing the successful launching of the V-2 from the surface, Talbot attempts to convince his commanding officer that if his submarine would have had a guided missile his attack on the carrier would have been successful. His commander relays the information that the Navy has been thinking of the same idea and sends the Bluefin to the Pacific Missile Test Center at Naval Air Station Point Mugu for a short period of training and familiarisation. On the way to the base the Bluefin ruins the fishing nets of Lars Hansen 's  fleet who fish the area when the Navy is not testing their missiles. The crew of the Bluefin are impatient with the training course they must do and attempt to speed things up and gather their own equipment through \"midnight supply\"  but run foul of the tight security on the base. Talbot meets and unsuccessfully attempts to seduce the base commander's secretary Karin Hansen, a Danish emigre who is the daughter of the still furious Captain Lars. Talbot does obtain information from Karin on the location of needed missile parts at an army base and obtains them for his boat. The unorthodox procedures used so well in wartime cause tragedy to the couple; Karin losing her job as the Admiral's secretary for revealing information and Talbot's haste in launching a missile from his boat's deck causing him serious injury and the death of his friend Quartermaster \"Fuss\" Payne . Talbot's depression leads him to not desiring to walk without braces and is within a hairs breadth of being medically discharged from the Navy. Karin snaps Talbot out of his whining self pity to take command of his boat during manoeuvers for a submarine flotilla to attack a surface fleet. Talbot gets the idea for the missile carrying submarines to launch their missiles but then have them successfully guided to the surface fleet by the nearer submarines originally earmarked for a torpedo attack.\n",
      "1962\n",
      "Recommendation movie Number 4 is: \n",
      "['Atout coeur à Tokyo pour OSS 117']\n",
      "It belongs in the following categories: \n",
      "['\"Crime Fiction\",  \"Thriller\",  \"Action\"']\n",
      "The movie's plot is: \n",
      "The film begins with a pre-credits sequence of Secret Agent OSS 117, Colonel Hubert Bonisseur de La Bath  chased by two cars containing enemy agents. OSS 117 manages to blow up both of the vehicles and escape by helicopter. He discovers that his unsuccessful assignment was to obtain information from an agent who had been killed providing information about a mysterious criminal organisation called \"The Organisation\". OSS 117's superior, Mr Smith briefs him that The Organisation has informed the U.S. State Department that they have a missile that can strike its target undetected and demand $100 Million Dollars as extortion to not use the weapon. As undeniable proof on their intentions and capabilities, they have destroyed an American military base somewhere in Asia presumably with a nuclear weapon. OSS 117 attends a briefing of American Defence Chiefs who view satellite footage of the destruction of the base that show an American F-107 in the vicinity that may have launched a missile that delivered the device that obliterated the installation. When the military personnel state that no F-107 was in the air or in the area at the time, OSS 117 speculates that it may have been a miniature replica of an F-107 that obliterated the base. Mr Smith tells OSS 117 that their man in Japan Mr Ralston has provided a report of miniature fighters being developed and to keep an eye on an American embassy employee named Eva Wilson . Ralston has vanished but OSS 117 arranges to meet Eva posing as her husband John Wilson who is in Washington. Eva says that she has been blackmailed due to her being drugged and being photographed in bed with a man who was not her husband. Eva provided radio codes of the American base that had been destroyed that allowed The Organisation's secret weapon to destroy the installation. OSS 117 places a covert listening device inside Eva's dress and arranges to monitor her when she meets her blackmail contact. He loses his reception with Eva when unknown to him Eva rips off her listening device. In attempting to follow her, OSS 117 ends up visiting a strip club, has a fight with a large martial arts expert and meets a Japanese bar girl. The latter two are agents of the Japanese Secret Service that team up with OSS 117 on the case. With no progress in the assignment, OSS 117 is told that the ransom will have to be paid, but he continues observing Eva on his own time. The real John Wilson  returns to Eva with OSS 117 following him to reveal that he is a member of The Organisation. Observing that Wilson and Eva going to sea on a small craft, he follows and observes the small craft from an airplane. He sees the craft enter the opening doors of a large cargo ship. OSS 117 parachutes into the water and climbs the side of the ship using a grappling hook mounted on a spear gun. On board he discovers a control room that sends the miniature fighters  to American military bases where due to their size they are undetected by radar. OSS 117 and Eva take on the Organisation....\n",
      "531\n",
      "Recommendation movie Number 5 is: \n",
      "['Navy SEALs']\n",
      "It belongs in the following categories: \n",
      "['\"Action/Adventure\",  \"Thriller\",  \"Action\",  \"War film\"']\n",
      "The movie's plot is: \n",
      "The , an aircraft carrier on station in the eastern Mediterranean Sea, receives a mayday from a cargo ship. The ship reports that they have been attacked, are on fire and adrift. A deployed Navy SH-3 helicopter attempts to rescue the crew, but is downed by a gunboat and the aircrew is captured. Meanwhile, a squad of Navy SEALs  are recovering from a bachelor party. Graham is to be married, but the wedding is canceled at the last minute when the whole Team is paged to return to base to rescue the captured aircrew. In the Mediterranean, the leader of the terrorists that shot at the Navy helicopter, Ben Shaheed, , orders the execution of the hostages. One crewmember is executed on the spot and another is beaten up, but the SEAL team arrives in time to prevent any further executions. Responding to a suspicious noise, Hawkins  breaks silence when he encounters Shaheed in an adjoining room, inadvertently alerting the terrorists. Shaheed claims to be an Egyptian sailor also being held by the terrorists, and is left by the SEALs. As the SEALs evacuate the hostages from the area, Hawkins and Graham stumble across a warehouse containing Stinger missiles. Hawkins attempts to return to the warehouse to destroy the missiles, only to be ordered by Curran  to proceed with extraction. On board an aircraft carrier later that night, the individual Team members are debriefed by Naval Intelligence. Curran's decision to leave the Stinger missiles behind is questioned, but Curran retorts that his primary mission was to rescue the aircrew and that Naval Intelligence did not do their job properly. It is also obvious that Hawkins is highly agitated by the mission and has trouble dealing with the emotional upheaval the mission provided. Curran tries to calm him down but is rebuffed by Hawkins. At the Pentagon, Shaheed is seen in a video interview. The Joint Chiefs of Staff identify Shaheed and his organization, the Al Shudadah. They also identify the interviewer as Claire Varrens , a journalist and author who is half Lebanese. Her questioning of Shaheed yields an admission that he and his group participated in the bombing of the Marine barracks in Lebanon in 1983. Shaheed admits the complicity freely, saying they only sought revenge for the bombing of their homes by Navy ships and warplanes. The Joint Chiefs are briefed on the recent mission and Curran requests permission to destroy the Stingers, but Navy Intelligence has learned they have already been relocated. The SEALs are ordered on R&R and enjoy a game of golf. Curran, brooding over the previous mission, reads a book authored by Varrens. During the golf outing, Graham convinces his fiancée  to try to finish the wedding again, regardless of the hazards of Graham's job. The team receives their orders for the next mission. Naval Intelligence has heard that the Stinger missiles are on board a merchant ship, the Latanya, off the coast of Syria. The SEALs deploy from a submerged submarine, the USS Nyack, and successfully board the ship, neutralizing two disguised gunmen, only to find out from an EOD team that the missiles are not on board after all. Frustrated by the recent unreliable intelligence, Curran solicits Claire Varrens's cooperation. Curran takes Claire on a tour of Navy SEAL training and attempts to woo the journalist over an elegant dinner. Claire is initially wary but opens up to Curran after learning that a Stinger has been used to shoot down a peace delegation in Lebanon. Claire provides pictures of men she has encountered who may possibly provide information that may lead the SEALs to the location of the missiles. While trying to identify possible contacts, Claire tells Curran and Hawkins that one of her contacts is missing, most likely having been kidnapped by the Israelis. Inspired by this, and an outburst by Hawkins, Curran presents the idea of kidnapping a potential informant to his superiors who subsequently recommend the proposal at a National Security Council meeting. A CIA executive at the meeting identifies one of the targets as a known CIA informant who could be co-opted if taken into custody. On that basis, the SEALs are authorized to bring him in. The SEALS infiltrate the area by performing a HALO jump and swimming to shore. Curran leads several of the team inside a house to secure the informant while Hawkins, Ramos, and Graham remain outside. When Ramos is pinned down by patrolling militia, Hawkins disobeys Curran's order to stay quiet and instigates a firefight. Although Hawkins finally succeeds in killing the militiamen, Graham is killed during the firefight. Curran reluctantly informs Graham's fiancée of his death, and a funeral with full military honors is held. After the wake, the men drown their sorrows at a pizza place/bar. Hawkins gives a toast to Graham for being the best friend a guy could have. Curran scolds Hawkins for \"toasting a man he put in the grave.\" He also scolds Hawkins for his high he gets from gun battles and how carless Hawkins is. Later, Claire arrives at Curran's houseboat to find a still grieving Curran. They walk on the boardwalk and Curran tells the woman about the mission, which leads to a night of intimacy. Curran quietly leaves the next morning with Claire in bed. The SEALs are deployed to Beirut, this time to meet a local resistance fighter who will guide them to the building containing the Stingers. Although Dane  is killed while attempting to set up a sniping overwatch position, the SEALs do locate the Stingers in an old school building in a heavily-bombed area of the city. Curran leads Leary  and Rexer  inside the building to destroy the missiles while Hawkins and Ramos maintain overwatch outside. Hawkins shoots a local gunman questioning him, alerting the terrorists. Leaving the building, Curran gets shot in the abdomen and thigh. Curran is pinned down near the building door and orders Hawkins to destroy the building regardless of Curran's being in the blast radius. Hawkins disobeys the order and rescues Curran while the other SEALs provide suppressing fire before the building is finally destroyed. The SEALs commandeer a car and attempt to exfiltrate from the city while evading pursuit by an enemy BTR-152 with a machine gun. The automobile is eventually hit by gunfire and Rexer killed by a stray bullet to the head. Leary, using a recovered Stinger missile launcher, manages to destroy the APC, and the four remaining SEALs escape to the beach. Shaheed steals a boat from a pier-side fisherman and follows the SEALs across the water. He spots the body of Curran floating in the sea. As he attempts to pull the body from the water he is attacked by the SEALs and, in an underwater fight, Hawkins kills Shaheed. The other SEALs take out the remaining topside terrorists and destroy the small boat. With the mission finally accomplished, the designated exfiltration submarine surfaces, recovering the SEALs.\n"
     ]
    }
   ],
   "source": [
    "content_recommender(4082, 5)"
   ]
  },
  {
   "cell_type": "markdown",
   "metadata": {
    "_uuid": "7d2121251e044f0890f4585edf05dc1971913eca",
    "colab_type": "text",
    "id": "DCRu7xo8u3jj"
   },
   "source": [
    "# Βελτιστοποίηση\n",
    "\n",
    "Στο σύστημα που υλοποιήσαμε αρχικός στόχος ήταν να μικρύνουμε σημαντικά τον αριθμό των features. Για τον λόγο αυτό κάναμε χρήση των παραμέτρων της **fit_transform()** min_df, max_df και stop_words: \n",
    "* min_df: Ορίζει ένα κατώφλι εμφάνισης λέξεων, κάτω απ' το οποίο μια λέξη \"κόβεται\" απ' το λεξικό. Θέσαμε αρχικά την τιμή αυτή 2 και προοδευτικά είδαμε πως μέχρι την τιμή 5, η ποιότητα των συστάσεων ταινιών παραμένει σταθερή, ενώ η ποσότητα των features μειώνεται σημαντικά, γεγονός που είναι λογικό, καθώς σε ένα τόσο μεγάλο corpus τα ορθογραφικά και τυπογραφικά λάθη είναι συνηθισμένα. Χαρακτηριστικά να αναφέρουμε πως απ' την τιμή 1 (default) στην τιμή 3 του min_df, σημειώθηκε μείωση της τάξης των 15k features. \n",
    "* max_df: Ορίζει ένα ανώφλι εμφάνισης λέξεων, πάνω απ' το οποίο μια λέξη κόβεται απ' το λεξικό. Μέσω αυτής της παραμέτρου προσπαθήσαμε να κάνουμε μια λεπτομερή ανάλυση στα κειμενά μας, δηλαδή να αγνοήσουμε τις λέξεις που έχουν μεγάλη συχνότητα εμφάνισης για καλύτερη σημασιολογική αναπαράσταση της κάθε ταινίας (corpus specific stop words). Λίγες δοκιμές έδειξαν πως μια τιμή γύρω στο 0.7 φαίνεται να βελτιώνει τις προτάσεις ταινιών, αφού απορρίπτει συνδετικές λέξεις, λέξεις συχνές στην περιγραφή μιας ταινίας (πχ \"plot\", \"character\", \"film\"), ενώ δεν απορρίπτει πλήρως κάποιες λέξεις που ναι μεν έχουν συχνή εμφάνιση, αλλά πιθανώς να φέρουν κάποια πληροφορία για τον σημασιολογικό διαχωρισμό δύο ταινιών (πχ \"kills\", \"marry\", \"boyfriend\"), αφήνοντας έτσι την td_idf αναπαράσταση να \"τιμωρήσει\" τις λέξεις αυτές με μικρά, αλλά όχι μηδενικά βάρη.\n",
    "* stop_words: Δεδομένου του max_df και των προβλημάτων που φαίνεται να περιέχουν τα predefined stop words της αγγλικής γλώσσας (βλ. documentation του tdidf vectorizer), επιλέξαμε τα stop words μας να αποτελούνται απ' τα 2000 πιο συνηθισμένα μικρά αγγλικά ονόματα (σύμφωνα με την [βάση](https://data.world/len/us-first-names-database) δεδομένων που επιλέξαμε). Κίνητρο για την επιλογή αυτή ήταν η παρατήρηση στο αρχικό στάδιο της βελτιστοποιήσης του recommender μας πως συνέδεε σημασιολογικά ταινίες που τύχαινε να έχουν ίδιο όνομα πρωταγωνιστή-χαρακτήρα, το οποίο εμφανιζόταν συχνά χώρις άλλη θεματική που να τις ενώνει. Σύμφωνα με την κρίση μας, το όνομα των χαρακτήρων σε μια ταινία δεν φέρει πληροφορία, παρά μόνο αν το όνομα αυτό είναι ιδιαίτερο σπάνιο που μπορεί να υποδηλώνει ανίχνευση ενός sequel μια ταινίας ή ιστορικό πρόσωπο (πχ. \"Cleopatra\"). Για τον λόγο αυτό περιορίσαμε τον αριθμό των ονομάτων που θεωρήσαμε ως stop words.\n",
    "\n",
    "Τέλος, προτού να εισάγουμε το corpus στον vectorizer, πραγματοποιήσαμε stemming της κάθε λέξης μέσω του SnowballStemmer και ταυτόχρονα αφαίρεση του punctuation των λέξεων. Προσπαθήσαμε μέσω αυτού να συνδέσουμε με ένα feature πολλαπλές εμφανίσεις της ίδια έννοιας, που όμως διέφεραν μορφολογικά (πχ \"play\", \"playing\", \"player\") και ταυτόχρονα να επιτύχουμε και μείωση των features. Φαίνεται να επιτύχαμε και στα 2, μιας οι συστάσεις βελτιώθηκαν και τα features μειώθηκαν κατά 5k περίπου. Σημείωση: To stemming και η αφαίρεση της στίξης έγινε εξωτερικά του vectorizer (παρ' όλο που προσφέρει την δυνατότητα να πάρει όρισμα μία user-defined συνάρτηση που τα πραγματοποιεί αυτά), ώστε να μην γίνεται κάθε φορά που αλλάζουμε τις υπόλοιπες παραμέτρους και να γλυτώνουμε χρόνο κατά την βελτιστοποίηση του recommender μας."
   ]
  },
  {
   "cell_type": "markdown",
   "metadata": {
    "_uuid": "6b646b09d12e566e7cca56f0ec5baaac2298d133",
    "colab_type": "text",
    "id": "4irg4K-IPSym"
   },
   "source": [
    "## Tip: persistence αντικειμένων με joblib.dump\n",
    "\n",
    "H βιβλιοθήκη [joblib](https://pypi.python.org/pypi/joblib) της Python δίνει κάποιες εξαιρετικά χρήσιμες ιδιότητες στην ανάπτυξη κώδικα: pipelining, παραλληλισμό, caching και variable persistence. Τις τρεις πρώτες ιδιότητες τις είδαμε στην πρώτη άσκηση. Στην παρούσα άσκηση θα μας φανεί χρήσιμη η τέταρτη, το persistence των αντικειμένων. Συγκεκριμένα μπορούμε με:\n",
    "\n",
    "```python\n",
    "from sklearn.externals import joblib  \n",
    "joblib.dump(my_object, 'my_object.pkl') \n",
    "```\n",
    "\n",
    "να αποθηκεύσουμε οποιοδήποτε αντικείμενο-μεταβλητή (εδώ το `my_object`) απευθείας πάνω στο filesystem ως αρχείο, το οποίο στη συνέχεια μπορούμε να ανακαλέσουμε ως εξής:\n",
    "\n",
    "```python\n",
    "my_object = joblib.load('my_object.pkl')\n",
    "```\n",
    "\n",
    "Μπορούμε έτσι να ανακαλέσουμε μεταβλητές ακόμα και αφού κλείσουμε και ξανανοίξουμε το notebook, χωρίς να χρειαστεί να ακολουθήσουμε ξανά όλα τα βήματα ένα - ένα για την παραγωγή τους, κάτι ιδιαίτερα χρήσιμο αν αυτή η διαδικασία είναι χρονοβόρα. Προσοχή: αυτό ισχύει μόνο στα Azure και Kaggle, στο Colab και στο IBM τα αρχεία εξαφανίζονται όταν ανακυκλώνεται ο πυρήνας και θα πρέπει να τα αποθηκεύετε τοπικά. Περισσότερα στο [FAQ](https://docs.google.com/document/d/1jL4gRag_LHbVCYIt5XVJ53iJPb6RZWi02rT5mPXiqEU/edit?usp=sharing).\n",
    "\n",
    "Ας αποθηκεύσουμε το `corpus_tf_idf` και στη συνέχεια ας το ανακαλέσουμε."
   ]
  },
  {
   "cell_type": "code",
   "execution_count": 0,
   "metadata": {
    "_uuid": "cc3b287f33d382645e4509e20316fc0a83120aa9",
    "colab": {
     "base_uri": "https://localhost:8080/",
     "height": 34
    },
    "colab_type": "code",
    "collapsed": false,
    "id": "aESOPYQaPSyo",
    "outputId": "ceb12630-7451-478f-c6be-e54bdb79b89a",
    "scrolled": true
   },
   "outputs": [
    {
     "data": {
      "text/plain": [
       "['corpus_tf_idf.pkl']"
      ]
     },
     "execution_count": 125,
     "metadata": {
      "tags": []
     },
     "output_type": "execute_result"
    }
   ],
   "source": [
    "from sklearn.externals import joblib\n",
    "joblib.dump(corpus_tf_idf, 'corpus_tf_idf.pkl') "
   ]
  },
  {
   "cell_type": "markdown",
   "metadata": {
    "_uuid": "f235c37a947a7b6a90010206526a700234cf44dc",
    "colab_type": "text",
    "id": "7_rAEj5ZPSy1"
   },
   "source": [
    "\n",
    "\n",
    "Μπορείτε με ένα απλό `!ls` να δείτε ότι το αρχείο `corpus_tf_idf.pkl` υπάρχει στο filesystem σας (== persistence):"
   ]
  },
  {
   "cell_type": "code",
   "execution_count": 0,
   "metadata": {
    "_uuid": "59546aa458cc40844300b6be8ecf4b119ed5f71b",
    "colab": {
     "base_uri": "https://localhost:8080/",
     "height": 85
    },
    "colab_type": "code",
    "collapsed": false,
    "id": "ZhwXmTEIPSy3",
    "outputId": "c8cb2cd8-a22c-41eb-f9b8-0f208e9bfeb5",
    "scrolled": true
   },
   "outputs": [
    {
     "name": "stdout",
     "output_type": "stream",
     "text": [
      "total 192M\r\n",
      "-rw-r--r-- 1 root root  199 Jan 17 22:07 __notebook_source__.ipynb\r\n",
      "-rw-r--r-- 1 root root 7.3M Jan 18 00:36 corpus_tf_idf.pkl\r\n",
      "-rw-r--r-- 1 root root 185M Jan 18 00:49 som.pkl\r\n"
     ]
    }
   ],
   "source": [
    "!ls -lh"
   ]
  },
  {
   "cell_type": "markdown",
   "metadata": {
    "_uuid": "f0f7de23cb90bd472cd801f520816f4961f61496",
    "colab_type": "text",
    "id": "cey5AbkO475S"
   },
   "source": [
    "και μπορούμε να τα διαβάσουμε με `joblib.load`"
   ]
  },
  {
   "cell_type": "code",
   "execution_count": 0,
   "metadata": {
    "_uuid": "1945ca2fb718c9aca0745de3b011243b6c1562be",
    "colab": {},
    "colab_type": "code",
    "collapsed": true,
    "id": "DSJPTKY8PSyu"
   },
   "outputs": [],
   "source": [
    "corpus_tf_idf = joblib.load('corpus_tf_idf.pkl')"
   ]
  },
  {
   "cell_type": "markdown",
   "metadata": {
    "_uuid": "4c270f96ecc8973e9b08de46a457043167bc19b4",
    "colab_type": "text",
    "id": "zHOQtO83PSy9"
   },
   "source": [
    "# Εφαρμογή 2.  Σημασιολογική απεικόνιση της συλλογής ταινιών με χρήση SOM\n",
    "<img src=\"http://visual-memory.co.uk/daniel/Documents/intgenre/Images/film-genres.jpg\" width=\"35%\">"
   ]
  },
  {
   "cell_type": "markdown",
   "metadata": {
    "_uuid": "030a2f40ddb947df6f0de0e4d9986c4b95a1d155",
    "colab_type": "text",
    "id": "UB_clmizPSy-"
   },
   "source": [
    "## Δημιουργία dataset\n",
    "Στη δεύτερη εφαρμογή θα βασιστούμε στις τοπολογικές ιδιότητες των Self Organizing Maps (SOM) για να φτιάξουμε ενά χάρτη (grid) δύο διαστάσεων όπου θα απεικονίζονται όλες οι ταινίες της συλλογής της ομάδας με τρόπο χωρικά συνεκτικό ως προς το περιεχόμενο και κυρίως το είδος τους. \n",
    "\n",
    "Η `build_final_set` αρχικά μετατρέπει την αραιή αναπαράσταση tf-idf της εξόδου της `TfidfVectorizer()` σε πυκνή (η [αραιή αναπαράσταση](https://en.wikipedia.org/wiki/Sparse_matrix) έχει τιμές μόνο για τα μη μηδενικά στοιχεία). \n",
    "\n",
    "Στη συνέχεια ενώνει την πυκνή `dense_tf_idf` αναπαράσταση και τις binarized κατηγορίες `catbins` των ταινιών ως επιπλέον στήλες (χαρακτηριστικά). Συνεπώς, κάθε ταινία αναπαρίσταται στο Vector Space Model από τα χαρακτηριστικά του TFIDF και τις κατηγορίες της.\n",
    "\n",
    "Τέλος, δέχεται ένα ορισμα για το πόσες ταινίες να επιστρέψει, με default τιμή όλες τις ταινίες (5000). Αυτό είναι χρήσιμο για να μπορείτε αν θέλετε να φτιάχνετε μικρότερα σύνολα δεδομένων ώστε να εκπαιδεύεται ταχύτερα το SOM.\n",
    "\n",
    "Σημειώστε ότι το IBM Watson δείνει \"Kernel dead\" εάν δεν έχετε βελτιστοποιήσει το tfidf και μικρύνει τις διαστάσεις του dataset (πιθανότατα κάποια υπέρβαση μνήμης)."
   ]
  },
  {
   "cell_type": "code",
   "execution_count": 0,
   "metadata": {
    "_uuid": "26a578a06ae3484dea45d19f33864e6f0fbbb27d",
    "colab": {},
    "colab_type": "code",
    "collapsed": true,
    "id": "U-FDDOkQPSzA"
   },
   "outputs": [],
   "source": [
    "def build_final_set(doc_limit = 5000, tf_idf_only=False):\n",
    "    # convert sparse tf_idf to dense tf_idf representation\n",
    "    dense_tf_idf = corpus_tf_idf.toarray()[0:doc_limit,:]\n",
    "    if tf_idf_only:\n",
    "        # use only tf_idf\n",
    "        final_set = dense_tf_idf\n",
    "    else:\n",
    "        # append the binary categories features horizontaly to the (dense) tf_idf features\n",
    "        final_set = np.hstack((dense_tf_idf, catbins[0:doc_limit,:]))\n",
    "        # η somoclu θέλει δεδομ΄ένα σε float32\n",
    "    return np.array(final_set, dtype=np.float32)"
   ]
  },
  {
   "cell_type": "code",
   "execution_count": 0,
   "metadata": {
    "_uuid": "e6db2ec30eb00597ca19f782fac83522774fa31f",
    "colab": {},
    "colab_type": "code",
    "collapsed": true,
    "id": "aF1B62UbPSzF"
   },
   "outputs": [],
   "source": [
    "final_set = build_final_set()"
   ]
  },
  {
   "cell_type": "markdown",
   "metadata": {
    "_uuid": "8fd98dbcea09237f3e1bd556264a9ed876c76c23",
    "colab_type": "text",
    "id": "KjvPPENS_dYL"
   },
   "source": [
    "Τυπώνουμε τις διαστάσεις του τελικού dataset μας. Χωρίς βελτιστοποίηση του TFIDF θα έχουμε περίπου 50.000 χαρακτηριστικά."
   ]
  },
  {
   "cell_type": "code",
   "execution_count": 0,
   "metadata": {
    "_uuid": "84a2c2229a1239960404d935063599782f32b2cf",
    "colab": {
     "base_uri": "https://localhost:8080/",
     "height": 34
    },
    "colab_type": "code",
    "collapsed": false,
    "id": "fvEgNn-L-jEw",
    "outputId": "69eb28ea-058c-4acf-96da-a81362b36940"
   },
   "outputs": [
    {
     "data": {
      "text/plain": [
       "(5000, 9245)"
      ]
     },
     "execution_count": 220,
     "metadata": {
      "tags": []
     },
     "output_type": "execute_result"
    }
   ],
   "source": [
    "final_set.shape"
   ]
  },
  {
   "cell_type": "markdown",
   "metadata": {
    "_uuid": "465bc862b1db5d5a698cd0dcb110e318c697d249",
    "colab_type": "text",
    "id": "Om7PoyDVCqis"
   },
   "source": [
    "Με βάση την εμπειρία σας στην προετοιμασί των δεδομένων στην επιβλεπόμενη μάθηση, υπάρχει κάποιο βήμα προεπεξεργασίας που θα μπορούσε να εφαρμοστεί σε αυτό το dataset; "
   ]
  },
  {
   "cell_type": "markdown",
   "metadata": {
    "_uuid": "6f780200033ce4fc4132457512f66241157d84cc",
    "colab_type": "text",
    "id": "FnwBidQUu3kN"
   },
   "source": [
    "**Απάντηση**: Ο μεγάλος αριθμός των features πιθανώς μας παραπέμπει σε έναν μετασχηματισμό για μείωση της διάστασης (πχ. PCA, SVD, KLT κτλπ), ωστόσο αφενός η διαδικασία που θα ακολουθήσουμε στην συνέχεια αποτελεί μια γενικευμένη, μη γραμμική έκδοση της PCA [[1]](https://www.researchgate.net/publication/271642170_Principal_Manifolds_for_Data_Visualisation_and_Dimension_Reduction_LNCSE_58), αφετέρου φροντίζουμε, μέσω της δυνατότητας που μας παρέχει το somoclu, να αρχικοποιήσουμε τον χάρτη στις 2 πρωτεύουσες συνιστώσες των δεδομένων. Επίσης σκεφτήκαμε πως η προσαρμογή της κατανομής του κάθε feature σε μία κανονική κατανομή $N(0,1)$ να βελτίωνε την σημασιολογική ενοποίηση των δεδομένων, ωστόσο λίγα πειράματα που τρέξαμε σε αύτα τα δεδομένα δεν είχαν κάποιο αξιόπιστο αποτέλεσμα, όπως φαίνεται στο παρακάτω ενδεικτικό στιγμιότυπο ενός SOM που έχει γίνει train με τέτοια δεδομένα.\n",
    "\n",
    "<img src=\"https://i.ibb.co/PCdw3dM/49997391-982790941914914-7065123822126497792-n.png\" width=\"45%\">"
   ]
  },
  {
   "cell_type": "markdown",
   "metadata": {
    "_uuid": "4ddc0bb1e4d452a36e981de445ff4c45e9a7deac",
    "colab_type": "text",
    "id": "8tikdip0PSzQ"
   },
   "source": [
    "## Εκπαίδευση χάρτη SOM\n",
    "\n",
    "Θα δουλέψουμε με τη βιβλιοθήκη SOM [\"Somoclu\"](http://somoclu.readthedocs.io/en/stable/index.html). Εισάγουμε τις somoclu και matplotlib και λέμε στη matplotlib να τυπώνει εντός του notebook (κι όχι σε pop up window)."
   ]
  },
  {
   "cell_type": "code",
   "execution_count": 0,
   "metadata": {
    "_uuid": "56ad2d0efafa848d4b4c44fa416e9ba2f5eba4b7",
    "colab": {
     "base_uri": "https://localhost:8080/",
     "height": 323
    },
    "colab_type": "code",
    "collapsed": false,
    "id": "oX9rzxGSPSzR",
    "outputId": "4ba92601-9ea5-430b-8e32-9d52db1bcf79"
   },
   "outputs": [
    {
     "name": "stdout",
     "output_type": "stream",
     "text": [
      "Requirement already up-to-date: somoclu in /opt/conda/lib/python3.6/site-packages (1.7.5)\r\n",
      "Requirement already satisfied, skipping upgrade: scipy in /opt/conda/lib/python3.6/site-packages (from somoclu) (1.1.0)\r\n",
      "Requirement already satisfied, skipping upgrade: numpy in /opt/conda/lib/python3.6/site-packages (from somoclu) (1.16.0)\r\n",
      "Requirement already satisfied, skipping upgrade: matplotlib in /opt/conda/lib/python3.6/site-packages (from somoclu) (2.2.3)\r\n",
      "Requirement already satisfied, skipping upgrade: cycler>=0.10 in /opt/conda/lib/python3.6/site-packages (from matplotlib->somoclu) (0.10.0)\r\n",
      "Requirement already satisfied, skipping upgrade: six>=1.10 in /opt/conda/lib/python3.6/site-packages (from matplotlib->somoclu) (1.12.0)\r\n",
      "Requirement already satisfied, skipping upgrade: kiwisolver>=1.0.1 in /opt/conda/lib/python3.6/site-packages (from matplotlib->somoclu) (1.0.1)\r\n",
      "Requirement already satisfied, skipping upgrade: pytz in /opt/conda/lib/python3.6/site-packages (from matplotlib->somoclu) (2018.4)\r\n",
      "Requirement already satisfied, skipping upgrade: pyparsing!=2.0.4,!=2.1.2,!=2.1.6,>=2.0.1 in /opt/conda/lib/python3.6/site-packages (from matplotlib->somoclu) (2.2.0)\r\n",
      "Requirement already satisfied, skipping upgrade: python-dateutil>=2.1 in /opt/conda/lib/python3.6/site-packages (from matplotlib->somoclu) (2.6.0)\r\n",
      "Requirement already satisfied, skipping upgrade: setuptools in /opt/conda/lib/python3.6/site-packages (from kiwisolver>=1.0.1->matplotlib->somoclu) (39.1.0)\r\n"
     ]
    }
   ],
   "source": [
    "# install somoclu\n",
    "!pip install --upgrade somoclu\n",
    "# import sompoclu, matplotlib\n",
    "import somoclu\n",
    "import matplotlib\n",
    "# we will plot inside the notebook and not in separate window\n",
    "%matplotlib inline"
   ]
  },
  {
   "cell_type": "markdown",
   "metadata": {
    "_uuid": "a812f697195548408cc7a0b97373ccb712ddf6b0",
    "colab_type": "text",
    "id": "EqBfn0ijPSzX"
   },
   "source": [
    "Καταρχάς διαβάστε το [function reference](http://somoclu.readthedocs.io/en/stable/reference.html) του somoclu. Θα δoυλέψουμε με χάρτη τύπου planar, παραλληλόγραμμου σχήματος νευρώνων με τυχαία αρχικοποίηση (όλα αυτά είναι default). Μπορείτε να δοκιμάσετε διάφορα μεγέθη χάρτη ωστόσο όσο ο αριθμός των νευρώνων μεγαλώνει, μεγαλώνει και ο χρόνος εκπαίδευσης. Για το training δεν χρειάζεται να ξεπεράσετε τα 100 epochs. Σε γενικές γραμμές μπορούμε να βασιστούμε στις default παραμέτρους μέχρι να έχουμε τη δυνατότητα να οπτικοποιήσουμε και να αναλύσουμε ποιοτικά τα αποτελέσματα. Ξεκινήστε με ένα χάρτη 10 x 10, 100 epochs training και ένα υποσύνολο των ταινιών (π.χ. 2000). Χρησιμοποιήστε την `time` για να έχετε μια εικόνα των χρόνων εκπαίδευσης. Ενδεικτικά, με σωστή κωδικοποίηση tf-idf, μικροί χάρτες για λίγα δεδομένα (1000-2000) παίρνουν γύρω στο ένα λεπτό ενώ μεγαλύτεροι χάρτες με όλα τα δεδομένα μπορούν να πάρουν 10-15 λεπτά ή και περισσότερο.\n"
   ]
  },
  {
   "cell_type": "code",
   "execution_count": 0,
   "metadata": {
    "_uuid": "aabb6722685a2292630ca1a687493c191163405c",
    "colab": {
     "base_uri": "https://localhost:8080/",
     "height": 860
    },
    "colab_type": "code",
    "collapsed": false,
    "id": "zZCjMxkVvHDz",
    "outputId": "b65ee16f-7597-4bcd-c1b5-f43ea362524c"
   },
   "outputs": [
    {
     "name": "stdout",
     "output_type": "stream",
     "text": [
      "CPU times: user 43min 5s, sys: 3.1 s, total: 43min 8s\n",
      "Wall time: 11min 7s\n"
     ]
    }
   ],
   "source": [
    "n_rows, n_columns = 15, 15 #we increased the number of neurons to 125=15x15\n",
    "som = somoclu.Somoclu(n_columns, n_rows, compactsupport=False, initialization=\"pca\")\n",
    "%time som.train(final_set, epochs=100)"
   ]
  },
  {
   "cell_type": "markdown",
   "metadata": {
    "_uuid": "b963fe17fb6c96cc93a5aca2ad9be39c2e87cbd2",
    "colab_type": "text",
    "id": "yWo9wBrau3kh"
   },
   "source": [
    "## Σχολιασμός επιλογών εκπαίδευσης \n",
    "Στα διαφορετικά πειράματα που κάναμε αλλάξαμε τον αριθμό των νευρώνων, την αρχικοποίηση του χάρτη, το είδος της γεωμετρίας του χάρτη (planar vs toroid) και την γεωμετρία του grid (rectangular vs hexagonal). Παρατηρήσαμε τα εξής:\n",
    "* Αύξηση του αριθμού των νευρώνων πάνω από 20x20 δεν φαίνεται να δούλευε σωστά (φροντίζαμε βέβαια να προσαρμόζουμε κατάλληλα το k του k-means), γι' αυτό και κρατήσαμε το 15x15, που έκανε καλύτερο διαχωρισμό των κατηγοριών.\n",
    "* Παρατηρήσαμε μεγαλύτερα και πιο συμπαγή clusters με αρχικοποιήση του χάρτη με τις 2 πρώτες πρωτεύουσες συνιστώσες, παρά με την τυχαία αρχικοποίηση, παρ' όλο που στην βιβλιογραφία αναφέρετε πως για μη γραμμικά διαχωρίσιμα δεδομένα (όπως, υποθέτουμε με αρκετή βεβαιότητα, είναι το δικό μας) η τυχαία αρχικοποίηση δουλεύει καλύτερα [[2]](https://www.researchgate.net/publication/283768202_SOM_Stochastic_initialization_versus_principal_components).\n",
    "* Η αλλαγή του χάρτη σε τόρο, ενώ περιμέναμε να συσχετίσει καλύτερα τα δεδομένα, αφού πλεόν το κάθε σημείο αποκτά περισσότερους γείτονες, στην πραγματικότητα παρείχε χειρότερα clusters.  Μια πιθανής εξήγηση φαίνεται να' ναι πως το SOM θεωρεί αρκετές κατηγορίες , αρκετά απομακρυσμένες μεταξύ τους (πχ \"Horror\"-\"Comedy\", \"Family\"-\"Thriller/Crime\"), με αποτέλεσμα μια τοροειδής γεωμετρία να αδυναμεί να τα διαχωρίσει σε ικανοποιητικό βαθμό.\n",
    "* Τέλος, δοκιμάσαμε και εξαγωνικούς χάρτες, οι οποίοι για άγνωστο σε μας λόγο, μπέρδευαν αρκετές κατηγορίες μεταξύ τους.\n",
    "\n",
    "Τελικά, κρατήσαμε 15x15 νευρώνες και PCA αρχικοποίηση."
   ]
  },
  {
   "cell_type": "markdown",
   "metadata": {
    "_uuid": "80dc2dc7c3c9e43d919beefc2ffa91d791efbe7f",
    "colab_type": "text",
    "id": "ntd2GE9SaHiS"
   },
   "source": [
    "\n",
    "## Best matching units\n",
    "\n",
    "Μετά από κάθε εκπαίδευση αποθηκεύστε σε μια μεταβλητή τα best matching units (bmus) για κάθε ταινία. Τα bmus μας δείχνουν σε ποιο νευρώνα ανήκει η κάθε ταινία. Προσοχή: η σύμβαση των συντεταγμένων των νευρώνων είναι (στήλη, γραμμή) δηλαδή το ανάποδο από την Python. Με χρήση της [np.unique](https://docs.scipy.org/doc/numpy-1.13.0/reference/generated/numpy.unique.html) (μια πολύ χρήσιμη συνάρτηση στην άσκηση) αποθηκεύστε τα μοναδικά best matching units και τους δείκτες τους (indices) προς τις ταινίες. Σημειώστε ότι μπορεί να έχετε λιγότερα μοναδικά bmus από αριθμό νευρώνων γιατί μπορεί σε κάποιους νευρώνες να μην έχουν ανατεθεί ταινίες. Ως αριθμό νευρώνα θα θεωρήσουμε τον αριθμό γραμμής στον πίνακα μοναδικών bmus.\n"
   ]
  },
  {
   "cell_type": "code",
   "execution_count": 0,
   "metadata": {
    "_uuid": "0b953993d04696e41721cd2bd6644215d4b78079",
    "colab": {},
    "colab_type": "code",
    "collapsed": false,
    "id": "XeLvpCmaVQsc",
    "outputId": "c1a537df-9597-468c-f4ef-d3b8ca4efcbd"
   },
   "outputs": [
    {
     "name": "stdout",
     "output_type": "stream",
     "text": [
      "(5000, 2)\n",
      "[[ 7  5]\n",
      " [ 1  0]\n",
      " [ 3 14]\n",
      " ...\n",
      " [13 10]\n",
      " [ 9  3]\n",
      " [ 6  5]]\n",
      "(199, 2)\n",
      "(5000,)\n"
     ]
    }
   ],
   "source": [
    "bmus = som.bmus\n",
    "print(bmus.shape)\n",
    "print(bmus)\n",
    "\n",
    "ubmus, indices = np.unique(bmus, return_inverse=True, axis=0)\n",
    "print(ubmus.shape)\n",
    "print(indices.shape)"
   ]
  },
  {
   "cell_type": "markdown",
   "metadata": {
    "_uuid": "790dbae9f4e59ebf173d5560be47011dbc6144b5",
    "colab_type": "text",
    "id": "grzqcyHyaKdg"
   },
   "source": [
    "\n",
    "## Ομαδοποίηση (clustering)\n",
    "\n",
    "Τυπικά, η ομαδοποίηση σε ένα χάρτη SOM προκύπτει από το unified distance matrix (U-matrix): για κάθε κόμβο υπολογίζεται η μέση απόστασή του από τους γειτονικούς κόμβους. Εάν χρησιμοποιηθεί μπλε χρώμα στις περιοχές του χάρτη όπου η τιμή αυτή είναι χαμηλή (μικρή απόσταση) και κόκκινο εκεί που η τιμή είναι υψηλή (μεγάλη απόσταση), τότε μπορούμε να πούμε ότι οι μπλε περιοχές αποτελούν clusters και οι κόκκινες αποτελούν σύνορα μεταξύ clusters.\n",
    "\n",
    "To somoclu δίνει την επιπρόσθετη δυνατότητα να κάνουμε ομαδοποίηση των νευρώνων χρησιμοποιώντας οποιονδήποτε αλγόριθμο ομαδοποίησης του scikit-learn. Στην άσκηση θα χρησιμοποιήσουμε τον k-Means. Για τον αρχικό σας χάρτη δοκιμάστε ένα k=20 ή 25. Οι δύο προσεγγίσεις ομαδοποίησης είναι διαφορετικές, οπότε περιμένουμε τα αποτελέσματα να είναι κοντά αλλά όχι τα ίδια.\n"
   ]
  },
  {
   "cell_type": "code",
   "execution_count": 0,
   "metadata": {
    "_uuid": "42d8b43810a13407ee22fa79b0d81a11c85abd10",
    "colab": {},
    "colab_type": "code",
    "collapsed": true,
    "id": "ZfCunwc6FwMh"
   },
   "outputs": [],
   "source": [
    "from sklearn.cluster import KMeans\n",
    "algorithm = KMeans(n_clusters=45)\n",
    "som.cluster(algorithm=algorithm)"
   ]
  },
  {
   "cell_type": "markdown",
   "metadata": {
    "_uuid": "0dd18f6096310cc9fe3fddd292110b69c3b76ec8",
    "colab_type": "text",
    "id": "2nupuqcuaMe3"
   },
   "source": [
    "\n",
    "## Αποθήκευση του SOM\n",
    "\n",
    "Επειδή η αρχικοποίηση του SOM γίνεται τυχαία και το clustering είναι και αυτό στοχαστική διαδικασία, οι θέσεις και οι ετικέτες των νευρώνων και των clusters θα είναι διαφορετικές κάθε φορά που τρέχετε τον χάρτη, ακόμα και με τις ίδιες παραμέτρους. Για να αποθηκεύσετε ένα συγκεκριμένο som και clustering χρησιμοποιήστε και πάλι την `joblib`. Μετά την ανάκληση ενός SOM θυμηθείτε να ακολουθήσετε τη διαδικασία για τα bmus.\n"
   ]
  },
  {
   "cell_type": "markdown",
   "metadata": {
    "_uuid": "dcf061999351897a4dde77164351d63ce0c25cfb",
    "colab_type": "text",
    "id": "ejX0Qs18aRHU"
   },
   "source": [
    "\n",
    "## Οπτικοποίηση U-matrix, clustering και μέγεθος clusters\n",
    "\n",
    "Για την εκτύπωση του U-matrix χρησιμοποιήστε τη `view_umatrix` με ορίσματα `bestmatches=True` και `figsize=(15, 15)` ή `figsize=(20, 20)`. Τα διαφορετικά χρώματα που εμφανίζονται στους κόμβους αντιπροσωπεύουν τα διαφορετικά clusters που προκύπτουν από τον k-Means. Μπορείτε να εμφανίσετε τη λεζάντα του U-matrix με το όρισμα `colorbar`. Μην τυπώνετε τις ετικέτες (labels) των δειγμάτων, είναι πολύ μεγάλος ο αριθμός τους.\n",
    "\n",
    "Για μια δεύτερη πιο ξεκάθαρη οπτικοποίηση του clustering τυπώστε απευθείας τη μεταβλητή `clusters`.\n",
    "\n",
    "Τέλος, χρησιμοποιώντας πάλι την `np.unique` (με διαφορετικό όρισμα) και την `np.argsort` (υπάρχουν και άλλοι τρόποι υλοποίησης) εκτυπώστε τις ετικέτες των clusters (αριθμοί από 0 έως k-1) και τον αριθμό των νευρώνων σε κάθε cluster, με φθίνουσα ή αύξουσα σειρά ως προς τον αριθμό των νευρώνων. Ουσιαστικά είναι ένα εργαλείο για να βρίσκετε εύκολα τα μεγάλα και μικρά clusters. \n",
    "\n",
    "[//]: # (Ακολουθεί ένα μη βελτιστοποιημένο παράδειγμα για τις τρεις προηγούμενες εξόδους:)\n",
    "\n",
    "[//]: # (<img src=\"https://image.ibb.co/i0tsfR/umatrix_s.jpg\" width=\"35%\">)\n",
    "[//]: # (<img src=\"https://image.ibb.co/nLgHEm/clusters.png\" width=\"35%\">)\n",
    "\n"
   ]
  },
  {
   "cell_type": "code",
   "execution_count": 0,
   "metadata": {
    "_uuid": "4bbaf89eb186a3df137069947075f13bc15b53ca",
    "colab": {},
    "colab_type": "code",
    "collapsed": false,
    "id": "2KI8WVJw5nd3",
    "outputId": "852328fb-25cc-4224-f4a9-11e722724fa1"
   },
   "outputs": [
    {
     "name": "stdout",
     "output_type": "stream",
     "text": [
      "[[ 1  1 14 14 14  9  9  9 20 20 20 17 17 17 17]\n",
      " [ 1  1 14 14 14  9  9  9 20 20 20 17 17 17 38]\n",
      " [18 18 18 14 14 36 36 36 19 19 19 24 24 38 38]\n",
      " [18 18 18 18 27 27 36 36 19 19 19 28 28 38 10]\n",
      " [18 18 18 18 27 27 27  2  2 19 34 28 28 28 10]\n",
      " [18 18 16 15 15 27  2  2  2 34 34 34 28  0  0]\n",
      " [16 16 16 15 15 15  2  2  2 34 34 22 22  0  0]\n",
      " [16 16 16 11 15 13 13  2  2 37 44 22 22  0  0]\n",
      " [16 39 11 11 43 13 13 13  3 37 44 44 44  8  8]\n",
      " [ 5 39 39 43 43 26 13 21  3  3 44 35 35  8  8]\n",
      " [ 5 39 39 43 26 26 26 21 21 21 25 35 23 23 23]\n",
      " [ 6  6 29 29 29 26 26 21 21 21 25 25 25 32 32]\n",
      " [ 6  6  6 29 29 42 42  4  4  4 40 40 40 32 32]\n",
      " [33 33 30 41 41 41  4  4  4  4 31 40 31  7  7]\n",
      " [33 33 30 12 41 41  4  4  4  4 31 31  7  7  7]]\n"
     ]
    },
    {
     "data": {
      "image/png": "[encoded data removed]",
      "text/plain": [
       "<Figure size 576x576 with 2 Axes>"
      ]
     },
     "metadata": {
      "tags": []
     },
     "output_type": "display_data"
    },
    {
     "data": {
      "text/plain": [
       "<module 'matplotlib.pyplot' from '/opt/conda/lib/python3.6/site-packages/matplotlib/pyplot.py'>"
      ]
     },
     "execution_count": 133,
     "metadata": {
      "tags": []
     },
     "output_type": "execute_result"
    }
   ],
   "source": [
    "joblib.dump(som, \"som.pkl\")\n",
    "\n",
    "print(som.clusters)\n",
    "som.view_umatrix(bestmatches=True, colorbar=True)"
   ]
  },
  {
   "cell_type": "code",
   "execution_count": 0,
   "metadata": {
    "_uuid": "c296a01840aed2b25bc0e0c0a19d6b0f42262826",
    "colab": {},
    "colab_type": "code",
    "collapsed": false,
    "id": "jkQDsOMp6Jqr",
    "outputId": "27a7acf0-d698-4687-da50-339bdf412c55"
   },
   "outputs": [
    {
     "name": "stdout",
     "output_type": "stream",
     "text": [
      "Clusters sorted by increasing number of neurons:\n",
      "Cluster index: [12 30 37 10  5 24 42 35  3 11 23 43 25  1 31 32 40 38  8 33 22 41 36 29\n",
      " 39 44  6  7 26  9 13 34 15 20 28 27  0 21 19 17 16 14  2  4 18]\n",
      "Number of neurons: [ 1  2  2  2  2  2  2  3  3  3  3  4  4  4  4  4  4  4  4  4  4  5  5  5\n",
      "  5  5  5  5  6  6  6  6  6  6  6  6  6  7  7  7  8  8 10 11 13]\n"
     ]
    }
   ],
   "source": [
    "_, counts = np.unique(som.clusters, return_counts=True)\n",
    "print(\"Clusters sorted by increasing number of neurons:\")\n",
    "print(\"Cluster index: \" + str(np.argsort(counts)))\n",
    "print(\"Number of neurons: \" + str(np.sort(counts)))"
   ]
  },
  {
   "cell_type": "markdown",
   "metadata": {
    "_uuid": "26a77a6e2930d937153933e802ddd1214aa5e873",
    "colab_type": "text",
    "id": "fMO_KcQYaTv-"
   },
   "source": [
    "\n",
    "## Σημασιολογική ερμηνεία των clusters\n",
    "\n",
    "Προκειμένου να μελετήσουμε τις τοπολογικές ιδιότητες του SOM και το αν έχουν ενσωματώσει σημασιολογική πληροφορία για τις ταινίες διαμέσου της διανυσματικής αναπαράστασης με το tf-idf και των κατηγοριών, χρειαζόμαστε ένα κριτήριο ποιοτικής επισκόπησης των clusters. Θα υλοποιήσουμε το εξής κριτήριο: Λαμβάνουμε όρισμα έναν αριθμό (ετικέτα) cluster. Για το cluster αυτό βρίσκουμε όλους τους νευρώνες που του έχουν ανατεθεί από τον k-Means. Για όλους τους νευρώνες αυτούς βρίσκουμε όλες τις ταινίες που τους έχουν ανατεθεί (για τις οποίες αποτελούν bmus). Για όλες αυτές τις ταινίες τυπώνουμε ταξινομημένη τη συνολική στατιστική όλων των ειδών (κατηγοριών) και τις συχνότητές τους. Αν το cluster διαθέτει καλή συνοχή και εξειδίκευση, θα πρέπει κάποιες κατηγορίες να έχουν σαφώς μεγαλύτερη συχνότητα από τις υπόλοιπες. Θα μπορούμε τότε να αναθέσουμε αυτήν/ές την/τις κατηγορία/ες ως ετικέτες κινηματογραφικού είδους στο cluster.\n",
    "\n",
    "Μπορείτε να υλοποιήσετε τη συνάρτηση αυτή όπως θέλετε. Μια πιθανή διαδικασία θα μπορούσε να είναι η ακόλουθη:\n",
    "\n",
    "1. Ορίζουμε συνάρτηση `print_categories_stats` που δέχεται ως είσοδο λίστα με ids ταινιών. Δημιουργούμε μια κενή λίστα συνολικών κατηγοριών. Στη συνέχεια, για κάθε ταινία επεξεργαζόμαστε το string `categories` ως εξής: δημιουργούμε μια λίστα διαχωρίζοντας το string κατάλληλα με την `split` και αφαιρούμε τα whitespaces μεταξύ ετικετών με την `strip`. Προσθέτουμε τη λίστα αυτή στη συνολική λίστα κατηγοριών με την `extend`. Τέλος χρησιμοποιούμε πάλι την `np.unique` για να μετρήσουμε συχνότητα μοναδικών ετικετών κατηγοριών και ταξινομούμε με την `np.argsort`. Τυπώνουμε τις κατηγορίες και τις συχνότητες εμφάνισης ταξινομημένα. Χρήσιμες μπορεί να σας φανούν και οι `np.ravel`, `np.nditer`, `np.array2string` και `zip`.\n",
    "\n",
    "2. Ορίζουμε τη βασική μας συνάρτηση `print_cluster_neurons_movies_report` που δέχεται ως όρισμα τον αριθμό ενός cluster. Με τη χρήση της `np.where` μπορούμε να βρούμε τις συντεταγμένες των bmus που αντιστοιχούν στο cluster και με την `column_stack` να φτιάξουμε έναν πίνακα bmus για το cluster. Προσοχή στη σειρά (στήλη - σειρά) στον πίνακα bmus. Για κάθε bmu αυτού του πίνακα ελέγχουμε αν υπάρχει στον πίνακα μοναδικών bmus που έχουμε υπολογίσει στην αρχή συνολικά και αν ναι προσθέτουμε το αντίστοιχο index του νευρώνα σε μια λίστα. Χρήσιμες μπορεί να είναι και οι `np.rollaxis`, `np.append`, `np.asscalar`. Επίσης πιθανώς να πρέπει να υλοποιήσετε ένα κριτήριο ομοιότητας μεταξύ ενός bmu και ενός μοναδικού bmu από τον αρχικό πίνακα bmus.\n",
    "\n",
    "3. Υλοποιούμε μια βοηθητική συνάρτηση `neuron_movies_report`. Λαμβάνει ένα σύνολο νευρώνων από την `print_cluster_neurons_movies_report` και μέσω της `indices` φτιάχνει μια λίστα με το σύνολο ταινιών που ανήκουν σε αυτούς τους νευρώνες. Στο τέλος καλεί με αυτή τη λίστα την `print_categories_stats` που τυπώνει τις στατιστικές των κατηγοριών.\n",
    "\n",
    "Μπορείτε βέβαια να προσθέσετε οποιαδήποτε επιπλέον έξοδο σας βοηθάει. Μια χρήσιμη έξοδος είναι πόσοι νευρώνες ανήκουν στο cluster και σε πόσους και ποιους από αυτούς έχουν ανατεθεί ταινίες.\n",
    "\n",
    "Θα επιτελούμε τη σημασιολογική ερμηνεία του χάρτη καλώντας την `print_cluster_neurons_movies_report` με τον αριθμός ενός cluster που μας ενδιαφέρει. \n",
    "\n",
    "Παράδειγμα εξόδου για ένα cluster (μη βελτιστοποιημένος χάρτης, ωστόσο βλέπετε ότι οι μεγάλες κατηγορίες έχουν σημασιολογική  συνάφεια):\n",
    "\n",
    "```\n",
    "Overall Cluster Genres stats:  \n",
    "[('\"Horror\"', 86), ('\"Science Fiction\"', 24), ('\"B-movie\"', 16), ('\"Monster movie\"', 10), ('\"Creature Film\"', 10), ('\"Indie\"', 9), ('\"Zombie Film\"', 9), ('\"Slasher\"', 8), ('\"World cinema\"', 8), ('\"Sci-Fi Horror\"', 7), ('\"Natural horror films\"', 6), ('\"Supernatural\"', 6), ('\"Thriller\"', 6), ('\"Cult\"', 5), ('\"Black-and-white\"', 5), ('\"Japanese Movies\"', 4), ('\"Short Film\"', 3), ('\"Drama\"', 3), ('\"Psychological thriller\"', 3), ('\"Crime Fiction\"', 3), ('\"Monster\"', 3), ('\"Comedy\"', 2), ('\"Western\"', 2), ('\"Horror Comedy\"', 2), ('\"Archaeology\"', 2), ('\"Alien Film\"', 2), ('\"Teen\"', 2), ('\"Mystery\"', 2), ('\"Adventure\"', 2), ('\"Comedy film\"', 2), ('\"Combat Films\"', 1), ('\"Chinese Movies\"', 1), ('\"Action/Adventure\"', 1), ('\"Gothic Film\"', 1), ('\"Costume drama\"', 1), ('\"Disaster\"', 1), ('\"Docudrama\"', 1), ('\"Film adaptation\"', 1), ('\"Film noir\"', 1), ('\"Parody\"', 1), ('\"Period piece\"', 1), ('\"Action\"', 1)]```\n",
    "   "
   ]
  },
  {
   "cell_type": "code",
   "execution_count": 0,
   "metadata": {
    "_uuid": "55ba374ad196682f212b15c804df14a44e0c79b1",
    "colab": {},
    "colab_type": "code",
    "collapsed": true,
    "id": "i_XlZhEzAQFg"
   },
   "outputs": [],
   "source": [
    "def print_categories_stats(ids):\n",
    "  all_categories = []\n",
    "  for id in ids:\n",
    "    for cat in categories[id]:\n",
    "      cur_list = [a.strip() for a in cat.split(\",\")]\n",
    "      all_categories.extend(cur_list)\n",
    "  \n",
    "  a, counts = np.unique(all_categories, return_counts=True)\n",
    "  freq_cats = list(zip(a, counts))\n",
    "  freq_cats.sort(key=lambda tup: tup[1], reverse=True)\n",
    "  print(freq_cats)"
   ]
  },
  {
   "cell_type": "code",
   "execution_count": 0,
   "metadata": {
    "_uuid": "9bb5c18de4c3b6d934df89de29a0dd18a3ac0849",
    "colab": {},
    "colab_type": "code",
    "collapsed": true,
    "id": "Q8vnuR4RS9Bd"
   },
   "outputs": [],
   "source": [
    "def neuron_movies_report(my_ubmus):\n",
    "  movies_in_cluster = []\n",
    "  for neuron in my_ubmus:\n",
    "    cur_movies = np.where(indices == neuron)\n",
    "    cur_movies = [item for l in cur_movies for item in l.tolist()]\n",
    "    movies_in_cluster.extend(cur_movies)\n",
    "  print_categories_stats(movies_in_cluster)\n",
    "  \n",
    "def print_cluster_neurons_movies_report(number):\n",
    "  y, x = np.where(som.clusters == number)\n",
    "  my_bmus = np.asarray(list(zip(y, x)))\n",
    "  my_ubmus = []\n",
    "  for neuron in my_bmus:\n",
    "    search_in_ubmus = np.where((ubmus == neuron).all(axis=1))\n",
    "    if (np.count_nonzero(search_in_ubmus) > 0):\n",
    "      my_ubmus.append(np.asscalar(search_in_ubmus[0]))\n",
    "  neuron_movies_report(my_ubmus)"
   ]
  },
  {
   "cell_type": "code",
   "execution_count": 0,
   "metadata": {
    "_uuid": "99d6c03c4418012e4d3d42bd26a866f238fbfbf5",
    "colab": {},
    "colab_type": "code",
    "collapsed": false,
    "id": "9fjHi3LoUGgb",
    "outputId": "18ba6f81-25b4-48c9-db2e-cbca9b8c54af"
   },
   "outputs": [
    {
     "name": "stdout",
     "output_type": "stream",
     "text": [
      "[('\"Drama\"', 13), ('\"Romance Film\"', 13), ('\"World cinema\"', 13), ('\"Comedy film\"', 2), ('\"Comedy\"', 2), ('\"Musical\"', 2), ('\"Period piece\"', 2), ('\"War film\"', 2), ('\"Apocalyptic and post-apocalyptic fiction\"', 1), ('\"Art film\"', 1), ('\"Avant-garde\"', 1), ('\"Biographical film\"', 1), ('\"Biography\"', 1), ('\"Coming of age\"', 1), ('\"Crime Fiction\"', 1), ('\"Experimental film\"', 1), ('\"Juvenile Delinquency Film\"', 1), ('\"Music\"', 1), ('\"Political drama\"', 1), ('\"Prison\"', 1), ('\"Romantic fantasy\"', 1), ('\"Science Fiction\"', 1), ('\"Short Film\"', 1), ('\"Time travel\"', 1)]\n"
     ]
    }
   ],
   "source": [
    "#testing\n",
    "\n",
    "print_cluster_neurons_movies_report(24)"
   ]
  },
  {
   "cell_type": "markdown",
   "metadata": {
    "_uuid": "eaf634e8be74bab9b12337bcdb553fcb004be2b6",
    "colab_type": "text",
    "id": "lq4QrImhaa7E"
   },
   "source": [
    "\n",
    "## Tips για το SOM και το clustering\n",
    "\n",
    "- Για την ομαδοποίηση ένα U-matrix καλό είναι να εμφανίζει και μπλε-πράσινες περιοχές (clusters) και κόκκινες περιοχές (ορίων). Παρατηρήστε ποια σχέση υπάρχει μεταξύ αριθμού ταινιών στο final set, μεγέθους grid και ποιότητας U-matrix.\n",
    "- Για το k του k-Means προσπαθήστε να προσεγγίζει σχετικά τα clusters του U-matrix (όπως είπαμε είναι διαφορετικοί μέθοδοι clustering). Μικρός αριθμός k δεν θα σέβεται τα όρια. Μεγάλος αριθμός θα δημιουργεί υπο-clusters εντός των clusters που φαίνονται στο U-matrix. Το τελευταίο δεν είναι απαραίτητα κακό, αλλά μεγαλώνει τον αριθμό clusters που πρέπει να αναλυθούν σημασιολογικά.\n",
    "- Σε μικρούς χάρτες και με μικρά final sets δοκιμάστε διαφορετικές παραμέτρους για την εκπαίδευση του SOM. Σημειώστε τυχόν παραμέτρους που επηρεάζουν την ποιότητα του clustering για το dataset σας ώστε να τις εφαρμόσετε στους μεγάλους χάρτες.\n",
    "- Κάποια τοπολογικά χαρακτηριστικά εμφανίζονται ήδη σε μικρούς χάρτες. Κάποια άλλα χρειάζονται μεγαλύτερους χάρτες. Δοκιμάστε μεγέθη 20x20, 25x25 ή και 30x30 και αντίστοιχη προσαρμογή των k. Όσο μεγαλώνουν οι χάρτες, μεγαλώνει η ανάλυση του χάρτη αλλά μεγαλώνει και ο αριθμός clusters που πρέπει να αναλυθούν.\n"
   ]
  },
  {
   "cell_type": "markdown",
   "metadata": {
    "_uuid": "e28f8231bce4a02ffe9bc362c58e033915967c73",
    "colab_type": "text",
    "id": "x4IUl8O8ayVf"
   },
   "source": [
    "\n",
    "\n",
    "## Ανάλυση τοπολογικών ιδιοτήτων χάρτη SOM\n",
    "\n",
    "Μετά το πέρας της εκπαίδευσης και του clustering θα έχετε ένα χάρτη με τοπολογικές ιδιότητες ως προς τα είδη των ταίνιών της συλλογής σας, κάτι αντίστοιχο με την εικόνα στην αρχή της Εφαρμογής 2 αυτού του notebook (η συγκεκριμένη εικόνα είναι μόνο για εικονογράφιση, δεν έχει καμία σχέση με τη συλλογή δεδομένων και τις κατηγορίες μας).\n",
    "\n",
    "Για τον τελικό χάρτη SOM που θα παράξετε για τη συλλογή σας, αναλύστε σε markdown με συγκεκριμένη αναφορά σε αριθμούς clusters και τη σημασιολογική ερμηνεία τους τις εξής τρεις τοπολογικές ιδιότητες του SOM: \n",
    "\n",
    "1. Δεδομένα που έχουν μεγαλύτερη πυκνότητα πιθανότητας στο χώρο εισόδου τείνουν να απεικονίζονται με περισσότερους νευρώνες στο χώρο μειωμένης διαστατικότητας. Δώστε παραδείγματα από συχνές και λιγότερο συχνές κατηγορίες ταινιών. Χρησιμοποιήστε τις στατιστικές των κατηγοριών στη συλλογή σας και τον αριθμό κόμβων που χαρακτηρίζουν.\n",
    "2. Μακρινά πρότυπα εισόδου τείνουν να απεικονίζονται απομακρυσμένα στο χάρτη. Υπάρχουν χαρακτηριστικές κατηγορίες ταινιών που ήδη από μικρούς χάρτες τείνουν να τοποθετούνται σε διαφορετικά ή απομονωμένα σημεία του χάρτη.\n",
    "3. Κοντινά πρότυπα εισόδου τείνουν να απεικονίζονται κοντά στο χάρτη. Σε μεγάλους χάρτες εντοπίστε είδη ταινιών και κοντινά τους υποείδη.\n",
    "\n",
    "Προφανώς τοποθέτηση σε 2 διαστάσεις που να σέβεται μια απόλυτη τοπολογία δεν είναι εφικτή, αφενός γιατί δεν υπάρχει κάποια απόλυτη εξ ορισμού για τα κινηματογραφικά είδη ακόμα και σε πολλές διαστάσεις, αφετέρου γιατί πραγματοποιούμε μείωση διαστατικότητας.\n",
    "\n",
    "Εντοπίστε μεγάλα clusters και μικρά clusters που δεν έχουν σαφή χαρακτηριστικά. Εντοπίστε clusters συγκεκριμένων ειδών που μοιάζουν να μην έχουν τοπολογική συνάφεια με γύρω περιοχές. Προτείνετε πιθανές ερμηνείες.\n",
    "\n",
    "\n",
    "\n",
    "Τέλος, εντοπίστε clusters που έχουν κατά την άποψή σας ιδιαίτερο ενδιαφέρον στη συλλογή της ομάδας σας (data exploration / discovery value) και σχολιάστε.\n"
   ]
  },
  {
   "cell_type": "markdown",
   "metadata": {
    "_uuid": "852e4f40b83c4a2674705a5e55dc768335768b22",
    "colab_type": "text",
    "id": "VSMDIHBGu3lY"
   },
   "source": [
    "# Σχολιασμός τοπολογικών ιδιοτήτων του χάρτη\n",
    "\n",
    "**1.**  Πράγματι γνωρίζουμε πως δεδομένα στον χώρο εισόδου έχουν ανάλογη πυκνότητα πιθανότητας στον χώρο εξόδου ( $p_{out}(x) = p_{in}^{\\frac{2}{3}}(x)$ για την ακρίβεια) και κάτι τέτοιο αποτυπώθηκε στους χάρτες μας απ' τις πρώτες δοκιμές με λίγες ταινίες για τις κατηγορίες \"Action/Adventure\", \"Comedy\" και τις συγγενείς υποκατηγορίες τους. Στον τελικό χάρτη που παρουσιάζουμε, τα μεγαλύτέρα clusters, περιέχουν τις κατηγορίες αυτές."
   ]
  },
  {
   "cell_type": "code",
   "execution_count": 0,
   "metadata": {
    "_uuid": "1a8771d797b0f8eb4361859d7564897c87226226",
    "colab": {},
    "colab_type": "code",
    "collapsed": false,
    "id": "Hn9yH8E1u3lZ",
    "outputId": "7cf73cb2-cff2-4cfa-b168-a285fe05f147"
   },
   "outputs": [
    {
     "name": "stdout",
     "output_type": "stream",
     "text": [
      "[('\"Family Film\"', 186), ('\"Comedy\"', 138), ('\"Animation\"', 85), ('\"Adventure\"', 80), ('\"Children\\'s/Family\"', 53), ('\"Fantasy\"', 43), ('\"Short Film\"', 40), ('\"Children\\'s Fantasy\"', 20), ('\"Musical\"', 19), ('\"Children\\'s\"', 18), ('\"Drama\"', 18), ('\"Science Fiction\"', 17), ('\"Family-Oriented Adventure\"', 14), ('\"Fantasy Comedy\"', 12), ('\"Animal Picture\"', 9), ('\"Slapstick\"', 9), ('\"Sports\"', 9), ('\"Action\"', 8), ('\"Computer Animation\"', 8), ('\"Adventure Comedy\"', 7), ('\"Comedy film\"', 7), ('\"Anime\"', 5), ('\"Christmas movie\"', 5), ('\"Holiday Film\"', 5), ('\"Japanese Movies\"', 5), ('\"Television movie\"', 5), ('\"World cinema\"', 5), ('\"Crime Fiction\"', 4), ('\"Music\"', 4), ('\"Teen\"', 4), ('\"Western\"', 4), ('\"Action/Adventure\"', 3), ('\"Animated cartoon\"', 3), ('\"Chinese Movies\"', 3), ('\"Coming of age\"', 3), ('\"Costume drama\"', 3), ('\"Fairy tale\"', 3), ('\"Fantasy Adventure\"', 3), ('\"Indie\"', 3), ('\"Musical comedy\"', 3), ('\"Mystery\"', 3), ('\"Period piece\"', 3), ('\"Romance Film\"', 3), ('\"Stop motion\"', 3), ('\"Thriller\"', 3), ('\"War film\"', 3), ('\"Buddy film\"', 2), ('\"Martial Arts Film\"', 2), ('\"Absurdism\"', 1), ('\"Alien Film\"', 1), ('\"Animated Musical\"', 1), ('\"Baseball\"', 1), ('\"Bengali Cinema\"', 1), ('\"Black comedy\"', 1), ('\"Black-and-white\"', 1), ('\"Chase Movie\"', 1), ('\"Children\\'s Entertainment\"', 1), ('\"Comedy-drama\"', 1), ('\"Documentary\"', 1), ('\"Doomsday film\"', 1), ('\"Ensemble Film\"', 1), ('\"Family Drama\"', 1), ('\"Film adaptation\"', 1), ('\"Historical fiction\"', 1), ('\"Jungle Film\"', 1), ('\"Media Satire\"', 1), ('\"Road movie\"', 1), ('\"Romantic comedy\"', 1), ('\"Satire\"', 1), ('\"Silent film\"', 1), ('\"Superhero movie\"', 1), ('\"Superhero\"', 1), ('\"Supernatural\"', 1), ('\"Time travel\"', 1), ('\"Wuxia\"', 1)]\n"
     ]
    }
   ],
   "source": [
    "print_cluster_neurons_movies_report(18) "
   ]
  },
  {
   "cell_type": "code",
   "execution_count": 0,
   "metadata": {
    "_uuid": "b2ed390d6d960d5924095eb5df6b44c85fc304c1",
    "colab": {},
    "colab_type": "code",
    "collapsed": false,
    "id": "GOaLvGnHu3lf",
    "outputId": "9d24f04d-bdd1-4178-ab2d-0a485272a816"
   },
   "outputs": [
    {
     "name": "stdout",
     "output_type": "stream",
     "text": [
      "[('\"Action\"', 208), ('\"Action/Adventure\"', 197), ('\"Thriller\"', 95), ('\"Comedy\"', 81), ('\"Crime Fiction\"', 47), ('\"World cinema\"', 47), ('\"Martial Arts Film\"', 45), ('\"Chinese Movies\"', 32), ('\"Adventure\"', 31), ('\"Action Thrillers\"', 30), ('\"Drama\"', 26), ('\"Crime Thriller\"', 19), ('\"Fantasy\"', 19), ('\"Western\"', 19), ('\"Parody\"', 17), ('\"Science Fiction\"', 17), ('\"Spy\"', 14), ('\"Buddy film\"', 13), ('\"Horror\"', 12), ('\"Indie\"', 12), ('\"Action Comedy\"', 11), ('\"Crime Comedy\"', 9), ('\"Disaster\"', 9), ('\"Black comedy\"', 8), ('\"Sports\"', 8), ('\"Mystery\"', 7), ('\"Slapstick\"', 7), ('\"Superhero movie\"', 7), ('\"Suspense\"', 7), ('\"War film\"', 7), ('\"Black-and-white\"', 6), ('\"Heist\"', 6), ('\"Political thriller\"', 6), ('\"Airplanes and airports\"', 5), ('\"Animation\"', 5), ('\"Costume drama\"', 5), ('\"Family Film\"', 5), ('\"Glamorized Spy Film\"', 5), ('\"Japanese Movies\"', 5), ('\"Satire\"', 5), ('\"Comedy-drama\"', 4), ('\"Cult\"', 4), ('\"Blaxploitation\"', 3), ('\"Caper story\"', 3), ('\"Chase Movie\"', 3), ('\"Comedy film\"', 3), ('\"Comedy of Errors\"', 3), ('\"Costume Adventure\"', 3), ('\"Detective\"', 3), ('\"Natural horror films\"', 3), ('\"Romance Film\"', 3), ('\"Stop motion\"', 3), ('\"Superhero\"', 3), ('\"Television movie\"', 3), ('\"Wuxia\"', 3), ('\"Adventure Comedy\"', 2), ('\"Anime\"', 2), ('\"Auto racing\"', 2), ('\"Bollywood\"', 2), ('\"Buddy cop\"', 2), ('\"Comedy Western\"', 2), ('\"Creature Film\"', 2), ('\"Detective fiction\"', 2), ('\"Doomsday film\"', 2), ('\"Ensemble Film\"', 2), ('\"Escape Film\"', 2), ('\"Fantasy Adventure\"', 2), ('\"Film adaptation\"', 2), ('\"Gangster Film\"', 2), ('\"Musical\"', 2), ('\"Mythological Fantasy\"', 2), ('\"Psychological thriller\"', 2), ('\"Road movie\"', 2), ('\"Short Film\"', 2), ('\"Spaghetti Western\"', 2), ('\"Supernatural\"', 2), ('\"Swashbuckler films\"', 2), ('\"Sword and Sandal\"', 2), ('\"Time travel\"', 2), ('\"Animal Picture\"', 1), ('\"Anti-war film\"', 1), ('\"Anti-war\"', 1), ('\"B-Western\"', 1), ('\"B-movie\"', 1), ('\"Combat Films\"', 1), ('\"Comedy Thriller\"', 1), ('\"Coming of age\"', 1), ('\"Crime\"', 1), ('\"Documentary\"', 1), ('\"Erotic thriller\"', 1), ('\"Fantasy Comedy\"', 1), ('\"Holiday Film\"', 1), ('\"Horror Comedy\"', 1), ('\"Hybrid Western\"', 1), ('\"Indian Western\"', 1), ('\"Media Satire\"', 1), ('\"Monster movie\"', 1), ('\"Period piece\"', 1), ('\"Political drama\"', 1), ('\"Pre-Code\"', 1), ('\"Prison\"', 1), ('\"Reboot\"', 1), ('\"Revisionist Western\"', 1), ('\"Slasher\"', 1), ('\"Werewolf fiction\"', 1), ('\"Zombie Film\"', 1)]\n"
     ]
    }
   ],
   "source": [
    "print_cluster_neurons_movies_report(4)"
   ]
  },
  {
   "cell_type": "markdown",
   "metadata": {
    "_uuid": "ab87fba7a688a2aed402065609133c46bf645495",
    "colab_type": "text",
    "id": "sVMErHgEu3ll"
   },
   "source": [
    "Αντιθέτως, κατηγορίες ταινιών με μικρή εμφάνιση όπως το \"Bollywood\", το \"Short-film\" και το \"Anime\" σε χάρτες με λιγότερες ταινίες έτειναν να ενσωματωθούν σε μεγαλύτερα clusters, ενώ στον χάρτη που παρουσιάζουμε καταφέρνουν να διαχωριστούν."
   ]
  },
  {
   "cell_type": "code",
   "execution_count": 0,
   "metadata": {
    "_uuid": "9724ca75f1bc2c57365683f4aa5ce96431b872ce",
    "colab": {},
    "colab_type": "code",
    "collapsed": false,
    "id": "FMB0fkSsu3lp",
    "outputId": "a04196a0-635c-4fa5-a096-c76f65ac12b8"
   },
   "outputs": [
    {
     "name": "stdout",
     "output_type": "stream",
     "text": [
      "[('\"Bollywood\"', 57), ('\"World cinema\"', 57), ('\"Drama\"', 48), ('\"Musical\"', 45), ('\"Thriller\"', 8), ('\"Art film\"', 4), ('\"Comedy\"', 4), ('\"Crime Fiction\"', 4), ('\"Action\"', 3), ('\"Action/Adventure\"', 3), ('\"Political drama\"', 2), ('\"Romantic drama\"', 2), ('\"Animation\"', 1), ('\"Crime Thriller\"', 1), ('\"Epic\"', 1), ('\"Family Drama\"', 1), ('\"Family Film\"', 1), ('\"Horror\"', 1), ('\"Medical fiction\"', 1), ('\"Melodrama\"', 1), ('\"Musical Drama\"', 1), ('\"Political satire\"', 1), ('\"Political thriller\"', 1), ('\"Romance Film\"', 1)]\n"
     ]
    }
   ],
   "source": [
    "print_cluster_neurons_movies_report(10)"
   ]
  },
  {
   "cell_type": "code",
   "execution_count": 0,
   "metadata": {
    "_uuid": "a17f56ce4434e6741e27ea85b3ef901ef9672a30",
    "colab": {},
    "colab_type": "code",
    "collapsed": false,
    "id": "R4lWWbrau3lw",
    "outputId": "200f9800-f9eb-4c43-a861-906a3b412441"
   },
   "outputs": [
    {
     "name": "stdout",
     "output_type": "stream",
     "text": [
      "[('\"Short Film\"', 99), ('\"Family Film\"', 4), ('\"Animated cartoon\"', 3), ('\"Computer Animation\"', 3), ('\"Indie\"', 3), ('\"Silent film\"', 3), ('\"Biographical film\"', 2), ('\"Black-and-white\"', 2), ('\"Horror\"', 2), ('\"Parody\"', 2), ('\"Propaganda film\"', 2), ('\"Action\"', 1), ('\"Children\\'s/Family\"', 1), ('\"Christian film\"', 1), ('\"Educational\"', 1), ('\"Fan film\"', 1), ('\"Fantasy\"', 1), ('\"Japanese Movies\"', 1), ('\"Melodrama\"', 1), ('\"Political drama\"', 1), ('\"Romance Film\"', 1), ('\"Surrealism\"', 1), ('\"War film\"', 1)]\n"
     ]
    }
   ],
   "source": [
    "print_cluster_neurons_movies_report(5)"
   ]
  },
  {
   "cell_type": "code",
   "execution_count": 0,
   "metadata": {
    "_uuid": "4170b1c93d2fb4dd442d21af8754410c7f6bc8d6",
    "colab": {},
    "colab_type": "code",
    "collapsed": false,
    "id": "EbyBZArgu3l4",
    "outputId": "68834ed1-31f2-46bd-d96d-bed90ddf55ad"
   },
   "outputs": [
    {
     "name": "stdout",
     "output_type": "stream",
     "text": [
      "[('\"Animation\"', 5), ('\"Japanese Movies\"', 4), ('\"Anime\"', 3), ('\"Science Fiction\"', 3), ('\"Documentary\"', 2), ('\"Drama\"', 1), ('\"Fantasy\"', 1), ('\"Indie\"', 1), ('\"Short Film\"', 1), ('\"Steampunk\"', 1), ('\"World cinema\"', 1)]\n"
     ]
    }
   ],
   "source": [
    "print_cluster_neurons_movies_report(11)"
   ]
  },
  {
   "cell_type": "markdown",
   "metadata": {
    "_uuid": "beba57e3ae30c4741a61662cf09dfdabdf9947b6",
    "colab_type": "text",
    "id": "uHl1EI13u3l9"
   },
   "source": [
    "**2.** Κατηγορίες όπως το \"Horror\" είναι θεματολογικά μακρινές με τις κατηγορίες \"Family\" και ο χάρτης μας καταφέρνει να τις απεικονίσει σε απομακρυσμένα μεταξύ τους σημεία. Υπενθυμίζουμε τον πίνακα με τα clusters:"
   ]
  },
  {
   "cell_type": "code",
   "execution_count": 0,
   "metadata": {
    "_uuid": "0844b7ffa2ba007f6881cf34092af05f0c2ffffd",
    "colab": {},
    "colab_type": "code",
    "collapsed": false,
    "id": "Q2d-4LOQu3l-",
    "outputId": "60eb55f5-35a5-47be-c36d-f5b68a8fc072"
   },
   "outputs": [
    {
     "name": "stdout",
     "output_type": "stream",
     "text": [
      "[[ 1  1 14 14 14  9  9  9 20 20 20 17 17 17 17]\n",
      " [ 1  1 14 14 14  9  9  9 20 20 20 17 17 17 38]\n",
      " [18 18 18 14 14 36 36 36 19 19 19 24 24 38 38]\n",
      " [18 18 18 18 27 27 36 36 19 19 19 28 28 38 10]\n",
      " [18 18 18 18 27 27 27  2  2 19 34 28 28 28 10]\n",
      " [18 18 16 15 15 27  2  2  2 34 34 34 28  0  0]\n",
      " [16 16 16 15 15 15  2  2  2 34 34 22 22  0  0]\n",
      " [16 16 16 11 15 13 13  2  2 37 44 22 22  0  0]\n",
      " [16 39 11 11 43 13 13 13  3 37 44 44 44  8  8]\n",
      " [ 5 39 39 43 43 26 13 21  3  3 44 35 35  8  8]\n",
      " [ 5 39 39 43 26 26 26 21 21 21 25 35 23 23 23]\n",
      " [ 6  6 29 29 29 26 26 21 21 21 25 25 25 32 32]\n",
      " [ 6  6  6 29 29 42 42  4  4  4 40 40 40 32 32]\n",
      " [33 33 30 41 41 41  4  4  4  4 31 40 31  7  7]\n",
      " [33 33 30 12 41 41  4  4  4  4 31 31  7  7  7]]\n"
     ]
    }
   ],
   "source": [
    "print(som.clusters)"
   ]
  },
  {
   "cell_type": "markdown",
   "metadata": {
    "_uuid": "0a55a931d6d09349a67f3b59b4e67df1ef8959e5",
    "colab_type": "text",
    "id": "3SuzQL5iu3mE"
   },
   "source": [
    "Τα clusters με αριθμό 9 και 41 είναι πλήρως απομακρυσμένα και περιέχουν τις κατηγορίες \"Comedy/Romantic comedy\" και \"Thriller/Horror\" αντίστοιχα:"
   ]
  },
  {
   "cell_type": "code",
   "execution_count": 0,
   "metadata": {
    "_uuid": "c3b9e876cf7cfe6dae04c60246dc09b6bf3779fc",
    "colab": {},
    "colab_type": "code",
    "collapsed": false,
    "id": "ADC2q1_5u3mE",
    "outputId": "1bb8fbf5-8bc5-4dba-f7c6-9700b143982a"
   },
   "outputs": [
    {
     "name": "stdout",
     "output_type": "stream",
     "text": [
      "[('\"Comedy\"', 148), ('\"Romantic comedy\"', 107), ('\"Romance Film\"', 90), ('\"Parody\"', 45), ('\"Musical\"', 15), ('\"Screwball comedy\"', 15), ('\"Black-and-white\"', 13), ('\"Indie\"', 10), ('\"Slapstick\"', 10), ('\"Cult\"', 9), ('\"Satire\"', 9), ('\"Black comedy\"', 8), ('\"Science Fiction\"', 8), ('\"Musical comedy\"', 7), ('\"Adventure\"', 6), ('\"Sex comedy\"', 6), ('\"Teen\"', 6), ('\"World cinema\"', 6), ('\"Fantasy\"', 5), ('\"Horror\"', 5), ('\"Comedy of Errors\"', 4), ('\"Comedy of manners\"', 4), ('\"Comedy-drama\"', 4), ('\"Crime Fiction\"', 4), ('\"Political cinema\"', 4), ('\"Action/Adventure\"', 3), ('\"Buddy film\"', 3), ('\"Fantasy Comedy\"', 3), ('\"Gross out\"', 3), ('\"Gross-out film\"', 3), ('\"Media Satire\"', 3), ('\"Remake\"', 3), ('\"Television movie\"', 3), ('\"Thriller\"', 3), ('\"Absurdism\"', 2), ('\"Action\"', 2), ('\"Adventure Comedy\"', 2), ('\"Coming of age\"', 2), ('\"Crime Comedy\"', 2), ('\"Gangster Film\"', 2), ('\"Horror Comedy\"', 2), ('\"Mockumentary\"', 2), ('\"Music\"', 2), ('\"Mystery\"', 2), ('\"Political satire\"', 2), ('\"Sports\"', 2), ('\"Americana\"', 1), ('\"Animation\"', 1), ('\"Bollywood\"', 1), ('\"Chinese Movies\"', 1), ('\"Christmas movie\"', 1), ('\"Costume Adventure\"', 1), ('\"Costume drama\"', 1), ('\"Domestic Comedy\"', 1), ('\"Ensemble Film\"', 1), ('\"Filipino Movies\"', 1), ('\"Filmed Play\"', 1), ('\"Hip hop movies\"', 1), ('\"History\"', 1), ('\"Humour\"', 1), ('\"Hybrid Western\"', 1), ('\"New Hollywood\"', 1), ('\"Pre-Code\"', 1), ('\"Punk rock\"', 1), ('\"Religious Film\"', 1), ('\"Romantic fantasy\"', 1), ('\"Short Film\"', 1), ('\"Slasher\"', 1), ('\"Time travel\"', 1), ('\"Western\"', 1), ('\"Workplace Comedy\"', 1)]\n",
      "-------------------------------------------------\n",
      "[('\"Thriller\"', 69), ('\"Horror\"', 58), ('\"Science Fiction\"', 42), ('\"Psychological thriller\"', 26), ('\"Action\"', 24), ('\"Action/Adventure\"', 22), ('\"Drama\"', 19), ('\"Supernatural\"', 14), ('\"Adventure\"', 13), ('\"Disaster\"', 11), ('\"Indie\"', 11), ('\"Mystery\"', 9), ('\"Suspense\"', 9), ('\"World cinema\"', 9), ('\"Doomsday film\"', 7), ('\"Fantasy\"', 7), ('\"Crime Thriller\"', 6), ('\"Natural horror films\"', 4), ('\"Sci-Fi Horror\"', 4), ('\"Zombie Film\"', 4), ('\"Comedy\"', 3), ('\"Creature Film\"', 3), ('\"Film adaptation\"', 3), ('\"Japanese Movies\"', 3), ('\"Action Thrillers\"', 2), ('\"Alien Film\"', 2), ('\"Apocalyptic and post-apocalyptic fiction\"', 2), ('\"B-movie\"', 2), ('\"Black-and-white\"', 2), ('\"Cold War\"', 2), ('\"Crime Fiction\"', 2), ('\"Cult\"', 2), ('\"Dystopia\"', 2), ('\"Fantasy Adventure\"', 2), ('\"Monster movie\"', 2), ('\"Short Film\"', 2), ('\"Television movie\"', 2), ('\"Time travel\"', 2), ('\"Avant-garde\"', 1), ('\"Black comedy\"', 1), ('\"Christian film\"', 1), ('\"Detective\"', 1), ('\"Ensemble Film\"', 1), ('\"Experimental film\"', 1), ('\"Giallo\"', 1), ('\"Jungle Film\"', 1), ('\"Master Criminal Films\"', 1), ('\"Period piece\"', 1), ('\"Plague\"', 1), ('\"Political thriller\"', 1), ('\"Romance Film\"', 1), ('\"Sci-Fi Adventure\"', 1), ('\"Slasher\"', 1), ('\"Space western\"', 1), ('\"Spy\"', 1), ('\"Superhero movie\"', 1), ('\"Superhero\"', 1), ('\"Surrealism\"', 1), ('\"War film\"', 1)]\n"
     ]
    }
   ],
   "source": [
    "print_cluster_neurons_movies_report(9)\n",
    "print(\"-------------------------------------------------\")\n",
    "print_cluster_neurons_movies_report(41)"
   ]
  },
  {
   "cell_type": "markdown",
   "metadata": {
    "_uuid": "ad4d1972f74e9a93a5e9ea055d16c09a41f229f3",
    "colab_type": "text",
    "id": "N1vD7O9Tu3mI"
   },
   "source": [
    "Επίσης, τα clusters 1, 7 βρίσκονται σε αντιδιαμετρικά σημεία του χάρτη και όπως μπορούμε να δούμε περιέχουν πολύ διαφορετικές κατηγορίες ταινιών:"
   ]
  },
  {
   "cell_type": "code",
   "execution_count": 0,
   "metadata": {
    "_uuid": "a2adda3e1cc6c1f41f89ede3da4ebe9f697f094c",
    "colab": {},
    "colab_type": "code",
    "collapsed": false,
    "id": "2byrKydYu3mI",
    "outputId": "90c74c09-94ca-4676-9cf8-b23dde836252"
   },
   "outputs": [
    {
     "name": "stdout",
     "output_type": "stream",
     "text": [
      "[('\"Black-and-white\"', 61), ('\"Comedy\"', 61), ('\"Family Film\"', 19), ('\"Short Film\"', 15), ('\"Musical\"', 7), ('\"Crime Fiction\"', 6), ('\"Silent film\"', 6), ('\"Slapstick\"', 6), ('\"Satire\"', 4), ('\"Fantasy\"', 3), ('\"Parody\"', 3), ('\"War film\"', 3), ('\"Adventure\"', 2), ('\"Children\\'s/Family\"', 2), ('\"Comedy-drama\"', 2), ('\"Crime Comedy\"', 2), ('\"Musical comedy\"', 2), ('\"Romantic comedy\"', 2), ('\"Science Fiction\"', 2), ('\"Screwball comedy\"', 2), ('\"Action Comedy\"', 1), ('\"Action\"', 1), ('\"Animal Picture\"', 1), ('\"Animation\"', 1), ('\"Caper story\"', 1), ('\"Children\\'s\"', 1), ('\"Comedy of Errors\"', 1), ('\"Detective fiction\"', 1), ('\"Detective\"', 1), ('\"Ealing Comedies\"', 1), ('\"Indie\"', 1), ('\"Melodrama\"', 1), ('\"Mystery\"', 1), ('\"Spy\"', 1), ('\"Whodunit\"', 1), ('\"Workplace Comedy\"', 1)]\n",
      "------------------------------\n",
      "[('\"Thriller\"', 165), ('\"Crime Thriller\"', 120), ('\"Crime Fiction\"', 115), ('\"Drama\"', 113), ('\"Mystery\"', 99), ('\"Psychological thriller\"', 49), ('\"Suspense\"', 44), ('\"World cinema\"', 31), ('\"Black-and-white\"', 23), ('\"Film noir\"', 23), ('\"Indie\"', 21), ('\"Film adaptation\"', 18), ('\"Detective\"', 15), ('\"Detective fiction\"', 14), ('\"Crime Drama\"', 12), ('\"Gangster Film\"', 9), ('\"Horror\"', 8), ('\"Action/Adventure\"', 7), ('\"Comedy\"', 7), ('\"Political thriller\"', 7), ('\"Romance Film\"', 7), ('\"Supernatural\"', 7), ('\"Japanese Movies\"', 6), ('\"Romantic drama\"', 5), ('\"Adventure\"', 4), ('\"Courtroom Drama\"', 4), ('\"Erotic thriller\"', 4), ('\"Heist\"', 4), ('\"Period piece\"', 4), ('\"Art film\"', 3), ('\"Political drama\"', 3), ('\"Science Fiction\"', 3), ('\"Surrealism\"', 3), ('\"Television movie\"', 3), ('\"Caper story\"', 2), ('\"Neo-noir\"', 2), ('\"New Hollywood\"', 2), ('\"Road movie\"', 2), ('\"Satire\"', 2), ('\"Slasher\"', 2), ('\"Spy\"', 2), ('\"Action\"', 1), ('\"Addiction Drama\"', 1), ('\"Airplanes and airports\"', 1), ('\"Apocalyptic and post-apocalyptic fiction\"', 1), ('\"Avant-garde\"', 1), ('\"Biography\"', 1), ('\"Blaxploitation\"', 1), ('\"Bollywood\"', 1), ('\"Chase Movie\"', 1), ('\"Comedy Thriller\"', 1), ('\"Comedy film\"', 1), ('\"Comedy-drama\"', 1), ('\"Crime Comedy\"', 1), ('\"Cult\"', 1), ('\"Docudrama\"', 1), ('\"Doomsday film\"', 1), ('\"Dystopia\"', 1), ('\"Ensemble Film\"', 1), ('\"Escape Film\"', 1), ('\"Experimental film\"', 1), ('\"Fantasy\"', 1), ('\"Future noir\"', 1), ('\"Gothic Film\"', 1), ('\"Legal drama\"', 1), ('\"Marriage Drama\"', 1), ('\"Martial Arts Film\"', 1), ('\"Melodrama\"', 1), ('\"Slapstick\"', 1), ('\"Sports\"', 1), ('\"Steampunk\"', 1), ('\"Time travel\"', 1), ('\"Whodunit\"', 1)]\n"
     ]
    }
   ],
   "source": [
    "print_cluster_neurons_movies_report(1)\n",
    "print(\"------------------------------\")\n",
    "print_cluster_neurons_movies_report(7)"
   ]
  },
  {
   "cell_type": "markdown",
   "metadata": {
    "_uuid": "bc3e3225ea4cd6966e3249ac9b1561c1b4d04701",
    "colab_type": "text",
    "id": "lk9jR0avu3mQ"
   },
   "source": [
    "**3.** Πράγματι, ο χάρτης που παρουσιάζουμε έχει μια αρκετά καλή σημασιολογική συνέχεια, δηλαδή μικρές μετακινήσεις προς γειτονικά clusters διατηρούν την θεματολογία. Χοντρικά, ο χάρτης χωρίζεται σε 3 περιοχές: στην πάνω όπου κυριαρχούν comedies, musicals και family movies , στην μεσαία όπου υπάρχουν war movies, adventures, mystery/crime movies και στην κάτω όπου κυριαρχούν κατηγορίες όπως action, thriller, horror.\n",
    "\n",
    "**4.** Αξίζει να αναφερθούμε σε λίγα παραδείγματα ενδιαφέρουσας τοπολογίας, που είναι, κυρίως, επακόλουθο του μεγάλου k στον clustering αλγόριθμο που χρησημοποιήσαμε και επέτρεψε στον χάρτη να βρεί υποκατηγορίες ταινιών. Θυμίζουμε για τελευταία φορά τον πίνακα των clusters:\n"
   ]
  },
  {
   "cell_type": "code",
   "execution_count": 0,
   "metadata": {
    "_uuid": "077d7d6db55b0abfaf4e1b75297087bbf2795aa0",
    "colab": {},
    "colab_type": "code",
    "collapsed": false,
    "id": "TIGnV3ptu3mS",
    "outputId": "e61b163f-ee3a-4c1b-ab17-b0df2f5c8421"
   },
   "outputs": [
    {
     "name": "stdout",
     "output_type": "stream",
     "text": [
      "[[ 1  1 14 14 14  9  9  9 20 20 20 17 17 17 17]\n",
      " [ 1  1 14 14 14  9  9  9 20 20 20 17 17 17 38]\n",
      " [18 18 18 14 14 36 36 36 19 19 19 24 24 38 38]\n",
      " [18 18 18 18 27 27 36 36 19 19 19 28 28 38 10]\n",
      " [18 18 18 18 27 27 27  2  2 19 34 28 28 28 10]\n",
      " [18 18 16 15 15 27  2  2  2 34 34 34 28  0  0]\n",
      " [16 16 16 15 15 15  2  2  2 34 34 22 22  0  0]\n",
      " [16 16 16 11 15 13 13  2  2 37 44 22 22  0  0]\n",
      " [16 39 11 11 43 13 13 13  3 37 44 44 44  8  8]\n",
      " [ 5 39 39 43 43 26 13 21  3  3 44 35 35  8  8]\n",
      " [ 5 39 39 43 26 26 26 21 21 21 25 35 23 23 23]\n",
      " [ 6  6 29 29 29 26 26 21 21 21 25 25 25 32 32]\n",
      " [ 6  6  6 29 29 42 42  4  4  4 40 40 40 32 32]\n",
      " [33 33 30 41 41 41  4  4  4  4 31 40 31  7  7]\n",
      " [33 33 30 12 41 41  4  4  4  4 31 31  7  7  7]]\n"
     ]
    }
   ],
   "source": [
    "print(som.clusters)"
   ]
  },
  {
   "cell_type": "markdown",
   "metadata": {
    "_uuid": "cffaae8a6abecddca569807beb885748dc1bc5f5",
    "colab_type": "text",
    "id": "BtuXMox3u3mX"
   },
   "source": [
    "Βλέπουμε ότι κάτω αριστερά το cluster 41:"
   ]
  },
  {
   "cell_type": "code",
   "execution_count": 0,
   "metadata": {
    "_uuid": "9a18e0ac1fbdc3722265009da2927baf66c49c9e",
    "colab": {},
    "colab_type": "code",
    "collapsed": false,
    "id": "ptQPhTugu3ma",
    "outputId": "dbac37c5-7d3d-45a2-ec6a-7eb0cb46591b"
   },
   "outputs": [
    {
     "name": "stdout",
     "output_type": "stream",
     "text": [
      "[('\"Thriller\"', 69), ('\"Horror\"', 58), ('\"Science Fiction\"', 42), ('\"Psychological thriller\"', 26), ('\"Action\"', 24), ('\"Action/Adventure\"', 22), ('\"Drama\"', 19), ('\"Supernatural\"', 14), ('\"Adventure\"', 13), ('\"Disaster\"', 11), ('\"Indie\"', 11), ('\"Mystery\"', 9), ('\"Suspense\"', 9), ('\"World cinema\"', 9), ('\"Doomsday film\"', 7), ('\"Fantasy\"', 7), ('\"Crime Thriller\"', 6), ('\"Natural horror films\"', 4), ('\"Sci-Fi Horror\"', 4), ('\"Zombie Film\"', 4), ('\"Comedy\"', 3), ('\"Creature Film\"', 3), ('\"Film adaptation\"', 3), ('\"Japanese Movies\"', 3), ('\"Action Thrillers\"', 2), ('\"Alien Film\"', 2), ('\"Apocalyptic and post-apocalyptic fiction\"', 2), ('\"B-movie\"', 2), ('\"Black-and-white\"', 2), ('\"Cold War\"', 2), ('\"Crime Fiction\"', 2), ('\"Cult\"', 2), ('\"Dystopia\"', 2), ('\"Fantasy Adventure\"', 2), ('\"Monster movie\"', 2), ('\"Short Film\"', 2), ('\"Television movie\"', 2), ('\"Time travel\"', 2), ('\"Avant-garde\"', 1), ('\"Black comedy\"', 1), ('\"Christian film\"', 1), ('\"Detective\"', 1), ('\"Ensemble Film\"', 1), ('\"Experimental film\"', 1), ('\"Giallo\"', 1), ('\"Jungle Film\"', 1), ('\"Master Criminal Films\"', 1), ('\"Period piece\"', 1), ('\"Plague\"', 1), ('\"Political thriller\"', 1), ('\"Romance Film\"', 1), ('\"Sci-Fi Adventure\"', 1), ('\"Slasher\"', 1), ('\"Space western\"', 1), ('\"Spy\"', 1), ('\"Superhero movie\"', 1), ('\"Superhero\"', 1), ('\"Surrealism\"', 1), ('\"War film\"', 1)]\n"
     ]
    }
   ],
   "source": [
    "print_cluster_neurons_movies_report(41)"
   ]
  },
  {
   "cell_type": "markdown",
   "metadata": {
    "_uuid": "a20e07fab801a939fa172b5f988c8f93ad516a74",
    "colab_type": "text",
    "id": "1YMaUhYeu3mf"
   },
   "source": [
    "βρίσκεται κοντά στο cluster 30:"
   ]
  },
  {
   "cell_type": "code",
   "execution_count": 0,
   "metadata": {
    "_uuid": "274d0f93acfdcbe2e2bac2ac80d6826f127625e8",
    "colab": {},
    "colab_type": "code",
    "collapsed": false,
    "id": "frOOIJwvu3mh",
    "outputId": "617282d3-456c-43eb-ab67-21a24eaac46c"
   },
   "outputs": [
    {
     "name": "stdout",
     "output_type": "stream",
     "text": [
      "[('\"Horror\"', 22), ('\"Slasher\"', 21), ('\"Thriller\"', 21), ('\"Teen\"', 8), ('\"Psychological thriller\"', 7), ('\"Crime Fiction\"', 4), ('\"Indie\"', 4), ('\"Mystery\"', 4), ('\"Comedy\"', 3), ('\"Drama\"', 3), ('\"Crime Thriller\"', 2), ('\"Cult\"', 2), ('\"Giallo\"', 2), ('\"Suspense\"', 2), ('\"World cinema\"', 2), ('\"B-movie\"', 1), ('\"Black comedy\"', 1), ('\"Docudrama\"', 1), ('\"Film adaptation\"', 1), ('\"Remake\"', 1), ('\"Supernatural\"', 1)]\n"
     ]
    }
   ],
   "source": [
    "print_cluster_neurons_movies_report(30)"
   ]
  },
  {
   "cell_type": "markdown",
   "metadata": {
    "_uuid": "d5b7255cd4fdcff459cc699a1bb855c3218d429b",
    "colab_type": "text",
    "id": "4hf9S3QEu3mk"
   },
   "source": [
    "ενώ ανάμεσα τους είναι το cluster 12: "
   ]
  },
  {
   "cell_type": "code",
   "execution_count": 0,
   "metadata": {
    "_uuid": "3b7c9c83c0c46b90079e5695160c3a7e9e82b3b4",
    "colab": {},
    "colab_type": "code",
    "collapsed": false,
    "id": "tarW9ehzu3ml",
    "outputId": "d63593a5-fbdd-4f89-9111-9d7faec48d94"
   },
   "outputs": [
    {
     "name": "stdout",
     "output_type": "stream",
     "text": [
      "[('\"Horror\"', 63), ('\"Thriller\"', 63), ('\"Supernatural\"', 19), ('\"Mystery\"', 18), ('\"Drama\"', 13), ('\"World cinema\"', 9), ('\"Fantasy\"', 4), ('\"Teen\"', 4), ('\"Adventure\"', 3), ('\"Comedy\"', 3), ('\"Indie\"', 3), ('\"B-movie\"', 2), ('\"Chinese Movies\"', 2), ('\"Crime Fiction\"', 2), ('\"Crime Thriller\"', 2), ('\"Cult\"', 2), ('\"Film adaptation\"', 2), ('\"Gothic Film\"', 2), ('\"Japanese Movies\"', 2), ('\"Romance Film\"', 2), ('\"Suspense\"', 2), ('\"Television movie\"', 2), ('\"Animal Picture\"', 1), ('\"Black comedy\"', 1), ('\"Bollywood\"', 1), ('\"Costume Horror\"', 1), ('\"Demonic child\"', 1), ('\"Detective fiction\"', 1), ('\"Detective\"', 1), ('\"Disaster\"', 1), ('\"Filipino Movies\"', 1), ('\"Film noir\"', 1), ('\"Giallo\"', 1), ('\"Haunted House Film\"', 1), ('\"Juvenile Delinquency Film\"', 1), ('\"Music\"', 1), ('\"Musical\"', 1), ('\"Natural horror films\"', 1), ('\"Period piece\"', 1), ('\"Romantic drama\"', 1), ('\"Zombie Film\"', 1)]\n"
     ]
    }
   ],
   "source": [
    "print_cluster_neurons_movies_report(12)"
   ]
  },
  {
   "cell_type": "markdown",
   "metadata": {
    "_uuid": "245bea52f5e37f69e4aa075b65654168d28fc3af",
    "colab_type": "text",
    "id": "flkzLPdKu3mp"
   },
   "source": [
    "δηλαδή μπόρεσαν και διαχωρίστηκαν οι υποκατηγορίες των θρίλερ \"Splasher\", \"Supernatural\" και \"Psychological thriller\". "
   ]
  },
  {
   "cell_type": "markdown",
   "metadata": {
    "_uuid": "4d0e1bd105fb11b2560b442a25671e0919a8a792",
    "colab_type": "text",
    "id": "4ihuUcjyu3mq"
   },
   "source": [
    "Επίσης, ενδιαφέρων είναι και ο διαχωρισμός του anime απ' τα υπόλοιπα animations"
   ]
  },
  {
   "cell_type": "code",
   "execution_count": 0,
   "metadata": {
    "_uuid": "e03dd2ce5a4989c52807a63086a2478234eff284",
    "colab": {},
    "colab_type": "code",
    "collapsed": false,
    "id": "OSegJXKVu3mt",
    "outputId": "6d03f15d-715f-44ff-e54b-0468e4091d31"
   },
   "outputs": [
    {
     "name": "stdout",
     "output_type": "stream",
     "text": [
      "[('\"Animation\"', 172), ('\"Short Film\"', 131), ('\"Family Film\"', 71), ('\"Comedy film\"', 54), ('\"Musical\"', 13), ('\"Comedy\"', 9), ('\"Computer Animation\"', 8), ('\"Children\\'s/Family\"', 7), ('\"Fantasy\"', 6), ('\"Adventure\"', 5), ('\"Children\\'s\"', 5), ('\"Drama\"', 5), ('\"Science Fiction\"', 4), ('\"Music\"', 3), ('\"Mystery\"', 3), ('\"Romance Film\"', 3), ('\"Stop motion\"', 3), ('\"Fairy tale\"', 2), ('\"Family-Oriented Adventure\"', 2), ('\"Avant-garde\"', 1), ('\"Black-and-white\"', 1), ('\"Children\\'s Fantasy\"', 1), ('\"Documentary\"', 1), ('\"Experimental film\"', 1), ('\"Historical Epic\"', 1), ('\"Horror\"', 1), ('\"Indie\"', 1), ('\"Propaganda film\"', 1), ('\"Sports\"', 1), ('\"Surrealism\"', 1), ('\"Thriller\"', 1), ('\"Western\"', 1), ('\"World cinema\"', 1)]\n",
      "-------------------\n",
      "[('\"Animation\"', 5), ('\"Japanese Movies\"', 4), ('\"Anime\"', 3), ('\"Science Fiction\"', 3), ('\"Documentary\"', 2), ('\"Drama\"', 1), ('\"Fantasy\"', 1), ('\"Indie\"', 1), ('\"Short Film\"', 1), ('\"Steampunk\"', 1), ('\"World cinema\"', 1)]\n"
     ]
    }
   ],
   "source": [
    "print_cluster_neurons_movies_report(16)\n",
    "print(\"-------------------\")\n",
    "print_cluster_neurons_movies_report(11)"
   ]
  },
  {
   "cell_type": "markdown",
   "metadata": {
    "_uuid": "2781b0917a64abc0d69dee24002056291a7ec1a4",
    "colab_type": "text",
    "id": "Gl_JQPWxu3mx"
   },
   "source": [
    "Ωστόσο, σε κάποιες άλλες περιπτώσεις φαίνεται πως έσπασαν συμπαγή clusters στα 2, όπως πάνω δεξιά:"
   ]
  },
  {
   "cell_type": "code",
   "execution_count": 0,
   "metadata": {
    "_uuid": "d33b85936894485e27e745fa4a0289463b742731",
    "colab": {},
    "colab_type": "code",
    "collapsed": false,
    "id": "vV25xAMNu3mx",
    "outputId": "36e21412-39cf-4ee4-a1e8-0bdd5a6d3366"
   },
   "outputs": [
    {
     "name": "stdout",
     "output_type": "stream",
     "text": [
      "[('\"Romance Film\"', 127), ('\"Comedy\"', 126), ('\"Drama\"', 105), ('\"Romantic comedy\"', 83), ('\"Romantic drama\"', 43), ('\"Indie\"', 36), ('\"Comedy-drama\"', 28), ('\"World cinema\"', 13), ('\"Musical\"', 11), ('\"Coming of age\"', 8), ('\"Black-and-white\"', 7), ('\"Comedy of manners\"', 6), ('\"Fantasy\"', 6), ('\"Teen\"', 6), ('\"Domestic Comedy\"', 4), ('\"Family Film\"', 4), ('\"Film adaptation\"', 4), ('\"Music\"', 4), ('\"Buddy film\"', 3), ('\"Ensemble Film\"', 3), ('\"Parody\"', 3), ('\"Sex comedy\"', 3), ('\"Slice of life story\"', 3), ('\"Adventure\"', 2), ('\"Animation\"', 2), ('\"Bollywood\"', 2), ('\"Comedy Thriller\"', 2), ('\"Comedy film\"', 2), ('\"Costume drama\"', 2), ('\"Crime Fiction\"', 2), ('\"Media Satire\"', 2), ('\"Melodrama\"', 2), ('\"Mumblecore\"', 2), ('\"Science Fiction\"', 2), ('\"Sports\"', 2), ('\"Television movie\"', 2), ('\"Thriller\"', 2), ('\"War film\"', 2), ('\"Workplace Comedy\"', 2), ('\"Action\"', 1), ('\"Action/Adventure\"', 1), ('\"Animated Musical\"', 1), ('\"Art film\"', 1), ('\"Black comedy\"', 1), ('\"Children\\'s\"', 1), ('\"Chinese Movies\"', 1), ('\"Courtroom Drama\"', 1), ('\"Cult\"', 1), ('\"Family Drama\"', 1), ('\"Fantasy Comedy\"', 1), ('\"Filipino Movies\"', 1), ('\"Film u00e0 clef\"', 1), ('\"Japanese Movies\"', 1), ('\"Kitchen sink realism\"', 1), ('\"Marriage Drama\"', 1), ('\"Musical comedy\"', 1), ('\"Mystery\"', 1), ('\"New Hollywood\"', 1), ('\"Period piece\"', 1), ('\"Political cinema\"', 1), ('\"Political drama\"', 1), ('\"Pre-Code\"', 1), ('\"Religious Film\"', 1), ('\"Remake\"', 1), ('\"Romantic fantasy\"', 1), ('\"Satire\"', 1), ('\"Screwball comedy\"', 1), ('\"Time travel\"', 1)]\n",
      "-------------------\n",
      "[('\"Comedy\"', 148), ('\"Romantic comedy\"', 107), ('\"Romance Film\"', 90), ('\"Parody\"', 45), ('\"Musical\"', 15), ('\"Screwball comedy\"', 15), ('\"Black-and-white\"', 13), ('\"Indie\"', 10), ('\"Slapstick\"', 10), ('\"Cult\"', 9), ('\"Satire\"', 9), ('\"Black comedy\"', 8), ('\"Science Fiction\"', 8), ('\"Musical comedy\"', 7), ('\"Adventure\"', 6), ('\"Sex comedy\"', 6), ('\"Teen\"', 6), ('\"World cinema\"', 6), ('\"Fantasy\"', 5), ('\"Horror\"', 5), ('\"Comedy of Errors\"', 4), ('\"Comedy of manners\"', 4), ('\"Comedy-drama\"', 4), ('\"Crime Fiction\"', 4), ('\"Political cinema\"', 4), ('\"Action/Adventure\"', 3), ('\"Buddy film\"', 3), ('\"Fantasy Comedy\"', 3), ('\"Gross out\"', 3), ('\"Gross-out film\"', 3), ('\"Media Satire\"', 3), ('\"Remake\"', 3), ('\"Television movie\"', 3), ('\"Thriller\"', 3), ('\"Absurdism\"', 2), ('\"Action\"', 2), ('\"Adventure Comedy\"', 2), ('\"Coming of age\"', 2), ('\"Crime Comedy\"', 2), ('\"Gangster Film\"', 2), ('\"Horror Comedy\"', 2), ('\"Mockumentary\"', 2), ('\"Music\"', 2), ('\"Mystery\"', 2), ('\"Political satire\"', 2), ('\"Sports\"', 2), ('\"Americana\"', 1), ('\"Animation\"', 1), ('\"Bollywood\"', 1), ('\"Chinese Movies\"', 1), ('\"Christmas movie\"', 1), ('\"Costume Adventure\"', 1), ('\"Costume drama\"', 1), ('\"Domestic Comedy\"', 1), ('\"Ensemble Film\"', 1), ('\"Filipino Movies\"', 1), ('\"Filmed Play\"', 1), ('\"Hip hop movies\"', 1), ('\"History\"', 1), ('\"Humour\"', 1), ('\"Hybrid Western\"', 1), ('\"New Hollywood\"', 1), ('\"Pre-Code\"', 1), ('\"Punk rock\"', 1), ('\"Religious Film\"', 1), ('\"Romantic fantasy\"', 1), ('\"Short Film\"', 1), ('\"Slasher\"', 1), ('\"Time travel\"', 1), ('\"Western\"', 1), ('\"Workplace Comedy\"', 1)]\n"
     ]
    }
   ],
   "source": [
    "print_cluster_neurons_movies_report(20)\n",
    "print(\"-------------------\")\n",
    "print_cluster_neurons_movies_report(9)"
   ]
  },
  {
   "cell_type": "markdown",
   "metadata": {
    "_uuid": "316c6c2d9fa69873e7a5dd49b38d4e3eba2c1e83",
    "colab_type": "text",
    "id": "h_U8KauNu3m3"
   },
   "source": [
    "Ωστόσο, σύμφωνα με την κρίση μας ο χάρτης αποτυπώνει πολύ χρήσιμη πληροφορία και η επιλογή τόσο μεγάλου k είναι εύστοχη, όπως φαίνεται απ' όλα τα πρροηγούμενα αποτελέσματα."
   ]
  },
  {
   "cell_type": "markdown",
   "metadata": {
    "_uuid": "03029f8efdc815511c66b9c66fc43bd37d3e812f",
    "colab_type": "text",
    "id": "4xVXTLjUu3m5"
   },
   "source": [
    "## Αναφορές\n",
    "\n",
    "* [ 1 ] Principal Manifolds for Data Visualisation and Dimension Reduction, LNCSE 58\n",
    "* [ 2 ] SOM: Stochastic initialization versus principal components"
   ]
  },
  {
   "cell_type": "markdown",
   "metadata": {
    "_uuid": "6147f00377f2d0d204ab903edd3d5b532e561a8e",
    "colab_type": "text",
    "id": "tYjxGR5DawIy"
   },
   "source": [
    "\n",
    "# Τελική παράδοση άσκησης\n",
    "\n",
    "- Θα παραδώσετε στο mycourses το παρόν notebook επεξεργασμένο με τις απαντήσεις σας για τα ζητούμενα και των δύο εφαρμογών. \n",
    "- Προσέξτε ώστε να **απαντήσετε σε όλα τα σημεία όπου απαιτείται**.\n",
    "- Μαζί Θα παραδώσετε τα joblib dumps των τελικών `corpus_tf_idf.pkl` και `som.pkl` (μεγάλος χάρτης - 5000 ταινίες) που θα χρησιμοποιήσετε. Θυμηθείτε ότι η ανάλυση του χάρτη στο markdown με αναφορά σε αριθμούς clusters πρέπει να αναφέρεται στο dump του χάρτη που θα μας παραδώσετε αλλιώς ο χάρτης που θα προκύψει θα είναι διαφορετικός και τα labels των clusters δεν θα αντιστοιχούν στην ανάλυσή σας. Οδηγίες για την αποθήκευση των dumps θα βρείτε στο [FAQ](https://docs.google.com/document/d/1jL4gRag_LHbVCYIt5XVJ53iJPb6RZWi02rT5mPXiqEU/edit?usp=sharing). \n",
    "- Μην ξεχάσετε στην αρχή ένα κελί markdown με **τα στοιχεία της ομάδας σας**.\n",
    "- Στο **zip** που θα παραδώσετε πρέπει να βρίσκονται **4 αρχεία (το .ipynb και το .py του notebook καθώς και τα δύο .pkl)**\n",
    "- **Το maximum upload filesize στο mycourses είναι 29MB**, εάν το zip σας είναι μεγαλύτερο, δεν έχετε βελτιστοποιήσει το tfidf."
   ]
  },
  {
   "cell_type": "markdown",
   "metadata": {
    "_uuid": "ac657f3b85ead74bec94d1090856c85193b5e3a5",
    "colab_type": "text",
    "id": "PX-4CNS_u3m6"
   },
   "source": []
  },
  {
   "cell_type": "code",
   "execution_count": 0,
   "metadata": {
    "_uuid": "ad902ff604b5dfe4f883db72c9813574ef356990",
    "colab": {},
    "colab_type": "code",
    "collapsed": false,
    "id": "-Vem72Kwu3m8",
    "outputId": "e2d6bbd6-7aac-4c0b-e17a-a2cde7c4e2ab"
   },
   "outputs": [
    {
     "data": {
      "text/html": [
       "./<br>\n",
       "&nbsp;&nbsp;<a href='./corpus_tf_idf.pkl' target='_blank'>corpus_tf_idf.pkl</a><br>\n",
       "&nbsp;&nbsp;<a href='./som.pkl' target='_blank'>som.pkl</a><br>\n",
       "&nbsp;&nbsp;<a href='./__notebook_source__.ipynb' target='_blank'>__notebook_source__.ipynb</a><br>"
      ],
      "text/plain": [
       "./\n",
       "  corpus_tf_idf.pkl\n",
       "  som.pkl\n",
       "  __notebook_source__.ipynb"
      ]
     },
     "execution_count": 212,
     "metadata": {
      "tags": []
     },
     "output_type": "execute_result"
    }
   ],
   "source": [
    "from IPython.display import FileLink, FileLinks\n",
    "FileLinks('.')"
   ]
  },
  {
   "cell_type": "markdown",
   "metadata": {
    "_uuid": "5442d6bed1c8370b2dd6970c4c2b6571fc9c6617",
    "colab_type": "text",
    "id": "UHhCkvxjnitd"
   },
   "source": [
    "<table>\n",
    "  <tr>\n",
    "    <td bgcolor=\"#FCF8E3\"><font size=\"4\">ΞΑΝΑ: Παρακαλούμε διατρέξτε βήμα-βήμα το notebook για να μην ξεχάσετε παραδοτέα!!</font>\n",
    "</td>\n",
    "  </tr>\n",
    "</table>\n"
   ]
  }
 ],
 "metadata": {
  "accelerator": "GPU",
  "colab": {
   "collapsed_sections": [],
   "name": "Movie_Recommender.ipynb",
   "provenance": [],
   "toc_visible": true,
   "version": "0.3.2"
  },
  "kernelspec": {
   "display_name": "Python 3",
   "language": "python",
   "name": "python3"
  },
  "language_info": {
   "codemirror_mode": {
    "name": "ipython",
    "version": 3
   },
   "file_extension": ".py",
   "mimetype": "text/x-python",
   "name": "python",
   "nbconvert_exporter": "python",
   "pygments_lexer": "ipython3",
   "version": "3.6.0"
  }
 },
 "nbformat": 4,
 "nbformat_minor": 0
}
